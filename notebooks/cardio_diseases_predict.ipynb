{
 "cells": [
  {
   "cell_type": "markdown",
   "id": "de53f26e",
   "metadata": {},
   "source": [
    "# 0.0 Business Problem"
   ]
  },
  {
   "cell_type": "markdown",
   "id": "0e436e69",
   "metadata": {},
   "source": [
    "## Estágio do projeto:\n",
    "Ciclo 2: Data cleaning\n",
    "\n",
    "## 0.1 Contexto\n",
    "\n",
    "A Empresa Cardio Catch Diseases (CCD)\n",
    "A Cadio Catch Diseases é uma empresa especializada em detecção de doenças cardíacas em estágios iniciais. O seu modelo de negócio é do tipo Serviço, ou seja, a empresa ofereço o diagnóstico precoce de uma doença cardiovascular por um certo preço.\n",
    "\n",
    "Atualmente, o diagnóstico de uma doença cardiovascular é feita manualmente por uma equipe de especialistas. A precisão atual do diagnóstico varia entre 55% e 65%, devido a complexidade do diagnóstico e também da fadiga da equipe que se revezam em turnos para minimizar os riscos. O custo de cada diagnóstico, incluindo os aparelhos e a folha de pagamento dos analistas, gira em torno de 1.000 reais.\n",
    "\n",
    "O preço do diagnóstico, pago pelo cliente, varia de acordo com a precisão conseguida pelo time de especialistas, o cliente paga 500 reais a cada 5% de acurácia acima de 50%. Por exemplo, para uma precisão de 55%, o diagnóstico custa 500 reais para o cliente, para uma precisão de 60%, o valor é de 1000 reais e assim por diante. Se a precisão do diagnóstico for 50% o cliente não paga por ele.\n",
    "\n",
    "Observe que a variação da precisão dada pelo time de especialistas, faz com que a empresa tenha ora uma operação com lucro, receita maior que o custo, ora uma operação com prejuízo, receita menor que o custo. Essa instabilidade do diagnóstico faz com que a empresa tenha um Cashflow imprevisível.\n",
    "\n",
    "Projeto retirado do Blog Seja Um Data Scientist\n",
    "https://sejaumdatascientist.com/projeto-de-data-science-diagnostico-precoce-de-doencas-cardiovasculares/\n",
    "\n",
    "Projeto original disponível na plataforma Kaggle\n",
    "https://www.kaggle.com/sulianova/cardiovascular-disease-dataset\n",
    "\n",
    "## 0.2 Planejamento da Solução:\n",
    "\n",
    "### 0.2.1 Objetivos:\n",
    "\n",
    "1. Qual a Acurácia e a Precisão da ferramenta?\n",
    "2. Quanto lucro a Cardio Catch Diseases passará a ter com a nova ferramenta?\n",
    "3. Qual a Confiabilidade do resultado dados pela nova ferramenta?\n",
    "\n",
    "### 0.2.2 Entregas:\n",
    "1. Alguns parâmetros da métrica\n",
    "2. Um número que representa o total de retorno financeiro\n",
    "3. Parâmetros de credibilidade\n",
    "\n",
    "### 0.2.3 Estratégia da solução:\n",
    "1. Tratamento dos dados, feature engineering, seleção de features, treinamento do modelo, configuração de hiperparâmetros, seleção de modelos.\n",
    "2. Definir baseline, custos, faturamentos e margens envolvidas no cenário \"AS IS\". Utilizar métrica de performance do modelo para projetar o cenário \"TO BE\". Calcular diferenças de margens entre os cenários.\n",
    "3. Realizar calculos por inferência bayesiana\n",
    "\n",
    "### 0.2.4 Planejamento da execução:\n",
    "\n",
    "1. Ciclo 1: Criar um pipeline de dados funcional de ponta a ponta, desde a coleta dos dados até o treinamento do modelo\n",
    "2. Ciclo 2: Data cleaning\n",
    "3. Ciclo 3: Estatística de primeira e segunda ordens\n",
    "4. Ciclo 4: Exploração de dados\n",
    "5. Ciclo 5: Criação de hipóteses de negócio\n",
    "6. Ciclo 6: Testes de hipóteses\n",
    "7. Ciclo 7: Seleção de features\n",
    "8. Ciclo 8: Preparação dos dados\n",
    "9. Ciclo 9: Aperfeiçoamento da performance de predições\n",
    "10. Ciclo 10: Deploy\n",
    "\n",
    "## 0.3 Glossário de Features:\n",
    "\n",
    "### Natureza das features:\n",
    "\n",
    "1. Objective: factual information;\n",
    "2. Examination: results of medical examination;\n",
    "3. Subjective: information given by the patient.\n",
    "\n",
    "### Features:\n",
    "\n",
    "1. Age | Objective Feature | age | int (days)\n",
    "2. Height | Objective Feature | height | int (cm) |\n",
    "3. Weight | Objective Feature | weight | float (kg) |\n",
    "4. Gender | Objective Feature | gender | categorical code | 1 - women, 2 - men\n",
    "5. Systolic blood pressure | Examination Feature | ap_hi | int |\n",
    "6. Diastolic blood pressure | Examination Feature | ap_lo | int |\n",
    "7. Cholesterol | Examination Feature | cholesterol | 1: normal, 2: above normal, 3: well above normal |\n",
    "8. Glucose | Examination Feature | gluc | 1: normal, 2: above normal, 3: well above normal |\n",
    "9. Smoking | Subjective Feature | smoke | binary |\n",
    "10. Alcohol intake | Subjective Feature | alco | binary |\n",
    "11. Physical activity | Subjective Feature | active | binary |\n",
    "12. Presence or absence of cardiovascular disease | Target Variable | cardio | binary |\n",
    "\n",
    "## 0.4 Hipóteses Assumidas:\n",
    "1. ...\n",
    "\n",
    "## 0.5 Sumário:\n",
    "\n",
    "## 0.6 Resultados e Conclusão:"
   ]
  },
  {
   "cell_type": "markdown",
   "id": "03007925",
   "metadata": {},
   "source": [
    "# 1.0 Imports"
   ]
  },
  {
   "cell_type": "markdown",
   "id": "3490950f",
   "metadata": {},
   "source": [
    "## 1.1 Libraries"
   ]
  },
  {
   "cell_type": "code",
   "execution_count": 1,
   "id": "8ef3ed94",
   "metadata": {
    "ExecuteTime": {
     "end_time": "2021-12-30T23:00:22.121396Z",
     "start_time": "2021-12-30T23:00:14.170437Z"
    }
   },
   "outputs": [],
   "source": [
    "import pandas as pd\n",
    "import numpy as np\n",
    "import matplotlib.pyplot as plt\n",
    "import seaborn as sns\n",
    "from sklearn.ensemble import RandomForestClassifier\n",
    "from sklearn.model_selection import train_test_split\n",
    "from sklearn.metrics import classification_report\n",
    "\n",
    "import time\n",
    "\n",
    "tempo_agora = time.time()"
   ]
  },
  {
   "cell_type": "markdown",
   "id": "8b3718c7",
   "metadata": {},
   "source": [
    "## 1.2 Helper Functions"
   ]
  },
  {
   "cell_type": "code",
   "execution_count": 2,
   "id": "85ca7992",
   "metadata": {
    "ExecuteTime": {
     "end_time": "2021-12-30T23:00:22.135867Z",
     "start_time": "2021-12-30T23:00:22.121396Z"
    }
   },
   "outputs": [],
   "source": [
    "# buscar outliers pelo método de Tukey\n",
    "def buscar_outliers(df, col):\n",
    "    primeiro_quartil = df[col].quantile(0.25)\n",
    "    terceiro_quartil = df[col].quantile(0.75)\n",
    "    range_ = terceiro_quartil - primeiro_quartil\n",
    "    salto = range_ * 1.5\n",
    "    outliers_indices = df[(df[col]<primeiro_quartil - salto)|(df[col]>terceiro_quartil + salto)].index\n",
    "    return outliers_indices"
   ]
  },
  {
   "cell_type": "markdown",
   "id": "05a99f8f",
   "metadata": {},
   "source": [
    "## 1.3 Loading Dataset"
   ]
  },
  {
   "cell_type": "code",
   "execution_count": 3,
   "id": "d945249e",
   "metadata": {
    "ExecuteTime": {
     "end_time": "2021-12-30T23:00:22.279131Z",
     "start_time": "2021-12-30T23:00:22.135867Z"
    }
   },
   "outputs": [],
   "source": [
    "df = pd.read_csv('D:\\\\My drive\\\\Pessoal\\\\Projetos\\\\cardio_diseases_predict\\\\cardio_diseases_predict\\\\cardio_train.csv', sep=';')"
   ]
  },
  {
   "cell_type": "markdown",
   "id": "6d9aa1b1",
   "metadata": {},
   "source": [
    "# 2.0 Data Description and Cleaning"
   ]
  },
  {
   "cell_type": "markdown",
   "id": "1eb933ec",
   "metadata": {},
   "source": [
    "## 2.1 Main insights:\n",
    "1. **Age:** com range entre 29 e 64 anos\n",
    "2. **Gender:** mulheres são maioria com 65% do total\n",
    "3. **Cholesterol:** 75% dos pacientes possuem colesterol normal\n",
    "4. **Glucose:** 85% dos pacientes apresentam nível normal de glicemia\n",
    "5. **Alcohol Intake:** 95% dos pacientes não consomem bebidas alcólicas\n",
    "6. **Physical activity:** 50% praticam atividades físicas"
   ]
  },
  {
   "cell_type": "markdown",
   "id": "ef2a54e4",
   "metadata": {},
   "source": [
    "## 2.2 General Analysis"
   ]
  },
  {
   "cell_type": "markdown",
   "id": "72a688ea",
   "metadata": {},
   "source": [
    "##### 2.2 Looking dataset"
   ]
  },
  {
   "cell_type": "code",
   "execution_count": 4,
   "id": "bdd76abb",
   "metadata": {
    "ExecuteTime": {
     "end_time": "2021-12-30T23:00:22.317374Z",
     "start_time": "2021-12-30T23:00:22.279131Z"
    }
   },
   "outputs": [
    {
     "data": {
      "text/html": [
       "<div>\n",
       "<style scoped>\n",
       "    .dataframe tbody tr th:only-of-type {\n",
       "        vertical-align: middle;\n",
       "    }\n",
       "\n",
       "    .dataframe tbody tr th {\n",
       "        vertical-align: top;\n",
       "    }\n",
       "\n",
       "    .dataframe thead th {\n",
       "        text-align: right;\n",
       "    }\n",
       "</style>\n",
       "<table border=\"1\" class=\"dataframe\">\n",
       "  <thead>\n",
       "    <tr style=\"text-align: right;\">\n",
       "      <th></th>\n",
       "      <th>id</th>\n",
       "      <th>age</th>\n",
       "      <th>gender</th>\n",
       "      <th>height</th>\n",
       "      <th>weight</th>\n",
       "      <th>ap_hi</th>\n",
       "      <th>ap_lo</th>\n",
       "      <th>cholesterol</th>\n",
       "      <th>gluc</th>\n",
       "      <th>smoke</th>\n",
       "      <th>alco</th>\n",
       "      <th>active</th>\n",
       "      <th>cardio</th>\n",
       "    </tr>\n",
       "  </thead>\n",
       "  <tbody>\n",
       "    <tr>\n",
       "      <th>0</th>\n",
       "      <td>0</td>\n",
       "      <td>18393</td>\n",
       "      <td>2</td>\n",
       "      <td>168</td>\n",
       "      <td>62.0</td>\n",
       "      <td>110</td>\n",
       "      <td>80</td>\n",
       "      <td>1</td>\n",
       "      <td>1</td>\n",
       "      <td>0</td>\n",
       "      <td>0</td>\n",
       "      <td>1</td>\n",
       "      <td>0</td>\n",
       "    </tr>\n",
       "    <tr>\n",
       "      <th>1</th>\n",
       "      <td>1</td>\n",
       "      <td>20228</td>\n",
       "      <td>1</td>\n",
       "      <td>156</td>\n",
       "      <td>85.0</td>\n",
       "      <td>140</td>\n",
       "      <td>90</td>\n",
       "      <td>3</td>\n",
       "      <td>1</td>\n",
       "      <td>0</td>\n",
       "      <td>0</td>\n",
       "      <td>1</td>\n",
       "      <td>1</td>\n",
       "    </tr>\n",
       "    <tr>\n",
       "      <th>2</th>\n",
       "      <td>2</td>\n",
       "      <td>18857</td>\n",
       "      <td>1</td>\n",
       "      <td>165</td>\n",
       "      <td>64.0</td>\n",
       "      <td>130</td>\n",
       "      <td>70</td>\n",
       "      <td>3</td>\n",
       "      <td>1</td>\n",
       "      <td>0</td>\n",
       "      <td>0</td>\n",
       "      <td>0</td>\n",
       "      <td>1</td>\n",
       "    </tr>\n",
       "    <tr>\n",
       "      <th>3</th>\n",
       "      <td>3</td>\n",
       "      <td>17623</td>\n",
       "      <td>2</td>\n",
       "      <td>169</td>\n",
       "      <td>82.0</td>\n",
       "      <td>150</td>\n",
       "      <td>100</td>\n",
       "      <td>1</td>\n",
       "      <td>1</td>\n",
       "      <td>0</td>\n",
       "      <td>0</td>\n",
       "      <td>1</td>\n",
       "      <td>1</td>\n",
       "    </tr>\n",
       "    <tr>\n",
       "      <th>4</th>\n",
       "      <td>4</td>\n",
       "      <td>17474</td>\n",
       "      <td>1</td>\n",
       "      <td>156</td>\n",
       "      <td>56.0</td>\n",
       "      <td>100</td>\n",
       "      <td>60</td>\n",
       "      <td>1</td>\n",
       "      <td>1</td>\n",
       "      <td>0</td>\n",
       "      <td>0</td>\n",
       "      <td>0</td>\n",
       "      <td>0</td>\n",
       "    </tr>\n",
       "  </tbody>\n",
       "</table>\n",
       "</div>"
      ],
      "text/plain": [
       "   id    age  gender  height  weight  ap_hi  ap_lo  cholesterol  gluc  smoke  \\\n",
       "0   0  18393       2     168    62.0    110     80            1     1      0   \n",
       "1   1  20228       1     156    85.0    140     90            3     1      0   \n",
       "2   2  18857       1     165    64.0    130     70            3     1      0   \n",
       "3   3  17623       2     169    82.0    150    100            1     1      0   \n",
       "4   4  17474       1     156    56.0    100     60            1     1      0   \n",
       "\n",
       "   alco  active  cardio  \n",
       "0     0       1       0  \n",
       "1     0       1       1  \n",
       "2     0       0       1  \n",
       "3     0       1       1  \n",
       "4     0       0       0  "
      ]
     },
     "execution_count": 4,
     "metadata": {},
     "output_type": "execute_result"
    }
   ],
   "source": [
    "df.head(5)"
   ]
  },
  {
   "cell_type": "markdown",
   "id": "1325fe29",
   "metadata": {},
   "source": [
    "##### 2.3 Data Dimensions"
   ]
  },
  {
   "cell_type": "code",
   "execution_count": 5,
   "id": "40a08107",
   "metadata": {
    "ExecuteTime": {
     "end_time": "2021-12-30T23:00:22.334182Z",
     "start_time": "2021-12-30T23:00:22.317374Z"
    }
   },
   "outputs": [
    {
     "name": "stdout",
     "output_type": "stream",
     "text": [
      "Number of rows: 70000\n",
      "Number of columns: 13\n"
     ]
    }
   ],
   "source": [
    "print(f'Number of rows: {df.shape[0]}')\n",
    "print(f'Number of columns: {df.shape[1]}')"
   ]
  },
  {
   "cell_type": "markdown",
   "id": "a547692a",
   "metadata": {},
   "source": [
    "##### 2.4 Data Types"
   ]
  },
  {
   "cell_type": "code",
   "execution_count": 6,
   "id": "029612a9",
   "metadata": {
    "ExecuteTime": {
     "end_time": "2021-12-30T23:00:22.360568Z",
     "start_time": "2021-12-30T23:00:22.336525Z"
    },
    "scrolled": true
   },
   "outputs": [
    {
     "data": {
      "text/plain": [
       "id               int64\n",
       "age              int64\n",
       "gender           int64\n",
       "height           int64\n",
       "weight         float64\n",
       "ap_hi            int64\n",
       "ap_lo            int64\n",
       "cholesterol      int64\n",
       "gluc             int64\n",
       "smoke            int64\n",
       "alco             int64\n",
       "active           int64\n",
       "cardio           int64\n",
       "dtype: object"
      ]
     },
     "execution_count": 6,
     "metadata": {},
     "output_type": "execute_result"
    }
   ],
   "source": [
    "df.dtypes"
   ]
  },
  {
   "cell_type": "markdown",
   "id": "3256ccaa",
   "metadata": {},
   "source": [
    "##### 2.5 Check NaNs"
   ]
  },
  {
   "cell_type": "code",
   "execution_count": 7,
   "id": "ae04ab13",
   "metadata": {
    "ExecuteTime": {
     "end_time": "2021-12-30T23:00:22.377373Z",
     "start_time": "2021-12-30T23:00:22.360568Z"
    },
    "scrolled": true
   },
   "outputs": [
    {
     "data": {
      "text/plain": [
       "id             0\n",
       "age            0\n",
       "gender         0\n",
       "height         0\n",
       "weight         0\n",
       "ap_hi          0\n",
       "ap_lo          0\n",
       "cholesterol    0\n",
       "gluc           0\n",
       "smoke          0\n",
       "alco           0\n",
       "active         0\n",
       "cardio         0\n",
       "dtype: int64"
      ]
     },
     "execution_count": 7,
     "metadata": {},
     "output_type": "execute_result"
    }
   ],
   "source": [
    "df.isna().sum()"
   ]
  },
  {
   "cell_type": "markdown",
   "id": "7090f244",
   "metadata": {},
   "source": [
    "##### 2.6 Changing interesting features"
   ]
  },
  {
   "cell_type": "markdown",
   "id": "db3d459e",
   "metadata": {},
   "source": [
    "Para uma melhor análise a idade será transformada de dias para anos"
   ]
  },
  {
   "cell_type": "code",
   "execution_count": 8,
   "id": "61ea4e33",
   "metadata": {
    "ExecuteTime": {
     "end_time": "2021-12-30T23:00:22.402465Z",
     "start_time": "2021-12-30T23:00:22.377373Z"
    }
   },
   "outputs": [],
   "source": [
    "df['age_'] = df['age'] / 365\n",
    "df['age_'] = df['age_'].astype('int')"
   ]
  },
  {
   "cell_type": "markdown",
   "id": "4a1bbab4",
   "metadata": {},
   "source": [
    "##### 2.7 Segragating feature types"
   ]
  },
  {
   "cell_type": "code",
   "execution_count": 9,
   "id": "4dc74d8d",
   "metadata": {
    "ExecuteTime": {
     "end_time": "2021-12-30T23:00:22.418468Z",
     "start_time": "2021-12-30T23:00:22.402465Z"
    }
   },
   "outputs": [],
   "source": [
    "features_target = ['cardio']\n",
    "features_remover = ['id', 'age_']\n",
    "features_numéricas = ['age_', 'height', 'weight', 'ap_hi', 'ap_lo']\n",
    "features_categóricas = ['gender', 'cholesterol', 'gluc', 'smoke', 'alco', 'active', 'cardio']"
   ]
  },
  {
   "cell_type": "markdown",
   "id": "84785332",
   "metadata": {},
   "source": [
    "## 2.3 Descriptive Statistics"
   ]
  },
  {
   "cell_type": "markdown",
   "id": "c36c3f59",
   "metadata": {},
   "source": [
    "##### 2.3.1 Numerical Features"
   ]
  },
  {
   "cell_type": "code",
   "execution_count": 10,
   "id": "d52abafe",
   "metadata": {
    "ExecuteTime": {
     "end_time": "2021-12-30T23:00:22.499511Z",
     "start_time": "2021-12-30T23:00:22.419493Z"
    },
    "scrolled": false
   },
   "outputs": [
    {
     "data": {
      "text/html": [
       "<div>\n",
       "<style scoped>\n",
       "    .dataframe tbody tr th:only-of-type {\n",
       "        vertical-align: middle;\n",
       "    }\n",
       "\n",
       "    .dataframe tbody tr th {\n",
       "        vertical-align: top;\n",
       "    }\n",
       "\n",
       "    .dataframe thead th {\n",
       "        text-align: right;\n",
       "    }\n",
       "</style>\n",
       "<table border=\"1\" class=\"dataframe\">\n",
       "  <thead>\n",
       "    <tr style=\"text-align: right;\">\n",
       "      <th></th>\n",
       "      <th>age_</th>\n",
       "      <th>height</th>\n",
       "      <th>weight</th>\n",
       "      <th>ap_hi</th>\n",
       "      <th>ap_lo</th>\n",
       "    </tr>\n",
       "  </thead>\n",
       "  <tbody>\n",
       "    <tr>\n",
       "      <th>count</th>\n",
       "      <td>70000.000000</td>\n",
       "      <td>70000.000000</td>\n",
       "      <td>70000.000000</td>\n",
       "      <td>70000.000000</td>\n",
       "      <td>70000.000000</td>\n",
       "    </tr>\n",
       "    <tr>\n",
       "      <th>mean</th>\n",
       "      <td>52.840671</td>\n",
       "      <td>164.359229</td>\n",
       "      <td>74.205690</td>\n",
       "      <td>128.817286</td>\n",
       "      <td>96.630414</td>\n",
       "    </tr>\n",
       "    <tr>\n",
       "      <th>std</th>\n",
       "      <td>6.766774</td>\n",
       "      <td>8.210126</td>\n",
       "      <td>14.395757</td>\n",
       "      <td>154.011419</td>\n",
       "      <td>188.472530</td>\n",
       "    </tr>\n",
       "    <tr>\n",
       "      <th>min</th>\n",
       "      <td>29.000000</td>\n",
       "      <td>55.000000</td>\n",
       "      <td>10.000000</td>\n",
       "      <td>-150.000000</td>\n",
       "      <td>-70.000000</td>\n",
       "    </tr>\n",
       "    <tr>\n",
       "      <th>25%</th>\n",
       "      <td>48.000000</td>\n",
       "      <td>159.000000</td>\n",
       "      <td>65.000000</td>\n",
       "      <td>120.000000</td>\n",
       "      <td>80.000000</td>\n",
       "    </tr>\n",
       "    <tr>\n",
       "      <th>50%</th>\n",
       "      <td>53.000000</td>\n",
       "      <td>165.000000</td>\n",
       "      <td>72.000000</td>\n",
       "      <td>120.000000</td>\n",
       "      <td>80.000000</td>\n",
       "    </tr>\n",
       "    <tr>\n",
       "      <th>75%</th>\n",
       "      <td>58.000000</td>\n",
       "      <td>170.000000</td>\n",
       "      <td>82.000000</td>\n",
       "      <td>140.000000</td>\n",
       "      <td>90.000000</td>\n",
       "    </tr>\n",
       "    <tr>\n",
       "      <th>max</th>\n",
       "      <td>64.000000</td>\n",
       "      <td>250.000000</td>\n",
       "      <td>200.000000</td>\n",
       "      <td>16020.000000</td>\n",
       "      <td>11000.000000</td>\n",
       "    </tr>\n",
       "  </tbody>\n",
       "</table>\n",
       "</div>"
      ],
      "text/plain": [
       "               age_        height        weight         ap_hi         ap_lo\n",
       "count  70000.000000  70000.000000  70000.000000  70000.000000  70000.000000\n",
       "mean      52.840671    164.359229     74.205690    128.817286     96.630414\n",
       "std        6.766774      8.210126     14.395757    154.011419    188.472530\n",
       "min       29.000000     55.000000     10.000000   -150.000000    -70.000000\n",
       "25%       48.000000    159.000000     65.000000    120.000000     80.000000\n",
       "50%       53.000000    165.000000     72.000000    120.000000     80.000000\n",
       "75%       58.000000    170.000000     82.000000    140.000000     90.000000\n",
       "max       64.000000    250.000000    200.000000  16020.000000  11000.000000"
      ]
     },
     "execution_count": 10,
     "metadata": {},
     "output_type": "execute_result"
    }
   ],
   "source": [
    "df[features_numéricas].describe()"
   ]
  },
  {
   "cell_type": "markdown",
   "id": "c590f7bf",
   "metadata": {},
   "source": [
    "Range de idade entre 29 e 64 anos, altura máxima de 2 metros e meio provavelmente indica erros de input, peso mínimo de 10kgs tratando-se de adutos indica erros de input, pressão arterial com valores negativos tanto no ap_hi quanto no ap_lo, assim como seus máximos."
   ]
  },
  {
   "cell_type": "markdown",
   "id": "11cbea9e",
   "metadata": {},
   "source": [
    "##### 2.3.2  Categorical Features"
   ]
  },
  {
   "cell_type": "code",
   "execution_count": 11,
   "id": "27f36d20",
   "metadata": {
    "ExecuteTime": {
     "end_time": "2021-12-30T23:00:22.579003Z",
     "start_time": "2021-12-30T23:00:22.503051Z"
    },
    "scrolled": true
   },
   "outputs": [
    {
     "data": {
      "text/html": [
       "<div>\n",
       "<style scoped>\n",
       "    .dataframe tbody tr th:only-of-type {\n",
       "        vertical-align: middle;\n",
       "    }\n",
       "\n",
       "    .dataframe tbody tr th {\n",
       "        vertical-align: top;\n",
       "    }\n",
       "\n",
       "    .dataframe thead th {\n",
       "        text-align: right;\n",
       "    }\n",
       "</style>\n",
       "<table border=\"1\" class=\"dataframe\">\n",
       "  <thead>\n",
       "    <tr style=\"text-align: right;\">\n",
       "      <th></th>\n",
       "      <th>gender</th>\n",
       "      <th>cholesterol</th>\n",
       "      <th>gluc</th>\n",
       "      <th>smoke</th>\n",
       "      <th>alco</th>\n",
       "      <th>active</th>\n",
       "      <th>cardio</th>\n",
       "    </tr>\n",
       "  </thead>\n",
       "  <tbody>\n",
       "    <tr>\n",
       "      <th>count</th>\n",
       "      <td>70000</td>\n",
       "      <td>70000</td>\n",
       "      <td>70000</td>\n",
       "      <td>70000</td>\n",
       "      <td>70000</td>\n",
       "      <td>70000</td>\n",
       "      <td>70000</td>\n",
       "    </tr>\n",
       "    <tr>\n",
       "      <th>unique</th>\n",
       "      <td>2</td>\n",
       "      <td>3</td>\n",
       "      <td>3</td>\n",
       "      <td>2</td>\n",
       "      <td>2</td>\n",
       "      <td>2</td>\n",
       "      <td>2</td>\n",
       "    </tr>\n",
       "    <tr>\n",
       "      <th>top</th>\n",
       "      <td>1</td>\n",
       "      <td>1</td>\n",
       "      <td>1</td>\n",
       "      <td>0</td>\n",
       "      <td>0</td>\n",
       "      <td>1</td>\n",
       "      <td>0</td>\n",
       "    </tr>\n",
       "    <tr>\n",
       "      <th>freq</th>\n",
       "      <td>45530</td>\n",
       "      <td>52385</td>\n",
       "      <td>59479</td>\n",
       "      <td>63831</td>\n",
       "      <td>66236</td>\n",
       "      <td>56261</td>\n",
       "      <td>35021</td>\n",
       "    </tr>\n",
       "  </tbody>\n",
       "</table>\n",
       "</div>"
      ],
      "text/plain": [
       "        gender  cholesterol   gluc  smoke   alco  active  cardio\n",
       "count    70000        70000  70000  70000  70000   70000   70000\n",
       "unique       2            3      3      2      2       2       2\n",
       "top          1            1      1      0      0       1       0\n",
       "freq     45530        52385  59479  63831  66236   56261   35021"
      ]
     },
     "execution_count": 11,
     "metadata": {},
     "output_type": "execute_result"
    }
   ],
   "source": [
    "df[features_categóricas].astype('category').describe()"
   ]
  },
  {
   "cell_type": "markdown",
   "id": "6bae81b4",
   "metadata": {},
   "source": [
    "Mulheres são maioria com 65% do total, 75% dos pacientes possuem colesterol normal, 85% dos pacientes apresentam nível normal de glicemia, 95% dos pacientes não consomem bebidas alcólicas, 50% praticam atividades físicas"
   ]
  },
  {
   "cell_type": "markdown",
   "id": "c3cc234b",
   "metadata": {},
   "source": [
    "##### 2.3.3 Correlations"
   ]
  },
  {
   "cell_type": "code",
   "execution_count": 12,
   "id": "d4528e46",
   "metadata": {
    "ExecuteTime": {
     "end_time": "2021-12-30T23:00:22.691219Z",
     "start_time": "2021-12-30T23:00:22.579003Z"
    }
   },
   "outputs": [
    {
     "data": {
      "text/html": [
       "<div>\n",
       "<style scoped>\n",
       "    .dataframe tbody tr th:only-of-type {\n",
       "        vertical-align: middle;\n",
       "    }\n",
       "\n",
       "    .dataframe tbody tr th {\n",
       "        vertical-align: top;\n",
       "    }\n",
       "\n",
       "    .dataframe thead th {\n",
       "        text-align: right;\n",
       "    }\n",
       "</style>\n",
       "<table border=\"1\" class=\"dataframe\">\n",
       "  <thead>\n",
       "    <tr style=\"text-align: right;\">\n",
       "      <th></th>\n",
       "      <th>age</th>\n",
       "      <th>gender</th>\n",
       "      <th>height</th>\n",
       "      <th>weight</th>\n",
       "      <th>ap_hi</th>\n",
       "      <th>ap_lo</th>\n",
       "      <th>cholesterol</th>\n",
       "      <th>gluc</th>\n",
       "      <th>smoke</th>\n",
       "      <th>alco</th>\n",
       "      <th>active</th>\n",
       "      <th>cardio</th>\n",
       "    </tr>\n",
       "  </thead>\n",
       "  <tbody>\n",
       "    <tr>\n",
       "      <th>age</th>\n",
       "      <td>1.000000</td>\n",
       "      <td>-0.022811</td>\n",
       "      <td>-0.081515</td>\n",
       "      <td>0.053684</td>\n",
       "      <td>0.020764</td>\n",
       "      <td>0.017647</td>\n",
       "      <td>0.154424</td>\n",
       "      <td>0.098703</td>\n",
       "      <td>-0.047633</td>\n",
       "      <td>-0.029723</td>\n",
       "      <td>-0.009927</td>\n",
       "      <td>0.238159</td>\n",
       "    </tr>\n",
       "    <tr>\n",
       "      <th>gender</th>\n",
       "      <td>-0.022811</td>\n",
       "      <td>1.000000</td>\n",
       "      <td>0.499033</td>\n",
       "      <td>0.155406</td>\n",
       "      <td>0.006005</td>\n",
       "      <td>0.015254</td>\n",
       "      <td>-0.035821</td>\n",
       "      <td>-0.020491</td>\n",
       "      <td>0.338135</td>\n",
       "      <td>0.170966</td>\n",
       "      <td>0.005866</td>\n",
       "      <td>0.008109</td>\n",
       "    </tr>\n",
       "    <tr>\n",
       "      <th>height</th>\n",
       "      <td>-0.081515</td>\n",
       "      <td>0.499033</td>\n",
       "      <td>1.000000</td>\n",
       "      <td>0.290968</td>\n",
       "      <td>0.005488</td>\n",
       "      <td>0.006150</td>\n",
       "      <td>-0.050226</td>\n",
       "      <td>-0.018595</td>\n",
       "      <td>0.187989</td>\n",
       "      <td>0.094419</td>\n",
       "      <td>-0.006570</td>\n",
       "      <td>-0.010821</td>\n",
       "    </tr>\n",
       "    <tr>\n",
       "      <th>weight</th>\n",
       "      <td>0.053684</td>\n",
       "      <td>0.155406</td>\n",
       "      <td>0.290968</td>\n",
       "      <td>1.000000</td>\n",
       "      <td>0.030702</td>\n",
       "      <td>0.043710</td>\n",
       "      <td>0.141768</td>\n",
       "      <td>0.106857</td>\n",
       "      <td>0.067780</td>\n",
       "      <td>0.067113</td>\n",
       "      <td>-0.016867</td>\n",
       "      <td>0.181660</td>\n",
       "    </tr>\n",
       "    <tr>\n",
       "      <th>ap_hi</th>\n",
       "      <td>0.020764</td>\n",
       "      <td>0.006005</td>\n",
       "      <td>0.005488</td>\n",
       "      <td>0.030702</td>\n",
       "      <td>1.000000</td>\n",
       "      <td>0.016086</td>\n",
       "      <td>0.023778</td>\n",
       "      <td>0.011841</td>\n",
       "      <td>-0.000922</td>\n",
       "      <td>0.001408</td>\n",
       "      <td>-0.000033</td>\n",
       "      <td>0.054475</td>\n",
       "    </tr>\n",
       "    <tr>\n",
       "      <th>ap_lo</th>\n",
       "      <td>0.017647</td>\n",
       "      <td>0.015254</td>\n",
       "      <td>0.006150</td>\n",
       "      <td>0.043710</td>\n",
       "      <td>0.016086</td>\n",
       "      <td>1.000000</td>\n",
       "      <td>0.024019</td>\n",
       "      <td>0.010806</td>\n",
       "      <td>0.005186</td>\n",
       "      <td>0.010601</td>\n",
       "      <td>0.004780</td>\n",
       "      <td>0.065719</td>\n",
       "    </tr>\n",
       "    <tr>\n",
       "      <th>cholesterol</th>\n",
       "      <td>0.154424</td>\n",
       "      <td>-0.035821</td>\n",
       "      <td>-0.050226</td>\n",
       "      <td>0.141768</td>\n",
       "      <td>0.023778</td>\n",
       "      <td>0.024019</td>\n",
       "      <td>1.000000</td>\n",
       "      <td>0.451578</td>\n",
       "      <td>0.010354</td>\n",
       "      <td>0.035760</td>\n",
       "      <td>0.009911</td>\n",
       "      <td>0.221147</td>\n",
       "    </tr>\n",
       "    <tr>\n",
       "      <th>gluc</th>\n",
       "      <td>0.098703</td>\n",
       "      <td>-0.020491</td>\n",
       "      <td>-0.018595</td>\n",
       "      <td>0.106857</td>\n",
       "      <td>0.011841</td>\n",
       "      <td>0.010806</td>\n",
       "      <td>0.451578</td>\n",
       "      <td>1.000000</td>\n",
       "      <td>-0.004756</td>\n",
       "      <td>0.011246</td>\n",
       "      <td>-0.006770</td>\n",
       "      <td>0.089307</td>\n",
       "    </tr>\n",
       "    <tr>\n",
       "      <th>smoke</th>\n",
       "      <td>-0.047633</td>\n",
       "      <td>0.338135</td>\n",
       "      <td>0.187989</td>\n",
       "      <td>0.067780</td>\n",
       "      <td>-0.000922</td>\n",
       "      <td>0.005186</td>\n",
       "      <td>0.010354</td>\n",
       "      <td>-0.004756</td>\n",
       "      <td>1.000000</td>\n",
       "      <td>0.340094</td>\n",
       "      <td>0.025858</td>\n",
       "      <td>-0.015486</td>\n",
       "    </tr>\n",
       "    <tr>\n",
       "      <th>alco</th>\n",
       "      <td>-0.029723</td>\n",
       "      <td>0.170966</td>\n",
       "      <td>0.094419</td>\n",
       "      <td>0.067113</td>\n",
       "      <td>0.001408</td>\n",
       "      <td>0.010601</td>\n",
       "      <td>0.035760</td>\n",
       "      <td>0.011246</td>\n",
       "      <td>0.340094</td>\n",
       "      <td>1.000000</td>\n",
       "      <td>0.025476</td>\n",
       "      <td>-0.007330</td>\n",
       "    </tr>\n",
       "    <tr>\n",
       "      <th>active</th>\n",
       "      <td>-0.009927</td>\n",
       "      <td>0.005866</td>\n",
       "      <td>-0.006570</td>\n",
       "      <td>-0.016867</td>\n",
       "      <td>-0.000033</td>\n",
       "      <td>0.004780</td>\n",
       "      <td>0.009911</td>\n",
       "      <td>-0.006770</td>\n",
       "      <td>0.025858</td>\n",
       "      <td>0.025476</td>\n",
       "      <td>1.000000</td>\n",
       "      <td>-0.035653</td>\n",
       "    </tr>\n",
       "    <tr>\n",
       "      <th>cardio</th>\n",
       "      <td>0.238159</td>\n",
       "      <td>0.008109</td>\n",
       "      <td>-0.010821</td>\n",
       "      <td>0.181660</td>\n",
       "      <td>0.054475</td>\n",
       "      <td>0.065719</td>\n",
       "      <td>0.221147</td>\n",
       "      <td>0.089307</td>\n",
       "      <td>-0.015486</td>\n",
       "      <td>-0.007330</td>\n",
       "      <td>-0.035653</td>\n",
       "      <td>1.000000</td>\n",
       "    </tr>\n",
       "  </tbody>\n",
       "</table>\n",
       "</div>"
      ],
      "text/plain": [
       "                  age    gender    height    weight     ap_hi     ap_lo  \\\n",
       "age          1.000000 -0.022811 -0.081515  0.053684  0.020764  0.017647   \n",
       "gender      -0.022811  1.000000  0.499033  0.155406  0.006005  0.015254   \n",
       "height      -0.081515  0.499033  1.000000  0.290968  0.005488  0.006150   \n",
       "weight       0.053684  0.155406  0.290968  1.000000  0.030702  0.043710   \n",
       "ap_hi        0.020764  0.006005  0.005488  0.030702  1.000000  0.016086   \n",
       "ap_lo        0.017647  0.015254  0.006150  0.043710  0.016086  1.000000   \n",
       "cholesterol  0.154424 -0.035821 -0.050226  0.141768  0.023778  0.024019   \n",
       "gluc         0.098703 -0.020491 -0.018595  0.106857  0.011841  0.010806   \n",
       "smoke       -0.047633  0.338135  0.187989  0.067780 -0.000922  0.005186   \n",
       "alco        -0.029723  0.170966  0.094419  0.067113  0.001408  0.010601   \n",
       "active      -0.009927  0.005866 -0.006570 -0.016867 -0.000033  0.004780   \n",
       "cardio       0.238159  0.008109 -0.010821  0.181660  0.054475  0.065719   \n",
       "\n",
       "             cholesterol      gluc     smoke      alco    active    cardio  \n",
       "age             0.154424  0.098703 -0.047633 -0.029723 -0.009927  0.238159  \n",
       "gender         -0.035821 -0.020491  0.338135  0.170966  0.005866  0.008109  \n",
       "height         -0.050226 -0.018595  0.187989  0.094419 -0.006570 -0.010821  \n",
       "weight          0.141768  0.106857  0.067780  0.067113 -0.016867  0.181660  \n",
       "ap_hi           0.023778  0.011841 -0.000922  0.001408 -0.000033  0.054475  \n",
       "ap_lo           0.024019  0.010806  0.005186  0.010601  0.004780  0.065719  \n",
       "cholesterol     1.000000  0.451578  0.010354  0.035760  0.009911  0.221147  \n",
       "gluc            0.451578  1.000000 -0.004756  0.011246 -0.006770  0.089307  \n",
       "smoke           0.010354 -0.004756  1.000000  0.340094  0.025858 -0.015486  \n",
       "alco            0.035760  0.011246  0.340094  1.000000  0.025476 -0.007330  \n",
       "active          0.009911 -0.006770  0.025858  0.025476  1.000000 -0.035653  \n",
       "cardio          0.221147  0.089307 -0.015486 -0.007330 -0.035653  1.000000  "
      ]
     },
     "execution_count": 12,
     "metadata": {},
     "output_type": "execute_result"
    }
   ],
   "source": [
    "df.drop(features_remover, axis=1).corr()"
   ]
  },
  {
   "cell_type": "code",
   "execution_count": 13,
   "id": "b61e7e0e",
   "metadata": {
    "ExecuteTime": {
     "end_time": "2021-12-30T23:00:23.221979Z",
     "start_time": "2021-12-30T23:00:22.691219Z"
    },
    "scrolled": true
   },
   "outputs": [
    {
     "data": {
      "text/plain": [
       "<AxesSubplot:>"
      ]
     },
     "execution_count": 13,
     "metadata": {},
     "output_type": "execute_result"
    },
    {
     "data": {
      "image/png": "[encoded data removed]",
      "text/plain": [
       "<Figure size 432x288 with 2 Axes>"
      ]
     },
     "metadata": {
      "needs_background": "light"
     },
     "output_type": "display_data"
    }
   ],
   "source": [
    "sns.heatmap(df.drop(features_remover, axis=1).corr())"
   ]
  },
  {
   "cell_type": "markdown",
   "id": "a5f8784b",
   "metadata": {},
   "source": [
    "1. moderada entre altura e gênero\n",
    "2. moderada entre colesterol e glicemia\n",
    "3. moderada entre consumidores de alcool e fumantes\n",
    "4. moderada entre fumantes e idade\n",
    "5. várias correlações fracas"
   ]
  },
  {
   "cell_type": "markdown",
   "id": "7593ab60",
   "metadata": {},
   "source": [
    "## 2.4 Data Cleaning"
   ]
  },
  {
   "cell_type": "code",
   "execution_count": 14,
   "id": "09376395",
   "metadata": {
    "ExecuteTime": {
     "end_time": "2021-12-30T23:00:23.239360Z",
     "start_time": "2021-12-30T23:00:23.225619Z"
    }
   },
   "outputs": [
    {
     "data": {
      "text/plain": [
       "Index(['id', 'age', 'gender', 'height', 'weight', 'ap_hi', 'ap_lo',\n",
       "       'cholesterol', 'gluc', 'smoke', 'alco', 'active', 'cardio', 'age_'],\n",
       "      dtype='object')"
      ]
     },
     "execution_count": 14,
     "metadata": {},
     "output_type": "execute_result"
    }
   ],
   "source": [
    "df.columns"
   ]
  },
  {
   "cell_type": "code",
   "execution_count": 15,
   "id": "0c3e24b1",
   "metadata": {
    "ExecuteTime": {
     "end_time": "2021-12-30T23:00:23.275409Z",
     "start_time": "2021-12-30T23:00:23.239360Z"
    }
   },
   "outputs": [
    {
     "data": {
      "text/plain": [
       "gender         2\n",
       "cholesterol    3\n",
       "gluc           3\n",
       "smoke          2\n",
       "alco           2\n",
       "active         2\n",
       "cardio         2\n",
       "dtype: int64"
      ]
     },
     "execution_count": 15,
     "metadata": {},
     "output_type": "execute_result"
    }
   ],
   "source": [
    "df[features_categóricas].nunique()"
   ]
  },
  {
   "cell_type": "markdown",
   "id": "3a7f513d",
   "metadata": {},
   "source": [
    "Tudo ok"
   ]
  },
  {
   "cell_type": "code",
   "execution_count": 16,
   "id": "444bc0a0",
   "metadata": {
    "ExecuteTime": {
     "end_time": "2021-12-30T23:00:23.354092Z",
     "start_time": "2021-12-30T23:00:23.275409Z"
    },
    "scrolled": true
   },
   "outputs": [
    {
     "data": {
      "text/html": [
       "<div>\n",
       "<style scoped>\n",
       "    .dataframe tbody tr th:only-of-type {\n",
       "        vertical-align: middle;\n",
       "    }\n",
       "\n",
       "    .dataframe tbody tr th {\n",
       "        vertical-align: top;\n",
       "    }\n",
       "\n",
       "    .dataframe thead th {\n",
       "        text-align: right;\n",
       "    }\n",
       "</style>\n",
       "<table border=\"1\" class=\"dataframe\">\n",
       "  <thead>\n",
       "    <tr style=\"text-align: right;\">\n",
       "      <th></th>\n",
       "      <th>age_</th>\n",
       "      <th>height</th>\n",
       "      <th>weight</th>\n",
       "      <th>ap_hi</th>\n",
       "      <th>ap_lo</th>\n",
       "    </tr>\n",
       "  </thead>\n",
       "  <tbody>\n",
       "    <tr>\n",
       "      <th>count</th>\n",
       "      <td>70000.000000</td>\n",
       "      <td>70000.000000</td>\n",
       "      <td>70000.000000</td>\n",
       "      <td>70000.000000</td>\n",
       "      <td>70000.000000</td>\n",
       "    </tr>\n",
       "    <tr>\n",
       "      <th>mean</th>\n",
       "      <td>52.840671</td>\n",
       "      <td>164.359229</td>\n",
       "      <td>74.205690</td>\n",
       "      <td>128.817286</td>\n",
       "      <td>96.630414</td>\n",
       "    </tr>\n",
       "    <tr>\n",
       "      <th>std</th>\n",
       "      <td>6.766774</td>\n",
       "      <td>8.210126</td>\n",
       "      <td>14.395757</td>\n",
       "      <td>154.011419</td>\n",
       "      <td>188.472530</td>\n",
       "    </tr>\n",
       "    <tr>\n",
       "      <th>min</th>\n",
       "      <td>29.000000</td>\n",
       "      <td>55.000000</td>\n",
       "      <td>10.000000</td>\n",
       "      <td>-150.000000</td>\n",
       "      <td>-70.000000</td>\n",
       "    </tr>\n",
       "    <tr>\n",
       "      <th>25%</th>\n",
       "      <td>48.000000</td>\n",
       "      <td>159.000000</td>\n",
       "      <td>65.000000</td>\n",
       "      <td>120.000000</td>\n",
       "      <td>80.000000</td>\n",
       "    </tr>\n",
       "    <tr>\n",
       "      <th>50%</th>\n",
       "      <td>53.000000</td>\n",
       "      <td>165.000000</td>\n",
       "      <td>72.000000</td>\n",
       "      <td>120.000000</td>\n",
       "      <td>80.000000</td>\n",
       "    </tr>\n",
       "    <tr>\n",
       "      <th>75%</th>\n",
       "      <td>58.000000</td>\n",
       "      <td>170.000000</td>\n",
       "      <td>82.000000</td>\n",
       "      <td>140.000000</td>\n",
       "      <td>90.000000</td>\n",
       "    </tr>\n",
       "    <tr>\n",
       "      <th>max</th>\n",
       "      <td>64.000000</td>\n",
       "      <td>250.000000</td>\n",
       "      <td>200.000000</td>\n",
       "      <td>16020.000000</td>\n",
       "      <td>11000.000000</td>\n",
       "    </tr>\n",
       "  </tbody>\n",
       "</table>\n",
       "</div>"
      ],
      "text/plain": [
       "               age_        height        weight         ap_hi         ap_lo\n",
       "count  70000.000000  70000.000000  70000.000000  70000.000000  70000.000000\n",
       "mean      52.840671    164.359229     74.205690    128.817286     96.630414\n",
       "std        6.766774      8.210126     14.395757    154.011419    188.472530\n",
       "min       29.000000     55.000000     10.000000   -150.000000    -70.000000\n",
       "25%       48.000000    159.000000     65.000000    120.000000     80.000000\n",
       "50%       53.000000    165.000000     72.000000    120.000000     80.000000\n",
       "75%       58.000000    170.000000     82.000000    140.000000     90.000000\n",
       "max       64.000000    250.000000    200.000000  16020.000000  11000.000000"
      ]
     },
     "execution_count": 16,
     "metadata": {},
     "output_type": "execute_result"
    }
   ],
   "source": [
    "df[features_numéricas].describe()"
   ]
  },
  {
   "cell_type": "markdown",
   "id": "a1844076",
   "metadata": {},
   "source": [
    "**height**"
   ]
  },
  {
   "cell_type": "code",
   "execution_count": 17,
   "id": "4476fabb",
   "metadata": {
    "ExecuteTime": {
     "end_time": "2021-12-30T23:00:23.386091Z",
     "start_time": "2021-12-30T23:00:23.354092Z"
    }
   },
   "outputs": [
    {
     "data": {
      "text/html": [
       "<div>\n",
       "<style scoped>\n",
       "    .dataframe tbody tr th:only-of-type {\n",
       "        vertical-align: middle;\n",
       "    }\n",
       "\n",
       "    .dataframe tbody tr th {\n",
       "        vertical-align: top;\n",
       "    }\n",
       "\n",
       "    .dataframe thead th {\n",
       "        text-align: right;\n",
       "    }\n",
       "</style>\n",
       "<table border=\"1\" class=\"dataframe\">\n",
       "  <thead>\n",
       "    <tr style=\"text-align: right;\">\n",
       "      <th></th>\n",
       "      <th>id</th>\n",
       "      <th>age</th>\n",
       "      <th>gender</th>\n",
       "      <th>height</th>\n",
       "      <th>weight</th>\n",
       "      <th>ap_hi</th>\n",
       "      <th>ap_lo</th>\n",
       "      <th>cholesterol</th>\n",
       "      <th>gluc</th>\n",
       "      <th>smoke</th>\n",
       "      <th>alco</th>\n",
       "      <th>active</th>\n",
       "      <th>cardio</th>\n",
       "      <th>age_</th>\n",
       "    </tr>\n",
       "  </thead>\n",
       "  <tbody>\n",
       "    <tr>\n",
       "      <th>6486</th>\n",
       "      <td>9223</td>\n",
       "      <td>21220</td>\n",
       "      <td>1</td>\n",
       "      <td>250</td>\n",
       "      <td>86.0</td>\n",
       "      <td>140</td>\n",
       "      <td>100</td>\n",
       "      <td>3</td>\n",
       "      <td>1</td>\n",
       "      <td>0</td>\n",
       "      <td>0</td>\n",
       "      <td>1</td>\n",
       "      <td>1</td>\n",
       "      <td>58</td>\n",
       "    </tr>\n",
       "    <tr>\n",
       "      <th>21628</th>\n",
       "      <td>30894</td>\n",
       "      <td>19054</td>\n",
       "      <td>2</td>\n",
       "      <td>207</td>\n",
       "      <td>78.0</td>\n",
       "      <td>100</td>\n",
       "      <td>70</td>\n",
       "      <td>1</td>\n",
       "      <td>1</td>\n",
       "      <td>0</td>\n",
       "      <td>1</td>\n",
       "      <td>1</td>\n",
       "      <td>0</td>\n",
       "      <td>52</td>\n",
       "    </tr>\n",
       "  </tbody>\n",
       "</table>\n",
       "</div>"
      ],
      "text/plain": [
       "          id    age  gender  height  weight  ap_hi  ap_lo  cholesterol  gluc  \\\n",
       "6486    9223  21220       1     250    86.0    140    100            3     1   \n",
       "21628  30894  19054       2     207    78.0    100     70            1     1   \n",
       "\n",
       "       smoke  alco  active  cardio  age_  \n",
       "6486       0     0       1       1    58  \n",
       "21628      0     1       1       0    52  "
      ]
     },
     "execution_count": 17,
     "metadata": {},
     "output_type": "execute_result"
    }
   ],
   "source": [
    "df[df['height'] > 200]"
   ]
  },
  {
   "cell_type": "markdown",
   "id": "f4ae801c",
   "metadata": {},
   "source": [
    "1. A primeira amostra é uma mulher com 2,5 metros, será considerado erro de input\n",
    "2. A segunda amostra é um homem com 2,07 metros e 78 quilos, não parece incompatível."
   ]
  },
  {
   "cell_type": "code",
   "execution_count": 18,
   "id": "b0da1590",
   "metadata": {
    "ExecuteTime": {
     "end_time": "2021-12-30T23:00:23.416036Z",
     "start_time": "2021-12-30T23:00:23.386091Z"
    }
   },
   "outputs": [],
   "source": [
    "df.drop(6486, inplace=True)"
   ]
  },
  {
   "cell_type": "code",
   "execution_count": 19,
   "id": "bc0da114",
   "metadata": {
    "ExecuteTime": {
     "end_time": "2021-12-30T23:00:23.456023Z",
     "start_time": "2021-12-30T23:00:23.416036Z"
    },
    "scrolled": false
   },
   "outputs": [
    {
     "data": {
      "text/html": [
       "<div>\n",
       "<style scoped>\n",
       "    .dataframe tbody tr th:only-of-type {\n",
       "        vertical-align: middle;\n",
       "    }\n",
       "\n",
       "    .dataframe tbody tr th {\n",
       "        vertical-align: top;\n",
       "    }\n",
       "\n",
       "    .dataframe thead th {\n",
       "        text-align: right;\n",
       "    }\n",
       "</style>\n",
       "<table border=\"1\" class=\"dataframe\">\n",
       "  <thead>\n",
       "    <tr style=\"text-align: right;\">\n",
       "      <th></th>\n",
       "      <th>id</th>\n",
       "      <th>age</th>\n",
       "      <th>gender</th>\n",
       "      <th>height</th>\n",
       "      <th>weight</th>\n",
       "      <th>ap_hi</th>\n",
       "      <th>ap_lo</th>\n",
       "      <th>cholesterol</th>\n",
       "      <th>gluc</th>\n",
       "      <th>smoke</th>\n",
       "      <th>alco</th>\n",
       "      <th>active</th>\n",
       "      <th>cardio</th>\n",
       "      <th>age_</th>\n",
       "    </tr>\n",
       "  </thead>\n",
       "  <tbody>\n",
       "    <tr>\n",
       "      <th>224</th>\n",
       "      <td>309</td>\n",
       "      <td>21800</td>\n",
       "      <td>2</td>\n",
       "      <td>76</td>\n",
       "      <td>55.0</td>\n",
       "      <td>120</td>\n",
       "      <td>80</td>\n",
       "      <td>1</td>\n",
       "      <td>1</td>\n",
       "      <td>0</td>\n",
       "      <td>0</td>\n",
       "      <td>1</td>\n",
       "      <td>0</td>\n",
       "      <td>59</td>\n",
       "    </tr>\n",
       "    <tr>\n",
       "      <th>7598</th>\n",
       "      <td>10843</td>\n",
       "      <td>14661</td>\n",
       "      <td>2</td>\n",
       "      <td>70</td>\n",
       "      <td>72.0</td>\n",
       "      <td>120</td>\n",
       "      <td>8</td>\n",
       "      <td>1</td>\n",
       "      <td>1</td>\n",
       "      <td>0</td>\n",
       "      <td>0</td>\n",
       "      <td>1</td>\n",
       "      <td>0</td>\n",
       "      <td>40</td>\n",
       "    </tr>\n",
       "    <tr>\n",
       "      <th>8171</th>\n",
       "      <td>11662</td>\n",
       "      <td>17646</td>\n",
       "      <td>2</td>\n",
       "      <td>97</td>\n",
       "      <td>170.0</td>\n",
       "      <td>160</td>\n",
       "      <td>100</td>\n",
       "      <td>1</td>\n",
       "      <td>1</td>\n",
       "      <td>1</td>\n",
       "      <td>0</td>\n",
       "      <td>1</td>\n",
       "      <td>1</td>\n",
       "      <td>48</td>\n",
       "    </tr>\n",
       "    <tr>\n",
       "      <th>12770</th>\n",
       "      <td>18218</td>\n",
       "      <td>19594</td>\n",
       "      <td>1</td>\n",
       "      <td>75</td>\n",
       "      <td>168.0</td>\n",
       "      <td>120</td>\n",
       "      <td>80</td>\n",
       "      <td>1</td>\n",
       "      <td>1</td>\n",
       "      <td>1</td>\n",
       "      <td>0</td>\n",
       "      <td>1</td>\n",
       "      <td>1</td>\n",
       "      <td>53</td>\n",
       "    </tr>\n",
       "    <tr>\n",
       "      <th>13265</th>\n",
       "      <td>18928</td>\n",
       "      <td>22456</td>\n",
       "      <td>2</td>\n",
       "      <td>71</td>\n",
       "      <td>68.0</td>\n",
       "      <td>120</td>\n",
       "      <td>80</td>\n",
       "      <td>3</td>\n",
       "      <td>1</td>\n",
       "      <td>0</td>\n",
       "      <td>0</td>\n",
       "      <td>1</td>\n",
       "      <td>0</td>\n",
       "      <td>61</td>\n",
       "    </tr>\n",
       "    <tr>\n",
       "      <th>14323</th>\n",
       "      <td>20459</td>\n",
       "      <td>22005</td>\n",
       "      <td>1</td>\n",
       "      <td>67</td>\n",
       "      <td>57.0</td>\n",
       "      <td>120</td>\n",
       "      <td>90</td>\n",
       "      <td>1</td>\n",
       "      <td>1</td>\n",
       "      <td>0</td>\n",
       "      <td>0</td>\n",
       "      <td>1</td>\n",
       "      <td>1</td>\n",
       "      <td>60</td>\n",
       "    </tr>\n",
       "    <tr>\n",
       "      <th>15167</th>\n",
       "      <td>21686</td>\n",
       "      <td>15812</td>\n",
       "      <td>1</td>\n",
       "      <td>70</td>\n",
       "      <td>68.0</td>\n",
       "      <td>120</td>\n",
       "      <td>80</td>\n",
       "      <td>1</td>\n",
       "      <td>1</td>\n",
       "      <td>0</td>\n",
       "      <td>0</td>\n",
       "      <td>0</td>\n",
       "      <td>0</td>\n",
       "      <td>43</td>\n",
       "    </tr>\n",
       "    <tr>\n",
       "      <th>16699</th>\n",
       "      <td>23859</td>\n",
       "      <td>19680</td>\n",
       "      <td>2</td>\n",
       "      <td>74</td>\n",
       "      <td>98.0</td>\n",
       "      <td>140</td>\n",
       "      <td>90</td>\n",
       "      <td>1</td>\n",
       "      <td>1</td>\n",
       "      <td>0</td>\n",
       "      <td>0</td>\n",
       "      <td>1</td>\n",
       "      <td>1</td>\n",
       "      <td>53</td>\n",
       "    </tr>\n",
       "    <tr>\n",
       "      <th>17277</th>\n",
       "      <td>24690</td>\n",
       "      <td>17530</td>\n",
       "      <td>1</td>\n",
       "      <td>98</td>\n",
       "      <td>45.0</td>\n",
       "      <td>12</td>\n",
       "      <td>80</td>\n",
       "      <td>1</td>\n",
       "      <td>1</td>\n",
       "      <td>0</td>\n",
       "      <td>0</td>\n",
       "      <td>1</td>\n",
       "      <td>0</td>\n",
       "      <td>48</td>\n",
       "    </tr>\n",
       "    <tr>\n",
       "      <th>22542</th>\n",
       "      <td>32207</td>\n",
       "      <td>14538</td>\n",
       "      <td>1</td>\n",
       "      <td>68</td>\n",
       "      <td>65.0</td>\n",
       "      <td>100</td>\n",
       "      <td>60</td>\n",
       "      <td>1</td>\n",
       "      <td>1</td>\n",
       "      <td>0</td>\n",
       "      <td>0</td>\n",
       "      <td>0</td>\n",
       "      <td>0</td>\n",
       "      <td>39</td>\n",
       "    </tr>\n",
       "    <tr>\n",
       "      <th>22723</th>\n",
       "      <td>32456</td>\n",
       "      <td>23386</td>\n",
       "      <td>1</td>\n",
       "      <td>55</td>\n",
       "      <td>81.0</td>\n",
       "      <td>130</td>\n",
       "      <td>90</td>\n",
       "      <td>1</td>\n",
       "      <td>1</td>\n",
       "      <td>0</td>\n",
       "      <td>0</td>\n",
       "      <td>1</td>\n",
       "      <td>1</td>\n",
       "      <td>64</td>\n",
       "    </tr>\n",
       "    <tr>\n",
       "      <th>23913</th>\n",
       "      <td>34186</td>\n",
       "      <td>19074</td>\n",
       "      <td>1</td>\n",
       "      <td>81</td>\n",
       "      <td>156.0</td>\n",
       "      <td>140</td>\n",
       "      <td>90</td>\n",
       "      <td>1</td>\n",
       "      <td>1</td>\n",
       "      <td>0</td>\n",
       "      <td>0</td>\n",
       "      <td>1</td>\n",
       "      <td>0</td>\n",
       "      <td>52</td>\n",
       "    </tr>\n",
       "    <tr>\n",
       "      <th>27384</th>\n",
       "      <td>39156</td>\n",
       "      <td>15292</td>\n",
       "      <td>1</td>\n",
       "      <td>80</td>\n",
       "      <td>178.0</td>\n",
       "      <td>140</td>\n",
       "      <td>90</td>\n",
       "      <td>3</td>\n",
       "      <td>3</td>\n",
       "      <td>0</td>\n",
       "      <td>0</td>\n",
       "      <td>1</td>\n",
       "      <td>1</td>\n",
       "      <td>41</td>\n",
       "    </tr>\n",
       "    <tr>\n",
       "      <th>27603</th>\n",
       "      <td>39462</td>\n",
       "      <td>20978</td>\n",
       "      <td>1</td>\n",
       "      <td>64</td>\n",
       "      <td>61.0</td>\n",
       "      <td>130</td>\n",
       "      <td>70</td>\n",
       "      <td>1</td>\n",
       "      <td>1</td>\n",
       "      <td>0</td>\n",
       "      <td>0</td>\n",
       "      <td>1</td>\n",
       "      <td>0</td>\n",
       "      <td>57</td>\n",
       "    </tr>\n",
       "    <tr>\n",
       "      <th>28737</th>\n",
       "      <td>41075</td>\n",
       "      <td>19747</td>\n",
       "      <td>1</td>\n",
       "      <td>91</td>\n",
       "      <td>55.0</td>\n",
       "      <td>140</td>\n",
       "      <td>90</td>\n",
       "      <td>1</td>\n",
       "      <td>1</td>\n",
       "      <td>0</td>\n",
       "      <td>0</td>\n",
       "      <td>1</td>\n",
       "      <td>1</td>\n",
       "      <td>54</td>\n",
       "    </tr>\n",
       "    <tr>\n",
       "      <th>29157</th>\n",
       "      <td>41661</td>\n",
       "      <td>19088</td>\n",
       "      <td>1</td>\n",
       "      <td>60</td>\n",
       "      <td>69.0</td>\n",
       "      <td>110</td>\n",
       "      <td>70</td>\n",
       "      <td>1</td>\n",
       "      <td>1</td>\n",
       "      <td>0</td>\n",
       "      <td>0</td>\n",
       "      <td>0</td>\n",
       "      <td>0</td>\n",
       "      <td>52</td>\n",
       "    </tr>\n",
       "    <tr>\n",
       "      <th>32098</th>\n",
       "      <td>45832</td>\n",
       "      <td>15374</td>\n",
       "      <td>1</td>\n",
       "      <td>72</td>\n",
       "      <td>74.0</td>\n",
       "      <td>150</td>\n",
       "      <td>90</td>\n",
       "      <td>1</td>\n",
       "      <td>1</td>\n",
       "      <td>0</td>\n",
       "      <td>0</td>\n",
       "      <td>1</td>\n",
       "      <td>1</td>\n",
       "      <td>42</td>\n",
       "    </tr>\n",
       "    <tr>\n",
       "      <th>33607</th>\n",
       "      <td>48009</td>\n",
       "      <td>19709</td>\n",
       "      <td>2</td>\n",
       "      <td>65</td>\n",
       "      <td>72.0</td>\n",
       "      <td>130</td>\n",
       "      <td>80</td>\n",
       "      <td>1</td>\n",
       "      <td>1</td>\n",
       "      <td>0</td>\n",
       "      <td>0</td>\n",
       "      <td>0</td>\n",
       "      <td>0</td>\n",
       "      <td>53</td>\n",
       "    </tr>\n",
       "    <tr>\n",
       "      <th>44490</th>\n",
       "      <td>63545</td>\n",
       "      <td>19120</td>\n",
       "      <td>1</td>\n",
       "      <td>65</td>\n",
       "      <td>60.0</td>\n",
       "      <td>120</td>\n",
       "      <td>80</td>\n",
       "      <td>1</td>\n",
       "      <td>1</td>\n",
       "      <td>0</td>\n",
       "      <td>0</td>\n",
       "      <td>1</td>\n",
       "      <td>0</td>\n",
       "      <td>52</td>\n",
       "    </tr>\n",
       "    <tr>\n",
       "      <th>46319</th>\n",
       "      <td>66161</td>\n",
       "      <td>21006</td>\n",
       "      <td>2</td>\n",
       "      <td>68</td>\n",
       "      <td>71.0</td>\n",
       "      <td>120</td>\n",
       "      <td>80</td>\n",
       "      <td>1</td>\n",
       "      <td>1</td>\n",
       "      <td>0</td>\n",
       "      <td>0</td>\n",
       "      <td>1</td>\n",
       "      <td>0</td>\n",
       "      <td>57</td>\n",
       "    </tr>\n",
       "    <tr>\n",
       "      <th>47352</th>\n",
       "      <td>67631</td>\n",
       "      <td>23297</td>\n",
       "      <td>1</td>\n",
       "      <td>75</td>\n",
       "      <td>75.0</td>\n",
       "      <td>120</td>\n",
       "      <td>80</td>\n",
       "      <td>1</td>\n",
       "      <td>1</td>\n",
       "      <td>0</td>\n",
       "      <td>0</td>\n",
       "      <td>1</td>\n",
       "      <td>0</td>\n",
       "      <td>63</td>\n",
       "    </tr>\n",
       "    <tr>\n",
       "      <th>50789</th>\n",
       "      <td>72476</td>\n",
       "      <td>14499</td>\n",
       "      <td>2</td>\n",
       "      <td>67</td>\n",
       "      <td>60.0</td>\n",
       "      <td>110</td>\n",
       "      <td>80</td>\n",
       "      <td>1</td>\n",
       "      <td>1</td>\n",
       "      <td>1</td>\n",
       "      <td>1</td>\n",
       "      <td>1</td>\n",
       "      <td>0</td>\n",
       "      <td>39</td>\n",
       "    </tr>\n",
       "    <tr>\n",
       "      <th>51459</th>\n",
       "      <td>73386</td>\n",
       "      <td>15432</td>\n",
       "      <td>2</td>\n",
       "      <td>70</td>\n",
       "      <td>69.0</td>\n",
       "      <td>120</td>\n",
       "      <td>80</td>\n",
       "      <td>1</td>\n",
       "      <td>1</td>\n",
       "      <td>0</td>\n",
       "      <td>0</td>\n",
       "      <td>0</td>\n",
       "      <td>0</td>\n",
       "      <td>42</td>\n",
       "    </tr>\n",
       "    <tr>\n",
       "      <th>53344</th>\n",
       "      <td>76116</td>\n",
       "      <td>20541</td>\n",
       "      <td>2</td>\n",
       "      <td>67</td>\n",
       "      <td>80.0</td>\n",
       "      <td>120</td>\n",
       "      <td>80</td>\n",
       "      <td>1</td>\n",
       "      <td>1</td>\n",
       "      <td>0</td>\n",
       "      <td>0</td>\n",
       "      <td>0</td>\n",
       "      <td>1</td>\n",
       "      <td>56</td>\n",
       "    </tr>\n",
       "    <tr>\n",
       "      <th>56022</th>\n",
       "      <td>79917</td>\n",
       "      <td>21171</td>\n",
       "      <td>1</td>\n",
       "      <td>96</td>\n",
       "      <td>59.0</td>\n",
       "      <td>90</td>\n",
       "      <td>60</td>\n",
       "      <td>1</td>\n",
       "      <td>1</td>\n",
       "      <td>0</td>\n",
       "      <td>0</td>\n",
       "      <td>1</td>\n",
       "      <td>1</td>\n",
       "      <td>58</td>\n",
       "    </tr>\n",
       "    <tr>\n",
       "      <th>64115</th>\n",
       "      <td>91523</td>\n",
       "      <td>18426</td>\n",
       "      <td>1</td>\n",
       "      <td>59</td>\n",
       "      <td>57.6</td>\n",
       "      <td>125</td>\n",
       "      <td>67</td>\n",
       "      <td>1</td>\n",
       "      <td>1</td>\n",
       "      <td>0</td>\n",
       "      <td>0</td>\n",
       "      <td>0</td>\n",
       "      <td>0</td>\n",
       "      <td>50</td>\n",
       "    </tr>\n",
       "    <tr>\n",
       "      <th>64454</th>\n",
       "      <td>92008</td>\n",
       "      <td>21348</td>\n",
       "      <td>1</td>\n",
       "      <td>66</td>\n",
       "      <td>63.0</td>\n",
       "      <td>12</td>\n",
       "      <td>80</td>\n",
       "      <td>1</td>\n",
       "      <td>1</td>\n",
       "      <td>0</td>\n",
       "      <td>0</td>\n",
       "      <td>0</td>\n",
       "      <td>1</td>\n",
       "      <td>58</td>\n",
       "    </tr>\n",
       "    <tr>\n",
       "      <th>65302</th>\n",
       "      <td>93223</td>\n",
       "      <td>18467</td>\n",
       "      <td>1</td>\n",
       "      <td>99</td>\n",
       "      <td>60.0</td>\n",
       "      <td>90</td>\n",
       "      <td>60</td>\n",
       "      <td>1</td>\n",
       "      <td>1</td>\n",
       "      <td>0</td>\n",
       "      <td>0</td>\n",
       "      <td>1</td>\n",
       "      <td>0</td>\n",
       "      <td>50</td>\n",
       "    </tr>\n",
       "    <tr>\n",
       "      <th>66643</th>\n",
       "      <td>95141</td>\n",
       "      <td>18830</td>\n",
       "      <td>1</td>\n",
       "      <td>57</td>\n",
       "      <td>61.0</td>\n",
       "      <td>130</td>\n",
       "      <td>90</td>\n",
       "      <td>1</td>\n",
       "      <td>1</td>\n",
       "      <td>0</td>\n",
       "      <td>0</td>\n",
       "      <td>1</td>\n",
       "      <td>1</td>\n",
       "      <td>51</td>\n",
       "    </tr>\n",
       "  </tbody>\n",
       "</table>\n",
       "</div>"
      ],
      "text/plain": [
       "          id    age  gender  height  weight  ap_hi  ap_lo  cholesterol  gluc  \\\n",
       "224      309  21800       2      76    55.0    120     80            1     1   \n",
       "7598   10843  14661       2      70    72.0    120      8            1     1   \n",
       "8171   11662  17646       2      97   170.0    160    100            1     1   \n",
       "12770  18218  19594       1      75   168.0    120     80            1     1   \n",
       "13265  18928  22456       2      71    68.0    120     80            3     1   \n",
       "14323  20459  22005       1      67    57.0    120     90            1     1   \n",
       "15167  21686  15812       1      70    68.0    120     80            1     1   \n",
       "16699  23859  19680       2      74    98.0    140     90            1     1   \n",
       "17277  24690  17530       1      98    45.0     12     80            1     1   \n",
       "22542  32207  14538       1      68    65.0    100     60            1     1   \n",
       "22723  32456  23386       1      55    81.0    130     90            1     1   \n",
       "23913  34186  19074       1      81   156.0    140     90            1     1   \n",
       "27384  39156  15292       1      80   178.0    140     90            3     3   \n",
       "27603  39462  20978       1      64    61.0    130     70            1     1   \n",
       "28737  41075  19747       1      91    55.0    140     90            1     1   \n",
       "29157  41661  19088       1      60    69.0    110     70            1     1   \n",
       "32098  45832  15374       1      72    74.0    150     90            1     1   \n",
       "33607  48009  19709       2      65    72.0    130     80            1     1   \n",
       "44490  63545  19120       1      65    60.0    120     80            1     1   \n",
       "46319  66161  21006       2      68    71.0    120     80            1     1   \n",
       "47352  67631  23297       1      75    75.0    120     80            1     1   \n",
       "50789  72476  14499       2      67    60.0    110     80            1     1   \n",
       "51459  73386  15432       2      70    69.0    120     80            1     1   \n",
       "53344  76116  20541       2      67    80.0    120     80            1     1   \n",
       "56022  79917  21171       1      96    59.0     90     60            1     1   \n",
       "64115  91523  18426       1      59    57.6    125     67            1     1   \n",
       "64454  92008  21348       1      66    63.0     12     80            1     1   \n",
       "65302  93223  18467       1      99    60.0     90     60            1     1   \n",
       "66643  95141  18830       1      57    61.0    130     90            1     1   \n",
       "\n",
       "       smoke  alco  active  cardio  age_  \n",
       "224        0     0       1       0    59  \n",
       "7598       0     0       1       0    40  \n",
       "8171       1     0       1       1    48  \n",
       "12770      1     0       1       1    53  \n",
       "13265      0     0       1       0    61  \n",
       "14323      0     0       1       1    60  \n",
       "15167      0     0       0       0    43  \n",
       "16699      0     0       1       1    53  \n",
       "17277      0     0       1       0    48  \n",
       "22542      0     0       0       0    39  \n",
       "22723      0     0       1       1    64  \n",
       "23913      0     0       1       0    52  \n",
       "27384      0     0       1       1    41  \n",
       "27603      0     0       1       0    57  \n",
       "28737      0     0       1       1    54  \n",
       "29157      0     0       0       0    52  \n",
       "32098      0     0       1       1    42  \n",
       "33607      0     0       0       0    53  \n",
       "44490      0     0       1       0    52  \n",
       "46319      0     0       1       0    57  \n",
       "47352      0     0       1       0    63  \n",
       "50789      1     1       1       0    39  \n",
       "51459      0     0       0       0    42  \n",
       "53344      0     0       0       1    56  \n",
       "56022      0     0       1       1    58  \n",
       "64115      0     0       0       0    50  \n",
       "64454      0     0       0       1    58  \n",
       "65302      0     0       1       0    50  \n",
       "66643      0     0       1       1    51  "
      ]
     },
     "execution_count": 19,
     "metadata": {},
     "output_type": "execute_result"
    }
   ],
   "source": [
    "df[df['height']<100]"
   ]
  },
  {
   "cell_type": "markdown",
   "id": "4f9d90b0",
   "metadata": {},
   "source": [
    "Algumas amostras aparentemente estão com altura e peso trocados"
   ]
  },
  {
   "cell_type": "code",
   "execution_count": 27,
   "id": "7654fb7c",
   "metadata": {
    "ExecuteTime": {
     "end_time": "2021-12-30T23:08:34.816826Z",
     "start_time": "2021-12-30T23:08:34.792791Z"
    }
   },
   "outputs": [],
   "source": [
    "def altura_peso_invertidos(df, altura, peso):\n",
    "    altura_primeiro_quantile = df[altura].quantile(0.25)\n",
    "    altura_terceiro_quantile = df[altura].quantile(0.75)\n",
    "    range_altura = altura_terceiro_quantile - altura_primeiro_quantile\n",
    "    salto_altura = range_altura * 1.5\n",
    "    peso_primeiro_quantile = df[peso].quantile(0.25)\n",
    "    peso_terceiro_quantile = df[peso].quantile(0.75)\n",
    "    range_peso = peso_terceiro_quantile - peso_primeiro_quantile\n",
    "    salto_peso = range_peso * 1.5\n",
    "    retorno = df.loc[((df[altura]>peso_primeiro_quantile-salto_peso)&(df[altura]<peso_terceiro_quantile+salto_peso))&((df[peso]>altura_primeiro_quantile-salto_altura)&(df[peso]<altura_terceiro_quantile+salto_altura))].index\n",
    "    return retorno"
   ]
  },
  {
   "cell_type": "code",
   "execution_count": 28,
   "id": "8ec35827",
   "metadata": {
    "ExecuteTime": {
     "end_time": "2021-12-30T23:08:41.263500Z",
     "start_time": "2021-12-30T23:08:41.231415Z"
    }
   },
   "outputs": [],
   "source": [
    "invertidos_index = altura_peso_invertidos(df, 'height', 'weight')"
   ]
  },
  {
   "cell_type": "code",
   "execution_count": 31,
   "id": "4d385673",
   "metadata": {
    "ExecuteTime": {
     "end_time": "2021-12-30T23:09:24.096994Z",
     "start_time": "2021-12-30T23:09:24.057502Z"
    }
   },
   "outputs": [
    {
     "data": {
      "text/html": [
       "<div>\n",
       "<style scoped>\n",
       "    .dataframe tbody tr th:only-of-type {\n",
       "        vertical-align: middle;\n",
       "    }\n",
       "\n",
       "    .dataframe tbody tr th {\n",
       "        vertical-align: top;\n",
       "    }\n",
       "\n",
       "    .dataframe thead th {\n",
       "        text-align: right;\n",
       "    }\n",
       "</style>\n",
       "<table border=\"1\" class=\"dataframe\">\n",
       "  <thead>\n",
       "    <tr style=\"text-align: right;\">\n",
       "      <th></th>\n",
       "      <th>id</th>\n",
       "      <th>age</th>\n",
       "      <th>gender</th>\n",
       "      <th>height</th>\n",
       "      <th>weight</th>\n",
       "      <th>ap_hi</th>\n",
       "      <th>ap_lo</th>\n",
       "      <th>cholesterol</th>\n",
       "      <th>gluc</th>\n",
       "      <th>smoke</th>\n",
       "      <th>alco</th>\n",
       "      <th>active</th>\n",
       "      <th>cardio</th>\n",
       "      <th>age_</th>\n",
       "    </tr>\n",
       "  </thead>\n",
       "  <tbody>\n",
       "    <tr>\n",
       "      <th>8171</th>\n",
       "      <td>11662</td>\n",
       "      <td>17646</td>\n",
       "      <td>2</td>\n",
       "      <td>97</td>\n",
       "      <td>170.0</td>\n",
       "      <td>160</td>\n",
       "      <td>100</td>\n",
       "      <td>1</td>\n",
       "      <td>1</td>\n",
       "      <td>1</td>\n",
       "      <td>0</td>\n",
       "      <td>1</td>\n",
       "      <td>1</td>\n",
       "      <td>48</td>\n",
       "    </tr>\n",
       "    <tr>\n",
       "      <th>12770</th>\n",
       "      <td>18218</td>\n",
       "      <td>19594</td>\n",
       "      <td>1</td>\n",
       "      <td>75</td>\n",
       "      <td>168.0</td>\n",
       "      <td>120</td>\n",
       "      <td>80</td>\n",
       "      <td>1</td>\n",
       "      <td>1</td>\n",
       "      <td>1</td>\n",
       "      <td>0</td>\n",
       "      <td>1</td>\n",
       "      <td>1</td>\n",
       "      <td>53</td>\n",
       "    </tr>\n",
       "    <tr>\n",
       "      <th>23913</th>\n",
       "      <td>34186</td>\n",
       "      <td>19074</td>\n",
       "      <td>1</td>\n",
       "      <td>81</td>\n",
       "      <td>156.0</td>\n",
       "      <td>140</td>\n",
       "      <td>90</td>\n",
       "      <td>1</td>\n",
       "      <td>1</td>\n",
       "      <td>0</td>\n",
       "      <td>0</td>\n",
       "      <td>1</td>\n",
       "      <td>0</td>\n",
       "      <td>52</td>\n",
       "    </tr>\n",
       "    <tr>\n",
       "      <th>27384</th>\n",
       "      <td>39156</td>\n",
       "      <td>15292</td>\n",
       "      <td>1</td>\n",
       "      <td>80</td>\n",
       "      <td>178.0</td>\n",
       "      <td>140</td>\n",
       "      <td>90</td>\n",
       "      <td>3</td>\n",
       "      <td>3</td>\n",
       "      <td>0</td>\n",
       "      <td>0</td>\n",
       "      <td>1</td>\n",
       "      <td>1</td>\n",
       "      <td>41</td>\n",
       "    </tr>\n",
       "    <tr>\n",
       "      <th>45358</th>\n",
       "      <td>64802</td>\n",
       "      <td>19834</td>\n",
       "      <td>1</td>\n",
       "      <td>104</td>\n",
       "      <td>159.0</td>\n",
       "      <td>200</td>\n",
       "      <td>100</td>\n",
       "      <td>3</td>\n",
       "      <td>1</td>\n",
       "      <td>0</td>\n",
       "      <td>0</td>\n",
       "      <td>0</td>\n",
       "      <td>1</td>\n",
       "      <td>54</td>\n",
       "    </tr>\n",
       "    <tr>\n",
       "      <th>59625</th>\n",
       "      <td>85128</td>\n",
       "      <td>17643</td>\n",
       "      <td>1</td>\n",
       "      <td>104</td>\n",
       "      <td>165.0</td>\n",
       "      <td>120</td>\n",
       "      <td>80</td>\n",
       "      <td>1</td>\n",
       "      <td>1</td>\n",
       "      <td>0</td>\n",
       "      <td>0</td>\n",
       "      <td>1</td>\n",
       "      <td>0</td>\n",
       "      <td>48</td>\n",
       "    </tr>\n",
       "  </tbody>\n",
       "</table>\n",
       "</div>"
      ],
      "text/plain": [
       "          id    age  gender  height  weight  ap_hi  ap_lo  cholesterol  gluc  \\\n",
       "8171   11662  17646       2      97   170.0    160    100            1     1   \n",
       "12770  18218  19594       1      75   168.0    120     80            1     1   \n",
       "23913  34186  19074       1      81   156.0    140     90            1     1   \n",
       "27384  39156  15292       1      80   178.0    140     90            3     3   \n",
       "45358  64802  19834       1     104   159.0    200    100            3     1   \n",
       "59625  85128  17643       1     104   165.0    120     80            1     1   \n",
       "\n",
       "       smoke  alco  active  cardio  age_  \n",
       "8171       1     0       1       1    48  \n",
       "12770      1     0       1       1    53  \n",
       "23913      0     0       1       0    52  \n",
       "27384      0     0       1       1    41  \n",
       "45358      0     0       0       1    54  \n",
       "59625      0     0       1       0    48  "
      ]
     },
     "execution_count": 31,
     "metadata": {},
     "output_type": "execute_result"
    }
   ],
   "source": [
    "df.loc[invertidos_index]"
   ]
  },
  {
   "cell_type": "code",
   "execution_count": 32,
   "id": "427ad588",
   "metadata": {
    "ExecuteTime": {
     "end_time": "2021-12-30T23:14:05.393325Z",
     "start_time": "2021-12-30T23:14:05.369297Z"
    }
   },
   "outputs": [],
   "source": [
    "temp = df.loc[invertidos_index, 'height']\n",
    "df.loc[invertidos_index, 'height'] = df.loc[invertidos_index, 'weight']\n",
    "df.loc[invertidos_index, 'weight'] = temp"
   ]
  },
  {
   "cell_type": "code",
   "execution_count": 33,
   "id": "d0afc832",
   "metadata": {
    "ExecuteTime": {
     "end_time": "2021-12-30T23:14:21.385486Z",
     "start_time": "2021-12-30T23:14:21.345388Z"
    }
   },
   "outputs": [
    {
     "data": {
      "text/html": [
       "<div>\n",
       "<style scoped>\n",
       "    .dataframe tbody tr th:only-of-type {\n",
       "        vertical-align: middle;\n",
       "    }\n",
       "\n",
       "    .dataframe tbody tr th {\n",
       "        vertical-align: top;\n",
       "    }\n",
       "\n",
       "    .dataframe thead th {\n",
       "        text-align: right;\n",
       "    }\n",
       "</style>\n",
       "<table border=\"1\" class=\"dataframe\">\n",
       "  <thead>\n",
       "    <tr style=\"text-align: right;\">\n",
       "      <th></th>\n",
       "      <th>id</th>\n",
       "      <th>age</th>\n",
       "      <th>gender</th>\n",
       "      <th>height</th>\n",
       "      <th>weight</th>\n",
       "      <th>ap_hi</th>\n",
       "      <th>ap_lo</th>\n",
       "      <th>cholesterol</th>\n",
       "      <th>gluc</th>\n",
       "      <th>smoke</th>\n",
       "      <th>alco</th>\n",
       "      <th>active</th>\n",
       "      <th>cardio</th>\n",
       "      <th>age_</th>\n",
       "    </tr>\n",
       "  </thead>\n",
       "  <tbody>\n",
       "    <tr>\n",
       "      <th>8171</th>\n",
       "      <td>11662</td>\n",
       "      <td>17646</td>\n",
       "      <td>2</td>\n",
       "      <td>170.0</td>\n",
       "      <td>97.0</td>\n",
       "      <td>160</td>\n",
       "      <td>100</td>\n",
       "      <td>1</td>\n",
       "      <td>1</td>\n",
       "      <td>1</td>\n",
       "      <td>0</td>\n",
       "      <td>1</td>\n",
       "      <td>1</td>\n",
       "      <td>48</td>\n",
       "    </tr>\n",
       "    <tr>\n",
       "      <th>12770</th>\n",
       "      <td>18218</td>\n",
       "      <td>19594</td>\n",
       "      <td>1</td>\n",
       "      <td>168.0</td>\n",
       "      <td>75.0</td>\n",
       "      <td>120</td>\n",
       "      <td>80</td>\n",
       "      <td>1</td>\n",
       "      <td>1</td>\n",
       "      <td>1</td>\n",
       "      <td>0</td>\n",
       "      <td>1</td>\n",
       "      <td>1</td>\n",
       "      <td>53</td>\n",
       "    </tr>\n",
       "    <tr>\n",
       "      <th>23913</th>\n",
       "      <td>34186</td>\n",
       "      <td>19074</td>\n",
       "      <td>1</td>\n",
       "      <td>156.0</td>\n",
       "      <td>81.0</td>\n",
       "      <td>140</td>\n",
       "      <td>90</td>\n",
       "      <td>1</td>\n",
       "      <td>1</td>\n",
       "      <td>0</td>\n",
       "      <td>0</td>\n",
       "      <td>1</td>\n",
       "      <td>0</td>\n",
       "      <td>52</td>\n",
       "    </tr>\n",
       "    <tr>\n",
       "      <th>27384</th>\n",
       "      <td>39156</td>\n",
       "      <td>15292</td>\n",
       "      <td>1</td>\n",
       "      <td>178.0</td>\n",
       "      <td>80.0</td>\n",
       "      <td>140</td>\n",
       "      <td>90</td>\n",
       "      <td>3</td>\n",
       "      <td>3</td>\n",
       "      <td>0</td>\n",
       "      <td>0</td>\n",
       "      <td>1</td>\n",
       "      <td>1</td>\n",
       "      <td>41</td>\n",
       "    </tr>\n",
       "    <tr>\n",
       "      <th>45358</th>\n",
       "      <td>64802</td>\n",
       "      <td>19834</td>\n",
       "      <td>1</td>\n",
       "      <td>159.0</td>\n",
       "      <td>104.0</td>\n",
       "      <td>200</td>\n",
       "      <td>100</td>\n",
       "      <td>3</td>\n",
       "      <td>1</td>\n",
       "      <td>0</td>\n",
       "      <td>0</td>\n",
       "      <td>0</td>\n",
       "      <td>1</td>\n",
       "      <td>54</td>\n",
       "    </tr>\n",
       "    <tr>\n",
       "      <th>59625</th>\n",
       "      <td>85128</td>\n",
       "      <td>17643</td>\n",
       "      <td>1</td>\n",
       "      <td>165.0</td>\n",
       "      <td>104.0</td>\n",
       "      <td>120</td>\n",
       "      <td>80</td>\n",
       "      <td>1</td>\n",
       "      <td>1</td>\n",
       "      <td>0</td>\n",
       "      <td>0</td>\n",
       "      <td>1</td>\n",
       "      <td>0</td>\n",
       "      <td>48</td>\n",
       "    </tr>\n",
       "  </tbody>\n",
       "</table>\n",
       "</div>"
      ],
      "text/plain": [
       "          id    age  gender  height  weight  ap_hi  ap_lo  cholesterol  gluc  \\\n",
       "8171   11662  17646       2   170.0    97.0    160    100            1     1   \n",
       "12770  18218  19594       1   168.0    75.0    120     80            1     1   \n",
       "23913  34186  19074       1   156.0    81.0    140     90            1     1   \n",
       "27384  39156  15292       1   178.0    80.0    140     90            3     3   \n",
       "45358  64802  19834       1   159.0   104.0    200    100            3     1   \n",
       "59625  85128  17643       1   165.0   104.0    120     80            1     1   \n",
       "\n",
       "       smoke  alco  active  cardio  age_  \n",
       "8171       1     0       1       1    48  \n",
       "12770      1     0       1       1    53  \n",
       "23913      0     0       1       0    52  \n",
       "27384      0     0       1       1    41  \n",
       "45358      0     0       0       1    54  \n",
       "59625      0     0       1       0    48  "
      ]
     },
     "execution_count": 33,
     "metadata": {},
     "output_type": "execute_result"
    }
   ],
   "source": [
    "df.loc[invertidos_index]"
   ]
  },
  {
   "cell_type": "markdown",
   "id": "8f479781",
   "metadata": {},
   "source": [
    "**weight**"
   ]
  },
  {
   "cell_type": "code",
   "execution_count": 50,
   "id": "9be761b6",
   "metadata": {
    "ExecuteTime": {
     "end_time": "2021-12-30T18:11:34.832097Z",
     "start_time": "2021-12-30T18:11:34.808099Z"
    }
   },
   "outputs": [
    {
     "data": {
      "text/plain": [
       "15834"
      ]
     },
     "execution_count": 50,
     "metadata": {},
     "output_type": "execute_result"
    }
   ],
   "source": [
    "df.loc[df['weight'] > 83, 'id'].count()"
   ]
  },
  {
   "cell_type": "code",
   "execution_count": 51,
   "id": "145e2797",
   "metadata": {
    "ExecuteTime": {
     "end_time": "2021-12-30T18:11:48.250839Z",
     "start_time": "2021-12-30T18:11:47.453810Z"
    },
    "scrolled": true
   },
   "outputs": [
    {
     "data": {
      "text/plain": [
       "<AxesSubplot:xlabel='weight', ylabel='Count'>"
      ]
     },
     "execution_count": 51,
     "metadata": {},
     "output_type": "execute_result"
    },
    {
     "data": {
      "image/png": "[encoded data removed]",
      "text/plain": [
       "<Figure size 432x288 with 1 Axes>"
      ]
     },
     "metadata": {
      "needs_background": "light"
     },
     "output_type": "display_data"
    }
   ],
   "source": [
    "sns.histplot(df['weight'])"
   ]
  },
  {
   "cell_type": "code",
   "execution_count": 69,
   "id": "e75058aa",
   "metadata": {
    "ExecuteTime": {
     "end_time": "2021-12-30T18:22:43.090112Z",
     "start_time": "2021-12-30T18:22:43.061709Z"
    }
   },
   "outputs": [],
   "source": [
    "outliers_indices = buscar_outliers(df, 'weight')"
   ]
  },
  {
   "cell_type": "code",
   "execution_count": 70,
   "id": "fbacde2c",
   "metadata": {
    "ExecuteTime": {
     "end_time": "2021-12-30T18:22:44.709138Z",
     "start_time": "2021-12-30T18:22:44.685104Z"
    }
   },
   "outputs": [
    {
     "data": {
      "text/plain": [
       "1819"
      ]
     },
     "execution_count": 70,
     "metadata": {},
     "output_type": "execute_result"
    }
   ],
   "source": [
    "df.loc[outliers_indices, 'id'].count()"
   ]
  },
  {
   "cell_type": "markdown",
   "id": "2333f58c",
   "metadata": {},
   "source": [
    "# 3.0 Feature Engineering"
   ]
  },
  {
   "cell_type": "markdown",
   "id": "35c64b58",
   "metadata": {},
   "source": [
    "# 4.0 Business Hypothesis"
   ]
  },
  {
   "cell_type": "markdown",
   "id": "88b97e53",
   "metadata": {},
   "source": [
    "# 5.0 Exploratory Data Analysis"
   ]
  },
  {
   "cell_type": "markdown",
   "id": "1102641e",
   "metadata": {},
   "source": [
    "# 6.0 Data Preparation"
   ]
  },
  {
   "cell_type": "code",
   "execution_count": 13,
   "id": "4433e0db",
   "metadata": {
    "ExecuteTime": {
     "end_time": "2021-12-30T17:02:15.865898Z",
     "start_time": "2021-12-30T17:02:15.844966Z"
    }
   },
   "outputs": [],
   "source": [
    "X = df.drop(features_remover, axis=1)\n",
    "y = df[features_target]"
   ]
  },
  {
   "cell_type": "code",
   "execution_count": 14,
   "id": "caf8c460",
   "metadata": {
    "ExecuteTime": {
     "end_time": "2021-12-30T17:02:15.914033Z",
     "start_time": "2021-12-30T17:02:15.871533Z"
    }
   },
   "outputs": [],
   "source": [
    "X_train, X_test, y_train, y_test = train_test_split(X, y, test_size=0.3)"
   ]
  },
  {
   "cell_type": "markdown",
   "id": "cf7e37ad",
   "metadata": {},
   "source": [
    "# 7.0 Machine Learning"
   ]
  },
  {
   "cell_type": "markdown",
   "id": "aa890a5a",
   "metadata": {},
   "source": [
    "###### Model description"
   ]
  },
  {
   "cell_type": "code",
   "execution_count": 15,
   "id": "ad5f2a79",
   "metadata": {
    "ExecuteTime": {
     "end_time": "2021-12-30T17:02:15.928518Z",
     "start_time": "2021-12-30T17:02:15.914033Z"
    }
   },
   "outputs": [],
   "source": [
    "rf_model = RandomForestClassifier()"
   ]
  },
  {
   "cell_type": "markdown",
   "id": "9d44be48",
   "metadata": {},
   "source": [
    "###### Fiting model"
   ]
  },
  {
   "cell_type": "code",
   "execution_count": 16,
   "id": "cd2a8a63",
   "metadata": {
    "ExecuteTime": {
     "end_time": "2021-12-30T17:02:19.363127Z",
     "start_time": "2021-12-30T17:02:15.930840Z"
    }
   },
   "outputs": [
    {
     "name": "stderr",
     "output_type": "stream",
     "text": [
      "C:\\Users\\Samoel\\AppData\\Local\\Temp/ipykernel_5564/3223170611.py:1: DataConversionWarning: A column-vector y was passed when a 1d array was expected. Please change the shape of y to (n_samples,), for example using ravel().\n",
      "  rf_fit = rf_model.fit(X_train, y_train)\n"
     ]
    }
   ],
   "source": [
    "rf_fit = rf_model.fit(X_train, y_train)"
   ]
  },
  {
   "cell_type": "markdown",
   "id": "b69cfb9f",
   "metadata": {},
   "source": [
    "###### Predicts"
   ]
  },
  {
   "cell_type": "code",
   "execution_count": 17,
   "id": "9684a2ef",
   "metadata": {
    "ExecuteTime": {
     "end_time": "2021-12-30T17:02:19.708307Z",
     "start_time": "2021-12-30T17:02:19.363127Z"
    }
   },
   "outputs": [],
   "source": [
    "rf_predict = rf_fit.predict(X_test)"
   ]
  },
  {
   "cell_type": "markdown",
   "id": "7af844f0",
   "metadata": {},
   "source": [
    "###### Metrics"
   ]
  },
  {
   "cell_type": "code",
   "execution_count": 18,
   "id": "d03789a9",
   "metadata": {
    "ExecuteTime": {
     "end_time": "2021-12-30T17:02:19.779530Z",
     "start_time": "2021-12-30T17:02:19.708307Z"
    },
    "scrolled": false
   },
   "outputs": [
    {
     "name": "stdout",
     "output_type": "stream",
     "text": [
      "              precision    recall  f1-score   support\n",
      "\n",
      "           0       1.00      1.00      1.00     10433\n",
      "           1       1.00      1.00      1.00     10567\n",
      "\n",
      "    accuracy                           1.00     21000\n",
      "   macro avg       1.00      1.00      1.00     21000\n",
      "weighted avg       1.00      1.00      1.00     21000\n",
      "\n"
     ]
    }
   ],
   "source": [
    "print(classification_report(y_test, rf_predict))"
   ]
  },
  {
   "cell_type": "markdown",
   "id": "cd686880",
   "metadata": {},
   "source": [
    "Overfitado"
   ]
  },
  {
   "cell_type": "markdown",
   "id": "9e774926",
   "metadata": {},
   "source": [
    "# 8.0 Results and Conclusions"
   ]
  },
  {
   "cell_type": "markdown",
   "id": "f2c20cd8",
   "metadata": {},
   "source": [
    "# Time"
   ]
  },
  {
   "cell_type": "code",
   "execution_count": 19,
   "id": "2aa0cbe6",
   "metadata": {
    "ExecuteTime": {
     "end_time": "2021-12-30T17:02:19.791879Z",
     "start_time": "2021-12-30T17:02:19.779530Z"
    }
   },
   "outputs": [
    {
     "name": "stdout",
     "output_type": "stream",
     "text": [
      "O tempo de processamento do projeto foi de: 1 minutos\n"
     ]
    }
   ],
   "source": [
    "print(f'O tempo de processamento do projeto foi de: {int(round(time.time()-tempo_agora, 2)/60)} minutos')"
   ]
  }
 ],
 "metadata": {
  "kernelspec": {
   "display_name": "Python 3 (ipykernel)",
   "language": "python",
   "name": "python3"
  },
  "language_info": {
   "codemirror_mode": {
    "name": "ipython",
    "version": 3
   },
   "file_extension": ".py",
   "mimetype": "text/x-python",
   "name": "python",
   "nbconvert_exporter": "python",
   "pygments_lexer": "ipython3",
   "version": "3.9.7"
  }
 },
 "nbformat": 4,
 "nbformat_minor": 5
}
