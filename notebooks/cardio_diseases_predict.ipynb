{
 "cells": [
  {
   "cell_type": "markdown",
   "id": "f5f22930",
   "metadata": {
    "heading_collapsed": true
   },
   "source": [
    "# Reports\n",
    "1. Inputs: data from kaggle and business problem\n",
    "2. Outputs: results conslusions and request API"
   ]
  },
  {
   "cell_type": "markdown",
   "id": "03007925",
   "metadata": {
    "heading_collapsed": true
   },
   "source": [
    "# 1.0 Imports"
   ]
  },
  {
   "cell_type": "markdown",
   "id": "3490950f",
   "metadata": {
    "heading_collapsed": true,
    "hidden": true
   },
   "source": [
    "###### 1.1 Libraries"
   ]
  },
  {
   "cell_type": "code",
   "execution_count": 1,
   "id": "8ef3ed94",
   "metadata": {
    "ExecuteTime": {
     "end_time": "2022-01-13T23:08:18.986475Z",
     "start_time": "2022-01-13T23:08:10.578138Z"
    },
    "hidden": true
   },
   "outputs": [],
   "source": [
    "import pandas as pd\n",
    "import numpy as np\n",
    "import matplotlib.pyplot as plt\n",
    "import seaborn as sns\n",
    "\n",
    "from sklearn.ensemble import RandomForestClassifier\n",
    "from sklearn.model_selection import train_test_split\n",
    "from sklearn.metrics import classification_report\n",
    "from sklearn.preprocessing import StandardScaler\n",
    "\n",
    "import time\n",
    "\n",
    "tempo_agora = time.time()"
   ]
  },
  {
   "cell_type": "markdown",
   "id": "8b3718c7",
   "metadata": {
    "heading_collapsed": true,
    "hidden": true
   },
   "source": [
    "###### 1.2 Helper Functions"
   ]
  },
  {
   "cell_type": "code",
   "execution_count": 2,
   "id": "85ca7992",
   "metadata": {
    "ExecuteTime": {
     "end_time": "2022-01-13T23:08:19.010492Z",
     "start_time": "2022-01-13T23:08:18.986475Z"
    },
    "hidden": true
   },
   "outputs": [],
   "source": [
    "# buscar outliers pelo método de Tukey\n",
    "def buscar_outliers(df, col):\n",
    "    primeiro_quartil = df[col].quantile(0.25)\n",
    "    terceiro_quartil = df[col].quantile(0.75)\n",
    "    range_ = terceiro_quartil - primeiro_quartil\n",
    "    salto = range_ * 1.5\n",
    "    limite_inferior = primeiro_quartil - salto\n",
    "    limite_superior = terceiro_quartil + salto\n",
    "    outliers_indices = df[(df[col]<limite_inferior)|(df[col]>limite_superior)].index\n",
    "    return outliers_indices, limite_inferior, limite_superior\n",
    "\n",
    "# estatística descritiva de primeira e segunda ordem\n",
    "def desc_stats(df, col):\n",
    "    print(f'Dados da feature: {col}\\n')\n",
    "    print(f'Máximo (max): {df[col].max()}')\n",
    "    print(f'Mínimo (min): {df[col].min()}')\n",
    "    print(f'Range (range): {df[col].max()-df[col].min()}')\n",
    "    print(f'Média (mean): {df[col].mean()}')\n",
    "    print(f'Mediana (median): {df[col].median()}')\n",
    "    print(f'Desvio padrão (standard deviation): {df[col].std()}')\n",
    "    print(f'Curtose (kurtosis): {df[col].kurtosis()}')\n",
    "    print(f'Assimetria (skew): {df[col].skew()}')"
   ]
  },
  {
   "cell_type": "markdown",
   "id": "05a99f8f",
   "metadata": {
    "heading_collapsed": true,
    "hidden": true
   },
   "source": [
    "###### 1.3 Loading Dataset"
   ]
  },
  {
   "cell_type": "code",
   "execution_count": 3,
   "id": "d945249e",
   "metadata": {
    "ExecuteTime": {
     "end_time": "2022-01-13T23:08:19.138638Z",
     "start_time": "2022-01-13T23:08:19.010492Z"
    },
    "hidden": true
   },
   "outputs": [],
   "source": [
    "df = pd.read_csv('D:\\\\My drive\\\\Pessoal\\\\Projetos\\\\cardio_diseases_predict\\\\cardio_diseases_predict\\\\cardio_train.csv', sep=';')"
   ]
  },
  {
   "cell_type": "markdown",
   "id": "6d9aa1b1",
   "metadata": {},
   "source": [
    "# 2.0 Data Description and Cleaning"
   ]
  },
  {
   "cell_type": "markdown",
   "id": "1eb933ec",
   "metadata": {
    "heading_collapsed": true
   },
   "source": [
    "## 2.1 Main insights:\n",
    "\n",
    "###### Age: \n",
    "1. Range entre 29 e 64 anos\n",
    "\n",
    "###### Gender: \n",
    "1. Mulheres são maioria com 65% do total\n",
    "2. Há quase o dobro de mulheres. Mulheres necessitam mais de acompanhamento cardíaco ou mulheres são mais preventivas do que homens?\n",
    "\n",
    "###### Cholesterol: \n",
    "1. 75% dos pacientes possuem colesterol normal\n",
    "\n",
    "###### Glucose: \n",
    "1. 85% dos pacientes apresentam nível normal de glicemia\n",
    "\n",
    "###### Alcohol Intake: \n",
    "1. 95% dos pacientes não consomem bebidas alcólicas\n",
    "\n",
    "###### Physical activity: \n",
    "1. 50% praticam atividades físicas"
   ]
  },
  {
   "cell_type": "markdown",
   "id": "ef2a54e4",
   "metadata": {
    "heading_collapsed": true
   },
   "source": [
    "## 2.2 General Analysis"
   ]
  },
  {
   "cell_type": "markdown",
   "id": "72a688ea",
   "metadata": {
    "heading_collapsed": true,
    "hidden": true
   },
   "source": [
    "###### 2.2.1 Looking dataset"
   ]
  },
  {
   "cell_type": "code",
   "execution_count": 4,
   "id": "bdd76abb",
   "metadata": {
    "ExecuteTime": {
     "end_time": "2022-01-13T23:08:19.186698Z",
     "start_time": "2022-01-13T23:08:19.138638Z"
    },
    "hidden": true
   },
   "outputs": [
    {
     "data": {
      "text/html": [
       "<div>\n",
       "<style scoped>\n",
       "    .dataframe tbody tr th:only-of-type {\n",
       "        vertical-align: middle;\n",
       "    }\n",
       "\n",
       "    .dataframe tbody tr th {\n",
       "        vertical-align: top;\n",
       "    }\n",
       "\n",
       "    .dataframe thead th {\n",
       "        text-align: right;\n",
       "    }\n",
       "</style>\n",
       "<table border=\"1\" class=\"dataframe\">\n",
       "  <thead>\n",
       "    <tr style=\"text-align: right;\">\n",
       "      <th></th>\n",
       "      <th>id</th>\n",
       "      <th>age</th>\n",
       "      <th>gender</th>\n",
       "      <th>height</th>\n",
       "      <th>weight</th>\n",
       "      <th>ap_hi</th>\n",
       "      <th>ap_lo</th>\n",
       "      <th>cholesterol</th>\n",
       "      <th>gluc</th>\n",
       "      <th>smoke</th>\n",
       "      <th>alco</th>\n",
       "      <th>active</th>\n",
       "      <th>cardio</th>\n",
       "    </tr>\n",
       "  </thead>\n",
       "  <tbody>\n",
       "    <tr>\n",
       "      <th>0</th>\n",
       "      <td>0</td>\n",
       "      <td>18393</td>\n",
       "      <td>2</td>\n",
       "      <td>168</td>\n",
       "      <td>62.0</td>\n",
       "      <td>110</td>\n",
       "      <td>80</td>\n",
       "      <td>1</td>\n",
       "      <td>1</td>\n",
       "      <td>0</td>\n",
       "      <td>0</td>\n",
       "      <td>1</td>\n",
       "      <td>0</td>\n",
       "    </tr>\n",
       "    <tr>\n",
       "      <th>1</th>\n",
       "      <td>1</td>\n",
       "      <td>20228</td>\n",
       "      <td>1</td>\n",
       "      <td>156</td>\n",
       "      <td>85.0</td>\n",
       "      <td>140</td>\n",
       "      <td>90</td>\n",
       "      <td>3</td>\n",
       "      <td>1</td>\n",
       "      <td>0</td>\n",
       "      <td>0</td>\n",
       "      <td>1</td>\n",
       "      <td>1</td>\n",
       "    </tr>\n",
       "    <tr>\n",
       "      <th>2</th>\n",
       "      <td>2</td>\n",
       "      <td>18857</td>\n",
       "      <td>1</td>\n",
       "      <td>165</td>\n",
       "      <td>64.0</td>\n",
       "      <td>130</td>\n",
       "      <td>70</td>\n",
       "      <td>3</td>\n",
       "      <td>1</td>\n",
       "      <td>0</td>\n",
       "      <td>0</td>\n",
       "      <td>0</td>\n",
       "      <td>1</td>\n",
       "    </tr>\n",
       "    <tr>\n",
       "      <th>3</th>\n",
       "      <td>3</td>\n",
       "      <td>17623</td>\n",
       "      <td>2</td>\n",
       "      <td>169</td>\n",
       "      <td>82.0</td>\n",
       "      <td>150</td>\n",
       "      <td>100</td>\n",
       "      <td>1</td>\n",
       "      <td>1</td>\n",
       "      <td>0</td>\n",
       "      <td>0</td>\n",
       "      <td>1</td>\n",
       "      <td>1</td>\n",
       "    </tr>\n",
       "    <tr>\n",
       "      <th>4</th>\n",
       "      <td>4</td>\n",
       "      <td>17474</td>\n",
       "      <td>1</td>\n",
       "      <td>156</td>\n",
       "      <td>56.0</td>\n",
       "      <td>100</td>\n",
       "      <td>60</td>\n",
       "      <td>1</td>\n",
       "      <td>1</td>\n",
       "      <td>0</td>\n",
       "      <td>0</td>\n",
       "      <td>0</td>\n",
       "      <td>0</td>\n",
       "    </tr>\n",
       "  </tbody>\n",
       "</table>\n",
       "</div>"
      ],
      "text/plain": [
       "   id    age  gender  height  weight  ap_hi  ap_lo  cholesterol  gluc  smoke  \\\n",
       "0   0  18393       2     168    62.0    110     80            1     1      0   \n",
       "1   1  20228       1     156    85.0    140     90            3     1      0   \n",
       "2   2  18857       1     165    64.0    130     70            3     1      0   \n",
       "3   3  17623       2     169    82.0    150    100            1     1      0   \n",
       "4   4  17474       1     156    56.0    100     60            1     1      0   \n",
       "\n",
       "   alco  active  cardio  \n",
       "0     0       1       0  \n",
       "1     0       1       1  \n",
       "2     0       0       1  \n",
       "3     0       1       1  \n",
       "4     0       0       0  "
      ]
     },
     "execution_count": 4,
     "metadata": {},
     "output_type": "execute_result"
    }
   ],
   "source": [
    "df.head(5)"
   ]
  },
  {
   "cell_type": "markdown",
   "id": "1325fe29",
   "metadata": {
    "heading_collapsed": true,
    "hidden": true
   },
   "source": [
    "###### 2.2.2 Data Dimensions"
   ]
  },
  {
   "cell_type": "code",
   "execution_count": 5,
   "id": "40a08107",
   "metadata": {
    "ExecuteTime": {
     "end_time": "2022-01-13T23:08:19.203318Z",
     "start_time": "2022-01-13T23:08:19.186698Z"
    },
    "hidden": true
   },
   "outputs": [
    {
     "name": "stdout",
     "output_type": "stream",
     "text": [
      "Number of rows: 70000\n",
      "Number of columns: 13\n"
     ]
    }
   ],
   "source": [
    "print(f'Number of rows: {df.shape[0]}')\n",
    "print(f'Number of columns: {df.shape[1]}')"
   ]
  },
  {
   "cell_type": "markdown",
   "id": "a547692a",
   "metadata": {
    "heading_collapsed": true,
    "hidden": true
   },
   "source": [
    "###### 2.2.3 Data Types"
   ]
  },
  {
   "cell_type": "code",
   "execution_count": 6,
   "id": "029612a9",
   "metadata": {
    "ExecuteTime": {
     "end_time": "2022-01-13T23:08:19.225274Z",
     "start_time": "2022-01-13T23:08:19.203318Z"
    },
    "hidden": true,
    "scrolled": true
   },
   "outputs": [
    {
     "data": {
      "text/plain": [
       "id               int64\n",
       "age              int64\n",
       "gender           int64\n",
       "height           int64\n",
       "weight         float64\n",
       "ap_hi            int64\n",
       "ap_lo            int64\n",
       "cholesterol      int64\n",
       "gluc             int64\n",
       "smoke            int64\n",
       "alco             int64\n",
       "active           int64\n",
       "cardio           int64\n",
       "dtype: object"
      ]
     },
     "execution_count": 6,
     "metadata": {},
     "output_type": "execute_result"
    }
   ],
   "source": [
    "df.dtypes"
   ]
  },
  {
   "cell_type": "markdown",
   "id": "3256ccaa",
   "metadata": {
    "heading_collapsed": true,
    "hidden": true
   },
   "source": [
    "###### 2.2.4 Check NaNs"
   ]
  },
  {
   "cell_type": "code",
   "execution_count": 7,
   "id": "ae04ab13",
   "metadata": {
    "ExecuteTime": {
     "end_time": "2022-01-13T23:08:19.249529Z",
     "start_time": "2022-01-13T23:08:19.225274Z"
    },
    "hidden": true,
    "scrolled": true
   },
   "outputs": [
    {
     "data": {
      "text/plain": [
       "id             0\n",
       "age            0\n",
       "gender         0\n",
       "height         0\n",
       "weight         0\n",
       "ap_hi          0\n",
       "ap_lo          0\n",
       "cholesterol    0\n",
       "gluc           0\n",
       "smoke          0\n",
       "alco           0\n",
       "active         0\n",
       "cardio         0\n",
       "dtype: int64"
      ]
     },
     "execution_count": 7,
     "metadata": {},
     "output_type": "execute_result"
    }
   ],
   "source": [
    "df.isna().sum()"
   ]
  },
  {
   "cell_type": "markdown",
   "id": "7090f244",
   "metadata": {
    "heading_collapsed": true,
    "hidden": true
   },
   "source": [
    "###### 2.2.5 Changing interesting features"
   ]
  },
  {
   "cell_type": "markdown",
   "id": "db3d459e",
   "metadata": {
    "hidden": true
   },
   "source": [
    "Para uma melhor análise a idade será transformada de dias para anos"
   ]
  },
  {
   "cell_type": "code",
   "execution_count": 8,
   "id": "61ea4e33",
   "metadata": {
    "ExecuteTime": {
     "end_time": "2022-01-13T23:08:19.265513Z",
     "start_time": "2022-01-13T23:08:19.249529Z"
    },
    "hidden": true
   },
   "outputs": [],
   "source": [
    "df['age_'] = df['age'] / 365\n",
    "df['age_'] = df['age_'].astype('int')"
   ]
  },
  {
   "cell_type": "markdown",
   "id": "4a1bbab4",
   "metadata": {
    "heading_collapsed": true,
    "hidden": true
   },
   "source": [
    "###### 2.2.6 Segragating feature types"
   ]
  },
  {
   "cell_type": "code",
   "execution_count": 9,
   "id": "4dc74d8d",
   "metadata": {
    "ExecuteTime": {
     "end_time": "2022-01-13T23:08:19.281506Z",
     "start_time": "2022-01-13T23:08:19.265513Z"
    },
    "hidden": true
   },
   "outputs": [],
   "source": [
    "features_target = ['cardio']\n",
    "features_remover = ['id', 'age_']\n",
    "features_numéricas = ['age_', 'height', 'weight', 'ap_hi', 'ap_lo']\n",
    "features_categóricas = ['gender', 'cholesterol', 'gluc', 'smoke', 'alco', 'active', 'cardio']"
   ]
  },
  {
   "cell_type": "markdown",
   "id": "84785332",
   "metadata": {},
   "source": [
    "## 2.3 Descriptive Statistics"
   ]
  },
  {
   "cell_type": "markdown",
   "id": "c36c3f59",
   "metadata": {
    "heading_collapsed": true
   },
   "source": [
    "##### 2.3.1 Numerical Features"
   ]
  },
  {
   "cell_type": "code",
   "execution_count": 10,
   "id": "d52abafe",
   "metadata": {
    "ExecuteTime": {
     "end_time": "2022-01-13T23:08:19.354874Z",
     "start_time": "2022-01-13T23:08:19.282808Z"
    },
    "hidden": true,
    "scrolled": false
   },
   "outputs": [
    {
     "data": {
      "text/html": [
       "<div>\n",
       "<style scoped>\n",
       "    .dataframe tbody tr th:only-of-type {\n",
       "        vertical-align: middle;\n",
       "    }\n",
       "\n",
       "    .dataframe tbody tr th {\n",
       "        vertical-align: top;\n",
       "    }\n",
       "\n",
       "    .dataframe thead th {\n",
       "        text-align: right;\n",
       "    }\n",
       "</style>\n",
       "<table border=\"1\" class=\"dataframe\">\n",
       "  <thead>\n",
       "    <tr style=\"text-align: right;\">\n",
       "      <th></th>\n",
       "      <th>age_</th>\n",
       "      <th>height</th>\n",
       "      <th>weight</th>\n",
       "      <th>ap_hi</th>\n",
       "      <th>ap_lo</th>\n",
       "    </tr>\n",
       "  </thead>\n",
       "  <tbody>\n",
       "    <tr>\n",
       "      <th>count</th>\n",
       "      <td>70000.000000</td>\n",
       "      <td>70000.000000</td>\n",
       "      <td>70000.000000</td>\n",
       "      <td>70000.000000</td>\n",
       "      <td>70000.000000</td>\n",
       "    </tr>\n",
       "    <tr>\n",
       "      <th>mean</th>\n",
       "      <td>52.840671</td>\n",
       "      <td>164.359229</td>\n",
       "      <td>74.205690</td>\n",
       "      <td>128.817286</td>\n",
       "      <td>96.630414</td>\n",
       "    </tr>\n",
       "    <tr>\n",
       "      <th>std</th>\n",
       "      <td>6.766774</td>\n",
       "      <td>8.210126</td>\n",
       "      <td>14.395757</td>\n",
       "      <td>154.011419</td>\n",
       "      <td>188.472530</td>\n",
       "    </tr>\n",
       "    <tr>\n",
       "      <th>min</th>\n",
       "      <td>29.000000</td>\n",
       "      <td>55.000000</td>\n",
       "      <td>10.000000</td>\n",
       "      <td>-150.000000</td>\n",
       "      <td>-70.000000</td>\n",
       "    </tr>\n",
       "    <tr>\n",
       "      <th>25%</th>\n",
       "      <td>48.000000</td>\n",
       "      <td>159.000000</td>\n",
       "      <td>65.000000</td>\n",
       "      <td>120.000000</td>\n",
       "      <td>80.000000</td>\n",
       "    </tr>\n",
       "    <tr>\n",
       "      <th>50%</th>\n",
       "      <td>53.000000</td>\n",
       "      <td>165.000000</td>\n",
       "      <td>72.000000</td>\n",
       "      <td>120.000000</td>\n",
       "      <td>80.000000</td>\n",
       "    </tr>\n",
       "    <tr>\n",
       "      <th>75%</th>\n",
       "      <td>58.000000</td>\n",
       "      <td>170.000000</td>\n",
       "      <td>82.000000</td>\n",
       "      <td>140.000000</td>\n",
       "      <td>90.000000</td>\n",
       "    </tr>\n",
       "    <tr>\n",
       "      <th>max</th>\n",
       "      <td>64.000000</td>\n",
       "      <td>250.000000</td>\n",
       "      <td>200.000000</td>\n",
       "      <td>16020.000000</td>\n",
       "      <td>11000.000000</td>\n",
       "    </tr>\n",
       "  </tbody>\n",
       "</table>\n",
       "</div>"
      ],
      "text/plain": [
       "               age_        height        weight         ap_hi         ap_lo\n",
       "count  70000.000000  70000.000000  70000.000000  70000.000000  70000.000000\n",
       "mean      52.840671    164.359229     74.205690    128.817286     96.630414\n",
       "std        6.766774      8.210126     14.395757    154.011419    188.472530\n",
       "min       29.000000     55.000000     10.000000   -150.000000    -70.000000\n",
       "25%       48.000000    159.000000     65.000000    120.000000     80.000000\n",
       "50%       53.000000    165.000000     72.000000    120.000000     80.000000\n",
       "75%       58.000000    170.000000     82.000000    140.000000     90.000000\n",
       "max       64.000000    250.000000    200.000000  16020.000000  11000.000000"
      ]
     },
     "execution_count": 10,
     "metadata": {},
     "output_type": "execute_result"
    }
   ],
   "source": [
    "df[features_numéricas].describe()"
   ]
  },
  {
   "cell_type": "markdown",
   "id": "c590f7bf",
   "metadata": {
    "hidden": true
   },
   "source": [
    "Range de idade entre 29 e 64 anos, altura máxima de 2 metros e meio provavelmente indica erros de input, peso mínimo de 10kgs tratando-se de adutos indica erros de input, pressão arterial com valores negativos tanto no ap_hi quanto no ap_lo, assim como seus máximos."
   ]
  },
  {
   "cell_type": "markdown",
   "id": "11cbea9e",
   "metadata": {
    "heading_collapsed": true
   },
   "source": [
    "##### 2.3.2  Categorical Features"
   ]
  },
  {
   "cell_type": "code",
   "execution_count": 11,
   "id": "27f36d20",
   "metadata": {
    "ExecuteTime": {
     "end_time": "2022-01-13T23:08:19.418775Z",
     "start_time": "2022-01-13T23:08:19.354874Z"
    },
    "hidden": true,
    "scrolled": true
   },
   "outputs": [
    {
     "data": {
      "text/html": [
       "<div>\n",
       "<style scoped>\n",
       "    .dataframe tbody tr th:only-of-type {\n",
       "        vertical-align: middle;\n",
       "    }\n",
       "\n",
       "    .dataframe tbody tr th {\n",
       "        vertical-align: top;\n",
       "    }\n",
       "\n",
       "    .dataframe thead th {\n",
       "        text-align: right;\n",
       "    }\n",
       "</style>\n",
       "<table border=\"1\" class=\"dataframe\">\n",
       "  <thead>\n",
       "    <tr style=\"text-align: right;\">\n",
       "      <th></th>\n",
       "      <th>gender</th>\n",
       "      <th>cholesterol</th>\n",
       "      <th>gluc</th>\n",
       "      <th>smoke</th>\n",
       "      <th>alco</th>\n",
       "      <th>active</th>\n",
       "      <th>cardio</th>\n",
       "    </tr>\n",
       "  </thead>\n",
       "  <tbody>\n",
       "    <tr>\n",
       "      <th>count</th>\n",
       "      <td>70000</td>\n",
       "      <td>70000</td>\n",
       "      <td>70000</td>\n",
       "      <td>70000</td>\n",
       "      <td>70000</td>\n",
       "      <td>70000</td>\n",
       "      <td>70000</td>\n",
       "    </tr>\n",
       "    <tr>\n",
       "      <th>unique</th>\n",
       "      <td>2</td>\n",
       "      <td>3</td>\n",
       "      <td>3</td>\n",
       "      <td>2</td>\n",
       "      <td>2</td>\n",
       "      <td>2</td>\n",
       "      <td>2</td>\n",
       "    </tr>\n",
       "    <tr>\n",
       "      <th>top</th>\n",
       "      <td>1</td>\n",
       "      <td>1</td>\n",
       "      <td>1</td>\n",
       "      <td>0</td>\n",
       "      <td>0</td>\n",
       "      <td>1</td>\n",
       "      <td>0</td>\n",
       "    </tr>\n",
       "    <tr>\n",
       "      <th>freq</th>\n",
       "      <td>45530</td>\n",
       "      <td>52385</td>\n",
       "      <td>59479</td>\n",
       "      <td>63831</td>\n",
       "      <td>66236</td>\n",
       "      <td>56261</td>\n",
       "      <td>35021</td>\n",
       "    </tr>\n",
       "  </tbody>\n",
       "</table>\n",
       "</div>"
      ],
      "text/plain": [
       "        gender  cholesterol   gluc  smoke   alco  active  cardio\n",
       "count    70000        70000  70000  70000  70000   70000   70000\n",
       "unique       2            3      3      2      2       2       2\n",
       "top          1            1      1      0      0       1       0\n",
       "freq     45530        52385  59479  63831  66236   56261   35021"
      ]
     },
     "execution_count": 11,
     "metadata": {},
     "output_type": "execute_result"
    }
   ],
   "source": [
    "df[features_categóricas].astype('category').describe()"
   ]
  },
  {
   "cell_type": "markdown",
   "id": "6bae81b4",
   "metadata": {
    "hidden": true
   },
   "source": [
    "Mulheres são maioria com 65% do total, 75% dos pacientes possuem colesterol normal, 85% dos pacientes apresentam nível normal de glicemia, 95% dos pacientes não consomem bebidas alcólicas, 50% praticam atividades físicas"
   ]
  },
  {
   "cell_type": "markdown",
   "id": "c3cc234b",
   "metadata": {
    "heading_collapsed": true
   },
   "source": [
    "##### 2.3.3 Correlations"
   ]
  },
  {
   "cell_type": "code",
   "execution_count": 12,
   "id": "d4528e46",
   "metadata": {
    "ExecuteTime": {
     "end_time": "2022-01-13T23:08:19.516453Z",
     "start_time": "2022-01-13T23:08:19.418775Z"
    },
    "hidden": true
   },
   "outputs": [
    {
     "data": {
      "text/html": [
       "<div>\n",
       "<style scoped>\n",
       "    .dataframe tbody tr th:only-of-type {\n",
       "        vertical-align: middle;\n",
       "    }\n",
       "\n",
       "    .dataframe tbody tr th {\n",
       "        vertical-align: top;\n",
       "    }\n",
       "\n",
       "    .dataframe thead th {\n",
       "        text-align: right;\n",
       "    }\n",
       "</style>\n",
       "<table border=\"1\" class=\"dataframe\">\n",
       "  <thead>\n",
       "    <tr style=\"text-align: right;\">\n",
       "      <th></th>\n",
       "      <th>age</th>\n",
       "      <th>gender</th>\n",
       "      <th>height</th>\n",
       "      <th>weight</th>\n",
       "      <th>ap_hi</th>\n",
       "      <th>ap_lo</th>\n",
       "      <th>cholesterol</th>\n",
       "      <th>gluc</th>\n",
       "      <th>smoke</th>\n",
       "      <th>alco</th>\n",
       "      <th>active</th>\n",
       "      <th>cardio</th>\n",
       "    </tr>\n",
       "  </thead>\n",
       "  <tbody>\n",
       "    <tr>\n",
       "      <th>age</th>\n",
       "      <td>1.000000</td>\n",
       "      <td>-0.022811</td>\n",
       "      <td>-0.081515</td>\n",
       "      <td>0.053684</td>\n",
       "      <td>0.020764</td>\n",
       "      <td>0.017647</td>\n",
       "      <td>0.154424</td>\n",
       "      <td>0.098703</td>\n",
       "      <td>-0.047633</td>\n",
       "      <td>-0.029723</td>\n",
       "      <td>-0.009927</td>\n",
       "      <td>0.238159</td>\n",
       "    </tr>\n",
       "    <tr>\n",
       "      <th>gender</th>\n",
       "      <td>-0.022811</td>\n",
       "      <td>1.000000</td>\n",
       "      <td>0.499033</td>\n",
       "      <td>0.155406</td>\n",
       "      <td>0.006005</td>\n",
       "      <td>0.015254</td>\n",
       "      <td>-0.035821</td>\n",
       "      <td>-0.020491</td>\n",
       "      <td>0.338135</td>\n",
       "      <td>0.170966</td>\n",
       "      <td>0.005866</td>\n",
       "      <td>0.008109</td>\n",
       "    </tr>\n",
       "    <tr>\n",
       "      <th>height</th>\n",
       "      <td>-0.081515</td>\n",
       "      <td>0.499033</td>\n",
       "      <td>1.000000</td>\n",
       "      <td>0.290968</td>\n",
       "      <td>0.005488</td>\n",
       "      <td>0.006150</td>\n",
       "      <td>-0.050226</td>\n",
       "      <td>-0.018595</td>\n",
       "      <td>0.187989</td>\n",
       "      <td>0.094419</td>\n",
       "      <td>-0.006570</td>\n",
       "      <td>-0.010821</td>\n",
       "    </tr>\n",
       "    <tr>\n",
       "      <th>weight</th>\n",
       "      <td>0.053684</td>\n",
       "      <td>0.155406</td>\n",
       "      <td>0.290968</td>\n",
       "      <td>1.000000</td>\n",
       "      <td>0.030702</td>\n",
       "      <td>0.043710</td>\n",
       "      <td>0.141768</td>\n",
       "      <td>0.106857</td>\n",
       "      <td>0.067780</td>\n",
       "      <td>0.067113</td>\n",
       "      <td>-0.016867</td>\n",
       "      <td>0.181660</td>\n",
       "    </tr>\n",
       "    <tr>\n",
       "      <th>ap_hi</th>\n",
       "      <td>0.020764</td>\n",
       "      <td>0.006005</td>\n",
       "      <td>0.005488</td>\n",
       "      <td>0.030702</td>\n",
       "      <td>1.000000</td>\n",
       "      <td>0.016086</td>\n",
       "      <td>0.023778</td>\n",
       "      <td>0.011841</td>\n",
       "      <td>-0.000922</td>\n",
       "      <td>0.001408</td>\n",
       "      <td>-0.000033</td>\n",
       "      <td>0.054475</td>\n",
       "    </tr>\n",
       "    <tr>\n",
       "      <th>ap_lo</th>\n",
       "      <td>0.017647</td>\n",
       "      <td>0.015254</td>\n",
       "      <td>0.006150</td>\n",
       "      <td>0.043710</td>\n",
       "      <td>0.016086</td>\n",
       "      <td>1.000000</td>\n",
       "      <td>0.024019</td>\n",
       "      <td>0.010806</td>\n",
       "      <td>0.005186</td>\n",
       "      <td>0.010601</td>\n",
       "      <td>0.004780</td>\n",
       "      <td>0.065719</td>\n",
       "    </tr>\n",
       "    <tr>\n",
       "      <th>cholesterol</th>\n",
       "      <td>0.154424</td>\n",
       "      <td>-0.035821</td>\n",
       "      <td>-0.050226</td>\n",
       "      <td>0.141768</td>\n",
       "      <td>0.023778</td>\n",
       "      <td>0.024019</td>\n",
       "      <td>1.000000</td>\n",
       "      <td>0.451578</td>\n",
       "      <td>0.010354</td>\n",
       "      <td>0.035760</td>\n",
       "      <td>0.009911</td>\n",
       "      <td>0.221147</td>\n",
       "    </tr>\n",
       "    <tr>\n",
       "      <th>gluc</th>\n",
       "      <td>0.098703</td>\n",
       "      <td>-0.020491</td>\n",
       "      <td>-0.018595</td>\n",
       "      <td>0.106857</td>\n",
       "      <td>0.011841</td>\n",
       "      <td>0.010806</td>\n",
       "      <td>0.451578</td>\n",
       "      <td>1.000000</td>\n",
       "      <td>-0.004756</td>\n",
       "      <td>0.011246</td>\n",
       "      <td>-0.006770</td>\n",
       "      <td>0.089307</td>\n",
       "    </tr>\n",
       "    <tr>\n",
       "      <th>smoke</th>\n",
       "      <td>-0.047633</td>\n",
       "      <td>0.338135</td>\n",
       "      <td>0.187989</td>\n",
       "      <td>0.067780</td>\n",
       "      <td>-0.000922</td>\n",
       "      <td>0.005186</td>\n",
       "      <td>0.010354</td>\n",
       "      <td>-0.004756</td>\n",
       "      <td>1.000000</td>\n",
       "      <td>0.340094</td>\n",
       "      <td>0.025858</td>\n",
       "      <td>-0.015486</td>\n",
       "    </tr>\n",
       "    <tr>\n",
       "      <th>alco</th>\n",
       "      <td>-0.029723</td>\n",
       "      <td>0.170966</td>\n",
       "      <td>0.094419</td>\n",
       "      <td>0.067113</td>\n",
       "      <td>0.001408</td>\n",
       "      <td>0.010601</td>\n",
       "      <td>0.035760</td>\n",
       "      <td>0.011246</td>\n",
       "      <td>0.340094</td>\n",
       "      <td>1.000000</td>\n",
       "      <td>0.025476</td>\n",
       "      <td>-0.007330</td>\n",
       "    </tr>\n",
       "    <tr>\n",
       "      <th>active</th>\n",
       "      <td>-0.009927</td>\n",
       "      <td>0.005866</td>\n",
       "      <td>-0.006570</td>\n",
       "      <td>-0.016867</td>\n",
       "      <td>-0.000033</td>\n",
       "      <td>0.004780</td>\n",
       "      <td>0.009911</td>\n",
       "      <td>-0.006770</td>\n",
       "      <td>0.025858</td>\n",
       "      <td>0.025476</td>\n",
       "      <td>1.000000</td>\n",
       "      <td>-0.035653</td>\n",
       "    </tr>\n",
       "    <tr>\n",
       "      <th>cardio</th>\n",
       "      <td>0.238159</td>\n",
       "      <td>0.008109</td>\n",
       "      <td>-0.010821</td>\n",
       "      <td>0.181660</td>\n",
       "      <td>0.054475</td>\n",
       "      <td>0.065719</td>\n",
       "      <td>0.221147</td>\n",
       "      <td>0.089307</td>\n",
       "      <td>-0.015486</td>\n",
       "      <td>-0.007330</td>\n",
       "      <td>-0.035653</td>\n",
       "      <td>1.000000</td>\n",
       "    </tr>\n",
       "  </tbody>\n",
       "</table>\n",
       "</div>"
      ],
      "text/plain": [
       "                  age    gender    height    weight     ap_hi     ap_lo  \\\n",
       "age          1.000000 -0.022811 -0.081515  0.053684  0.020764  0.017647   \n",
       "gender      -0.022811  1.000000  0.499033  0.155406  0.006005  0.015254   \n",
       "height      -0.081515  0.499033  1.000000  0.290968  0.005488  0.006150   \n",
       "weight       0.053684  0.155406  0.290968  1.000000  0.030702  0.043710   \n",
       "ap_hi        0.020764  0.006005  0.005488  0.030702  1.000000  0.016086   \n",
       "ap_lo        0.017647  0.015254  0.006150  0.043710  0.016086  1.000000   \n",
       "cholesterol  0.154424 -0.035821 -0.050226  0.141768  0.023778  0.024019   \n",
       "gluc         0.098703 -0.020491 -0.018595  0.106857  0.011841  0.010806   \n",
       "smoke       -0.047633  0.338135  0.187989  0.067780 -0.000922  0.005186   \n",
       "alco        -0.029723  0.170966  0.094419  0.067113  0.001408  0.010601   \n",
       "active      -0.009927  0.005866 -0.006570 -0.016867 -0.000033  0.004780   \n",
       "cardio       0.238159  0.008109 -0.010821  0.181660  0.054475  0.065719   \n",
       "\n",
       "             cholesterol      gluc     smoke      alco    active    cardio  \n",
       "age             0.154424  0.098703 -0.047633 -0.029723 -0.009927  0.238159  \n",
       "gender         -0.035821 -0.020491  0.338135  0.170966  0.005866  0.008109  \n",
       "height         -0.050226 -0.018595  0.187989  0.094419 -0.006570 -0.010821  \n",
       "weight          0.141768  0.106857  0.067780  0.067113 -0.016867  0.181660  \n",
       "ap_hi           0.023778  0.011841 -0.000922  0.001408 -0.000033  0.054475  \n",
       "ap_lo           0.024019  0.010806  0.005186  0.010601  0.004780  0.065719  \n",
       "cholesterol     1.000000  0.451578  0.010354  0.035760  0.009911  0.221147  \n",
       "gluc            0.451578  1.000000 -0.004756  0.011246 -0.006770  0.089307  \n",
       "smoke           0.010354 -0.004756  1.000000  0.340094  0.025858 -0.015486  \n",
       "alco            0.035760  0.011246  0.340094  1.000000  0.025476 -0.007330  \n",
       "active          0.009911 -0.006770  0.025858  0.025476  1.000000 -0.035653  \n",
       "cardio          0.221147  0.089307 -0.015486 -0.007330 -0.035653  1.000000  "
      ]
     },
     "execution_count": 12,
     "metadata": {},
     "output_type": "execute_result"
    }
   ],
   "source": [
    "df.drop(features_remover, axis=1).corr()"
   ]
  },
  {
   "cell_type": "code",
   "execution_count": 13,
   "id": "b61e7e0e",
   "metadata": {
    "ExecuteTime": {
     "end_time": "2022-01-13T23:08:20.070226Z",
     "start_time": "2022-01-13T23:08:19.516453Z"
    },
    "hidden": true,
    "scrolled": true
   },
   "outputs": [
    {
     "data": {
      "image/png": "[encoded data removed]",
      "text/plain": [
       "<Figure size 432x288 with 2 Axes>"
      ]
     },
     "metadata": {
      "needs_background": "light"
     },
     "output_type": "display_data"
    }
   ],
   "source": [
    "sns.heatmap(df.drop(features_remover, axis=1).corr())\n",
    "plt.title('Mapa de Calor de Correlações');"
   ]
  },
  {
   "cell_type": "markdown",
   "id": "a5f8784b",
   "metadata": {
    "hidden": true
   },
   "source": [
    "1. moderada entre altura e gênero\n",
    "2. moderada entre colesterol e glicemia\n",
    "3. moderada entre consumidores de alcool e fumantes\n",
    "4. moderada entre fumantes e idade\n",
    "5. várias correlações fracas"
   ]
  },
  {
   "cell_type": "code",
   "execution_count": 14,
   "id": "444bc0a0",
   "metadata": {
    "ExecuteTime": {
     "end_time": "2022-01-13T23:08:20.150541Z",
     "start_time": "2022-01-13T23:08:20.070226Z"
    },
    "hidden": true,
    "scrolled": false
   },
   "outputs": [
    {
     "data": {
      "text/html": [
       "<div>\n",
       "<style scoped>\n",
       "    .dataframe tbody tr th:only-of-type {\n",
       "        vertical-align: middle;\n",
       "    }\n",
       "\n",
       "    .dataframe tbody tr th {\n",
       "        vertical-align: top;\n",
       "    }\n",
       "\n",
       "    .dataframe thead th {\n",
       "        text-align: right;\n",
       "    }\n",
       "</style>\n",
       "<table border=\"1\" class=\"dataframe\">\n",
       "  <thead>\n",
       "    <tr style=\"text-align: right;\">\n",
       "      <th></th>\n",
       "      <th>age_</th>\n",
       "      <th>height</th>\n",
       "      <th>weight</th>\n",
       "      <th>ap_hi</th>\n",
       "      <th>ap_lo</th>\n",
       "    </tr>\n",
       "  </thead>\n",
       "  <tbody>\n",
       "    <tr>\n",
       "      <th>count</th>\n",
       "      <td>70000.000000</td>\n",
       "      <td>70000.000000</td>\n",
       "      <td>70000.000000</td>\n",
       "      <td>70000.000000</td>\n",
       "      <td>70000.000000</td>\n",
       "    </tr>\n",
       "    <tr>\n",
       "      <th>mean</th>\n",
       "      <td>52.840671</td>\n",
       "      <td>164.359229</td>\n",
       "      <td>74.205690</td>\n",
       "      <td>128.817286</td>\n",
       "      <td>96.630414</td>\n",
       "    </tr>\n",
       "    <tr>\n",
       "      <th>std</th>\n",
       "      <td>6.766774</td>\n",
       "      <td>8.210126</td>\n",
       "      <td>14.395757</td>\n",
       "      <td>154.011419</td>\n",
       "      <td>188.472530</td>\n",
       "    </tr>\n",
       "    <tr>\n",
       "      <th>min</th>\n",
       "      <td>29.000000</td>\n",
       "      <td>55.000000</td>\n",
       "      <td>10.000000</td>\n",
       "      <td>-150.000000</td>\n",
       "      <td>-70.000000</td>\n",
       "    </tr>\n",
       "    <tr>\n",
       "      <th>25%</th>\n",
       "      <td>48.000000</td>\n",
       "      <td>159.000000</td>\n",
       "      <td>65.000000</td>\n",
       "      <td>120.000000</td>\n",
       "      <td>80.000000</td>\n",
       "    </tr>\n",
       "    <tr>\n",
       "      <th>50%</th>\n",
       "      <td>53.000000</td>\n",
       "      <td>165.000000</td>\n",
       "      <td>72.000000</td>\n",
       "      <td>120.000000</td>\n",
       "      <td>80.000000</td>\n",
       "    </tr>\n",
       "    <tr>\n",
       "      <th>75%</th>\n",
       "      <td>58.000000</td>\n",
       "      <td>170.000000</td>\n",
       "      <td>82.000000</td>\n",
       "      <td>140.000000</td>\n",
       "      <td>90.000000</td>\n",
       "    </tr>\n",
       "    <tr>\n",
       "      <th>max</th>\n",
       "      <td>64.000000</td>\n",
       "      <td>250.000000</td>\n",
       "      <td>200.000000</td>\n",
       "      <td>16020.000000</td>\n",
       "      <td>11000.000000</td>\n",
       "    </tr>\n",
       "  </tbody>\n",
       "</table>\n",
       "</div>"
      ],
      "text/plain": [
       "               age_        height        weight         ap_hi         ap_lo\n",
       "count  70000.000000  70000.000000  70000.000000  70000.000000  70000.000000\n",
       "mean      52.840671    164.359229     74.205690    128.817286     96.630414\n",
       "std        6.766774      8.210126     14.395757    154.011419    188.472530\n",
       "min       29.000000     55.000000     10.000000   -150.000000    -70.000000\n",
       "25%       48.000000    159.000000     65.000000    120.000000     80.000000\n",
       "50%       53.000000    165.000000     72.000000    120.000000     80.000000\n",
       "75%       58.000000    170.000000     82.000000    140.000000     90.000000\n",
       "max       64.000000    250.000000    200.000000  16020.000000  11000.000000"
      ]
     },
     "execution_count": 14,
     "metadata": {},
     "output_type": "execute_result"
    }
   ],
   "source": [
    "df[features_numéricas].describe()"
   ]
  },
  {
   "cell_type": "markdown",
   "id": "2da5d744",
   "metadata": {
    "hidden": true
   },
   "source": [
    "1. Nada discrepante em idade\n",
    "2. Pessoas com alturas desde 55 centímetros até 2 metros e meio, aparentemente com discrepancias\n",
    "3. Pessoas com 10kgs (discrepante uma vez que a idade mínima é 29 anos)\n",
    "4. Máxima da pressão com número negativo em mínimo e 16020 em máximo (possivel erro de escala)\n",
    "5. Mínima da pressão com número negativo em mínimo e 11000 em máximo (provável erro de escala)"
   ]
  },
  {
   "cell_type": "markdown",
   "id": "90bb1a8c",
   "metadata": {
    "heading_collapsed": true
   },
   "source": [
    "##### 2.3.4 Bivariate Analytics with Target"
   ]
  },
  {
   "cell_type": "code",
   "execution_count": 166,
   "id": "4d3a53ef",
   "metadata": {
    "ExecuteTime": {
     "end_time": "2022-01-14T01:04:10.386499Z",
     "start_time": "2022-01-14T01:04:07.816026Z"
    },
    "hidden": true,
    "scrolled": false
   },
   "outputs": [
    {
     "data": {
      "image/png": "[encoded data removed]",
      "text/plain": [
       "<Figure size 1152x1152 with 11 Axes>"
      ]
     },
     "metadata": {
      "needs_background": "light"
     },
     "output_type": "display_data"
    }
   ],
   "source": [
    "plt.figure(figsize=(16, 16))\n",
    "plt.subplots_adjust(hspace = 0.8)\n",
    "plt.subplot(6, 2, 1)\n",
    "indices_outliers, li, ls = buscar_outliers(df, 'height')\n",
    "ax = sns.histplot(data=df.drop(indices_outliers).loc[df['cardio']==0], x='height', bins=10, color='b', alpha=0.5)\n",
    "ax = sns.histplot(data=df.drop(indices_outliers).loc[df['cardio']==1], x='height', bins=10, color='r', alpha=0.5)\n",
    "plt.title('Distribution of Height Segregated by Cardio', fontsize=16, pad=20)\n",
    "ax.tick_params(bottom=False, labelleft=False, left=False)\n",
    "plt.ylabel('')\n",
    "plt.xlabel('')\n",
    "sns.despine(left=True)\n",
    "\n",
    "plt.subplot(6, 2, 2)\n",
    "indices_outliers, li, ls = buscar_outliers(df, 'weight')\n",
    "ax = sns.histplot(data=df.drop(indices_outliers).loc[df['cardio']==0], x='weight', bins=10, color='b', alpha=0.5)\n",
    "ax = sns.histplot(data=df.drop(indices_outliers).loc[df['cardio']==1], x='weight', bins=10, color='r', alpha=0.5)\n",
    "plt.title('Distribution of Weight Segregated by Cardio', fontsize=16, pad=20)\n",
    "ax.tick_params(bottom=False, labelleft=False, left=False)\n",
    "plt.ylabel('')\n",
    "plt.xlabel('')\n",
    "sns.despine(left=True)\n",
    "\n",
    "plt.subplot(6, 2, 3)\n",
    "indices_outliers, li, ls = buscar_outliers(df, 'ap_hi')\n",
    "ax = sns.histplot(data=df.drop(indices_outliers).loc[df['cardio']==0], x='ap_hi', bins=10, color='b', alpha=0.5)\n",
    "ax = sns.histplot(data=df.drop(indices_outliers).loc[df['cardio']==1], x='ap_hi', bins=10, color='r', alpha=0.5)\n",
    "plt.title('Distribution of Max Pressure Segregated by Cardio', fontsize=16, pad=20)\n",
    "ax.tick_params(bottom=False, labelleft=False, left=False)\n",
    "plt.ylabel('')\n",
    "plt.xlabel('')\n",
    "sns.despine(left=True)\n",
    "\n",
    "plt.subplot(6, 2, 4)\n",
    "indices_outliers, li, ls = buscar_outliers(df, 'ap_lo')\n",
    "ax = sns.histplot(data=df.drop(indices_outliers).loc[df['cardio']==0], x='ap_lo', bins=5, color='b', alpha=0.5)\n",
    "ax = sns.histplot(data=df.drop(indices_outliers).loc[df['cardio']==1], x='ap_lo', bins=5, color='r', alpha=0.5)\n",
    "plt.xticks(range(60, 110, 10))\n",
    "plt.title('Distribution of Min Pressure Segregated by Cardio', fontsize=16, pad=20)\n",
    "ax.tick_params(bottom=False, labelleft=False, left=False)\n",
    "plt.ylabel('')\n",
    "plt.xlabel('')\n",
    "sns.despine(left=True)\n",
    "\n",
    "plt.subplot(6, 2, 5)\n",
    "indices_outliers, li, ls = buscar_outliers(df, 'age')\n",
    "ax = sns.histplot(data=df.drop(indices_outliers).loc[df['cardio']==0], x='age_', bins=10, color='b', alpha=0.5)\n",
    "ax = sns.histplot(data=df.drop(indices_outliers).loc[df['cardio']==1], x='age_', bins=10, color='r', alpha=0.5)\n",
    "plt.title('Distribution of Age Segregated by Cardio', fontsize=16, pad=20)\n",
    "ax.tick_params(bottom=False, labelleft=False, left=False)\n",
    "plt.ylabel('')\n",
    "plt.xlabel('')\n",
    "sns.despine(left=True)\n",
    "\n",
    "plt.subplot(6, 2, 6)\n",
    "temp = df.groupby('gender')['cardio'].value_counts(normalize=True).rename('values').reset_index()\n",
    "temp = round(temp.loc[temp['cardio']==1], 2)*100\n",
    "ax = sns.barplot(data=temp, x='gender', y='values', ci=None)\n",
    "ax.tick_params(bottom=False, labelleft=False, left=False)\n",
    "ax.set_xticklabels(['mulheres', 'homens'])\n",
    "ax.bar_label(ax.containers[0])\n",
    "plt.ylabel('')\n",
    "plt.xlabel('')\n",
    "sns.despine(left=True)\n",
    "plt.title('Cardio Segregated by Gender', fontsize=16, pad=20)\n",
    "\n",
    "plt.subplot(6, 2, 7)\n",
    "temp = df.groupby('smoke')['cardio'].value_counts(normalize=True).rename('values').reset_index()\n",
    "temp = round(temp.loc[temp['cardio']==1], 2)*100\n",
    "ax = sns.barplot(data=temp, x='smoke', y='values', ci=None)\n",
    "ax.tick_params(bottom=False, labelleft=False, left=False)\n",
    "ax.set_xticklabels(['no smoker', 'smoker'])\n",
    "ax.bar_label(ax.containers[0])\n",
    "plt.ylabel('')\n",
    "plt.xlabel('')\n",
    "sns.despine(left=True)\n",
    "plt.title('Cardio Segregated by Smoker', fontsize=16, pad=20)\n",
    "\n",
    "plt.subplot(6, 2, 8)\n",
    "temp = df.groupby('alco')['cardio'].value_counts(normalize=True).rename('values').reset_index()\n",
    "temp = round(temp.loc[temp['cardio']==1], 2)*100\n",
    "ax = sns.barplot(data=temp, x='alco', y='values', ci=None)\n",
    "ax.tick_params(bottom=False, labelleft=False, left=False)\n",
    "ax.set_xticklabels(['non-alcoholic', 'alcohol consumers'])\n",
    "ax.bar_label(ax.containers[0])\n",
    "plt.ylabel('')\n",
    "plt.xlabel('')\n",
    "sns.despine(left=True)\n",
    "plt.title('Cardio Segregated by Alcohol', fontsize=16, pad=20)\n",
    "\n",
    "plt.subplot(6, 2, 9)\n",
    "temp = df.groupby('active')['cardio'].value_counts(normalize=True).rename('values').reset_index()\n",
    "temp = round(temp.loc[temp['cardio']==1], 2)*100\n",
    "ax = sns.barplot(data=temp, x='active', y='values', ci=None)\n",
    "ax.tick_params(bottom=False, labelleft=False, left=False)\n",
    "ax.set_xticklabels(['non-active', 'active'])\n",
    "ax.bar_label(ax.containers[0])\n",
    "plt.ylabel('')\n",
    "plt.xlabel('')\n",
    "sns.despine(left=True)\n",
    "plt.title('Cardio Segregated by Active', fontsize=16, pad=20)\n",
    "\n",
    "plt.subplot(6, 2, 10)\n",
    "temp = df.groupby('cholesterol')['cardio'].value_counts(normalize=True).rename('values').reset_index()\n",
    "temp = round(temp.loc[temp['cardio']==1], 2)*100\n",
    "ax = sns.barplot(data=temp, x='cholesterol', y='values', ci=None)\n",
    "ax.tick_params(bottom=False, labelleft=False, left=False)\n",
    "ax.set_xticklabels(['normal', 'above normal', 'well above normal'])\n",
    "ax.bar_label(ax.containers[0])\n",
    "plt.ylabel('')\n",
    "plt.xlabel('')\n",
    "sns.despine(left=True)\n",
    "plt.title('Cardio Segregated by Cholesterol', fontsize=16, pad=20)\n",
    "\n",
    "plt.subplot(6, 2, 11)\n",
    "temp = df.groupby('gluc')['cardio'].value_counts(normalize=True).rename('values').reset_index()\n",
    "temp = round(temp.loc[temp['cardio']==1], 2)*100\n",
    "ax = sns.barplot(data=temp, x='gluc', y='values', ci=None)\n",
    "ax.tick_params(bottom=False, labelleft=False, left=False)\n",
    "ax.set_xticklabels(['normal', 'above normal', 'well above normal'])\n",
    "ax.bar_label(ax.containers[0])\n",
    "plt.ylabel('')\n",
    "plt.xlabel('')\n",
    "sns.despine(left=True)\n",
    "plt.title('Cardio Segregated by Glucose', fontsize=16, pad=20);"
   ]
  },
  {
   "cell_type": "markdown",
   "id": "4102d068",
   "metadata": {
    "heading_collapsed": true
   },
   "source": [
    "##### 2.3.5 Individual Numerical Feature Analysis"
   ]
  },
  {
   "cell_type": "markdown",
   "id": "a1844076",
   "metadata": {
    "heading_collapsed": true,
    "hidden": true
   },
   "source": [
    "###### height"
   ]
  },
  {
   "cell_type": "code",
   "execution_count": 15,
   "id": "330d35ce",
   "metadata": {
    "ExecuteTime": {
     "end_time": "2022-01-11T20:06:49.010933Z",
     "start_time": "2022-01-11T20:06:48.997084Z"
    },
    "hidden": true
   },
   "outputs": [],
   "source": [
    "outliers_indices, li, ls = buscar_outliers(df, 'height')"
   ]
  },
  {
   "cell_type": "code",
   "execution_count": 16,
   "id": "43fd16bb",
   "metadata": {
    "ExecuteTime": {
     "end_time": "2022-01-11T20:06:49.027015Z",
     "start_time": "2022-01-11T20:06:49.012925Z"
    },
    "hidden": true
   },
   "outputs": [
    {
     "name": "stdout",
     "output_type": "stream",
     "text": [
      "Limite inferior: 142.5 \n",
      "Limite superior: 186.5\n"
     ]
    }
   ],
   "source": [
    "print(f'Limite inferior: {li} \\nLimite superior: {ls}')"
   ]
  },
  {
   "cell_type": "code",
   "execution_count": 17,
   "id": "4476fabb",
   "metadata": {
    "ExecuteTime": {
     "end_time": "2022-01-11T20:06:49.042849Z",
     "start_time": "2022-01-11T20:06:49.029020Z"
    },
    "hidden": true,
    "scrolled": true
   },
   "outputs": [
    {
     "name": "stdout",
     "output_type": "stream",
     "text": [
      "Quantidade total de amostras outliers: 519\n",
      "Quantidade de amostas maiores que 186.5cm: 269\n",
      "Quantidade de amostas menores que 142.5cm: 250\n"
     ]
    }
   ],
   "source": [
    "print(f'Quantidade total de amostras outliers: {df.loc[outliers_indices, \"id\"].count()}')\n",
    "print(f'Quantidade de amostas maiores que 186.5cm: {df.loc[df[\"height\"] > 186.5, \"id\"].count()}')\n",
    "print(f'Quantidade de amostas menores que 142.5cm: {df.loc[df[\"height\"] < 142.5, \"id\"].count()}')"
   ]
  },
  {
   "cell_type": "code",
   "execution_count": 18,
   "id": "24c16d06",
   "metadata": {
    "ExecuteTime": {
     "end_time": "2022-01-11T20:06:49.150954Z",
     "start_time": "2022-01-11T20:06:49.044841Z"
    },
    "hidden": true,
    "scrolled": false
   },
   "outputs": [
    {
     "data": {
      "image/png": "[encoded data removed]",
      "text/plain": [
       "<Figure size 432x288 with 1 Axes>"
      ]
     },
     "metadata": {
      "needs_background": "light"
     },
     "output_type": "display_data"
    }
   ],
   "source": [
    "sns.boxplot(data=df['height'])\n",
    "plt.title('Quartis de Altura')\n",
    "plt.ylabel('Altura');"
   ]
  },
  {
   "cell_type": "code",
   "execution_count": 19,
   "id": "411299b6",
   "metadata": {
    "ExecuteTime": {
     "end_time": "2022-01-11T20:06:49.492957Z",
     "start_time": "2022-01-11T20:06:49.152375Z"
    },
    "hidden": true,
    "scrolled": false
   },
   "outputs": [
    {
     "data": {
      "image/png": "[encoded data removed]",
      "text/plain": [
       "<Figure size 432x288 with 1 Axes>"
      ]
     },
     "metadata": {
      "needs_background": "light"
     },
     "output_type": "display_data"
    }
   ],
   "source": [
    "sns.histplot(df.drop(outliers_indices)['height'], bins=20, kde=True)\n",
    "plt.title('Distribuição de Altura')\n",
    "plt.xlabel('Altura')\n",
    "plt.ylabel('Contagem');"
   ]
  },
  {
   "cell_type": "markdown",
   "id": "706fc266",
   "metadata": {
    "hidden": true
   },
   "source": [
    "Aparentemente há duas modas, e o gerador provavelmente é o gênero"
   ]
  },
  {
   "cell_type": "code",
   "execution_count": 20,
   "id": "e46487c9",
   "metadata": {
    "ExecuteTime": {
     "end_time": "2022-01-11T20:06:49.824344Z",
     "start_time": "2022-01-11T20:06:49.494911Z"
    },
    "hidden": true,
    "scrolled": true
   },
   "outputs": [
    {
     "data": {
      "image/png": "[encoded data removed]",
      "text/plain": [
       "<Figure size 432x288 with 1 Axes>"
      ]
     },
     "metadata": {
      "needs_background": "light"
     },
     "output_type": "display_data"
    }
   ],
   "source": [
    "sns.kdeplot(df.drop(outliers_indices).loc[df['gender']==1, 'height'])\n",
    "sns.kdeplot(df.drop(outliers_indices).loc[df['gender']==2, 'height'])\n",
    "plt.title('Altura segregado pelo Gênero')\n",
    "plt.xlabel('Altura')\n",
    "plt.ylabel('Densidade');"
   ]
  },
  {
   "cell_type": "code",
   "execution_count": 21,
   "id": "fa0b7185",
   "metadata": {
    "ExecuteTime": {
     "end_time": "2022-01-11T20:06:49.839723Z",
     "start_time": "2022-01-11T20:06:49.825302Z"
    },
    "hidden": true,
    "scrolled": false
   },
   "outputs": [
    {
     "name": "stdout",
     "output_type": "stream",
     "text": [
      "Dados da feature: height\n",
      "\n",
      "Máximo (max): 250\n",
      "Mínimo (min): 55\n",
      "Range (range): 195\n",
      "Média (mean): 164.35922857142856\n",
      "Mediana (median): 165.0\n",
      "Desvio padrão (standard deviation): 8.210126364538038\n",
      "Curtose (kurtosis): 7.943652579423719\n",
      "Assimetria (skew): -0.6421874521557643\n"
     ]
    }
   ],
   "source": [
    "desc_stats(df, 'height')"
   ]
  },
  {
   "cell_type": "markdown",
   "id": "8f479781",
   "metadata": {
    "heading_collapsed": true,
    "hidden": true
   },
   "source": [
    "###### weight"
   ]
  },
  {
   "cell_type": "code",
   "execution_count": 22,
   "id": "162b765c",
   "metadata": {
    "ExecuteTime": {
     "end_time": "2022-01-11T20:06:49.855767Z",
     "start_time": "2022-01-11T20:06:49.840707Z"
    },
    "hidden": true
   },
   "outputs": [],
   "source": [
    "outliers_indices, li, ls = buscar_outliers(df, 'weight')"
   ]
  },
  {
   "cell_type": "code",
   "execution_count": 23,
   "id": "0287e8e3",
   "metadata": {
    "ExecuteTime": {
     "end_time": "2022-01-11T20:06:49.871737Z",
     "start_time": "2022-01-11T20:06:49.858722Z"
    },
    "hidden": true
   },
   "outputs": [
    {
     "name": "stdout",
     "output_type": "stream",
     "text": [
      "Limite inferior: 39.5 \n",
      "Limite superior: 107.5\n"
     ]
    }
   ],
   "source": [
    "print(f'Limite inferior: {li} \\nLimite superior: {ls}')"
   ]
  },
  {
   "cell_type": "code",
   "execution_count": 24,
   "id": "87c03e16",
   "metadata": {
    "ExecuteTime": {
     "end_time": "2022-01-11T20:06:49.887545Z",
     "start_time": "2022-01-11T20:06:49.872734Z"
    },
    "hidden": true
   },
   "outputs": [
    {
     "name": "stdout",
     "output_type": "stream",
     "text": [
      "Há um total de 1819 outliers\n",
      "Há um total de: 52 outliers com peso mais BAIXO que a normalidade\n",
      "Há um total de: 1767 outliers com peso mais ALTO que a normalidade\n"
     ]
    }
   ],
   "source": [
    "print(f'Há um total de {len(outliers_indices)} outliers')\n",
    "print(f'Há um total de: {df.loc[df[\"weight\"]<li, \"id\"].count()} outliers com peso mais BAIXO que a normalidade')\n",
    "print(f'Há um total de: {df.loc[df[\"weight\"]>ls, \"id\"].count()} outliers com peso mais ALTO que a normalidade')"
   ]
  },
  {
   "cell_type": "code",
   "execution_count": 25,
   "id": "17e6ab0c",
   "metadata": {
    "ExecuteTime": {
     "end_time": "2022-01-11T20:06:49.995707Z",
     "start_time": "2022-01-11T20:06:49.889704Z"
    },
    "hidden": true,
    "scrolled": false
   },
   "outputs": [
    {
     "data": {
      "image/png": "[encoded data removed]",
      "text/plain": [
       "<Figure size 432x288 with 1 Axes>"
      ]
     },
     "metadata": {
      "needs_background": "light"
     },
     "output_type": "display_data"
    }
   ],
   "source": [
    "sns.boxplot(data=df['weight'])\n",
    "plt.title('Quartis de Peso')\n",
    "plt.ylabel('Peso');"
   ]
  },
  {
   "cell_type": "code",
   "execution_count": 26,
   "id": "e0775a6f",
   "metadata": {
    "ExecuteTime": {
     "end_time": "2022-01-11T20:06:50.337559Z",
     "start_time": "2022-01-11T20:06:49.997484Z"
    },
    "hidden": true
   },
   "outputs": [
    {
     "data": {
      "image/png": "[encoded data removed]",
      "text/plain": [
       "<Figure size 432x288 with 1 Axes>"
      ]
     },
     "metadata": {
      "needs_background": "light"
     },
     "output_type": "display_data"
    }
   ],
   "source": [
    "sns.histplot(df.drop(outliers_indices)['weight'], bins=20, kde=True)\n",
    "plt.title('Distribuição de Peso')\n",
    "plt.xlabel('Peso')\n",
    "plt.ylabel('Contagem');"
   ]
  },
  {
   "cell_type": "code",
   "execution_count": 27,
   "id": "98e35837",
   "metadata": {
    "ExecuteTime": {
     "end_time": "2022-01-11T20:06:50.367749Z",
     "start_time": "2022-01-11T20:06:50.339706Z"
    },
    "hidden": true,
    "scrolled": false
   },
   "outputs": [
    {
     "name": "stdout",
     "output_type": "stream",
     "text": [
      "Dados da feature: weight\n",
      "\n",
      "Máximo (max): 200.0\n",
      "Mínimo (min): 10.0\n",
      "Range (range): 190.0\n",
      "Média (mean): 74.20569\n",
      "Mediana (median): 72.0\n",
      "Desvio padrão (standard deviation): 14.39575667851138\n",
      "Curtose (kurtosis): 2.5868254500056223\n",
      "Assimetria (skew): 1.0120701082089065\n"
     ]
    }
   ],
   "source": [
    "desc_stats(df, 'weight')"
   ]
  },
  {
   "cell_type": "markdown",
   "id": "c6122510",
   "metadata": {
    "heading_collapsed": true,
    "hidden": true
   },
   "source": [
    "###### age"
   ]
  },
  {
   "cell_type": "code",
   "execution_count": 28,
   "id": "642c0af0",
   "metadata": {
    "ExecuteTime": {
     "end_time": "2022-01-11T20:06:50.399625Z",
     "start_time": "2022-01-11T20:06:50.372936Z"
    },
    "hidden": true
   },
   "outputs": [
    {
     "data": {
      "text/plain": [
       "4"
      ]
     },
     "execution_count": 28,
     "metadata": {},
     "output_type": "execute_result"
    }
   ],
   "source": [
    "outliers_indices, li, ls = buscar_outliers(df, 'age_')\n",
    "len(outliers_indices)"
   ]
  },
  {
   "cell_type": "code",
   "execution_count": 29,
   "id": "180cb94b",
   "metadata": {
    "ExecuteTime": {
     "end_time": "2022-01-11T20:06:50.430377Z",
     "start_time": "2022-01-11T20:06:50.401047Z"
    },
    "hidden": true
   },
   "outputs": [
    {
     "data": {
      "text/html": [
       "<div>\n",
       "<style scoped>\n",
       "    .dataframe tbody tr th:only-of-type {\n",
       "        vertical-align: middle;\n",
       "    }\n",
       "\n",
       "    .dataframe tbody tr th {\n",
       "        vertical-align: top;\n",
       "    }\n",
       "\n",
       "    .dataframe thead th {\n",
       "        text-align: right;\n",
       "    }\n",
       "</style>\n",
       "<table border=\"1\" class=\"dataframe\">\n",
       "  <thead>\n",
       "    <tr style=\"text-align: right;\">\n",
       "      <th></th>\n",
       "      <th>id</th>\n",
       "      <th>age</th>\n",
       "      <th>gender</th>\n",
       "      <th>height</th>\n",
       "      <th>weight</th>\n",
       "      <th>ap_hi</th>\n",
       "      <th>ap_lo</th>\n",
       "      <th>cholesterol</th>\n",
       "      <th>gluc</th>\n",
       "      <th>smoke</th>\n",
       "      <th>alco</th>\n",
       "      <th>active</th>\n",
       "      <th>cardio</th>\n",
       "      <th>age_</th>\n",
       "    </tr>\n",
       "  </thead>\n",
       "  <tbody>\n",
       "    <tr>\n",
       "      <th>6219</th>\n",
       "      <td>8850</td>\n",
       "      <td>10878</td>\n",
       "      <td>1</td>\n",
       "      <td>175</td>\n",
       "      <td>59.0</td>\n",
       "      <td>120</td>\n",
       "      <td>80</td>\n",
       "      <td>1</td>\n",
       "      <td>1</td>\n",
       "      <td>0</td>\n",
       "      <td>0</td>\n",
       "      <td>1</td>\n",
       "      <td>0</td>\n",
       "      <td>29</td>\n",
       "    </tr>\n",
       "    <tr>\n",
       "      <th>22343</th>\n",
       "      <td>31922</td>\n",
       "      <td>10798</td>\n",
       "      <td>2</td>\n",
       "      <td>175</td>\n",
       "      <td>92.0</td>\n",
       "      <td>100</td>\n",
       "      <td>60</td>\n",
       "      <td>1</td>\n",
       "      <td>1</td>\n",
       "      <td>0</td>\n",
       "      <td>0</td>\n",
       "      <td>1</td>\n",
       "      <td>0</td>\n",
       "      <td>29</td>\n",
       "    </tr>\n",
       "    <tr>\n",
       "      <th>30666</th>\n",
       "      <td>43842</td>\n",
       "      <td>10859</td>\n",
       "      <td>1</td>\n",
       "      <td>159</td>\n",
       "      <td>59.0</td>\n",
       "      <td>120</td>\n",
       "      <td>80</td>\n",
       "      <td>1</td>\n",
       "      <td>1</td>\n",
       "      <td>0</td>\n",
       "      <td>0</td>\n",
       "      <td>1</td>\n",
       "      <td>0</td>\n",
       "      <td>29</td>\n",
       "    </tr>\n",
       "    <tr>\n",
       "      <th>55905</th>\n",
       "      <td>79749</td>\n",
       "      <td>10964</td>\n",
       "      <td>1</td>\n",
       "      <td>160</td>\n",
       "      <td>59.0</td>\n",
       "      <td>110</td>\n",
       "      <td>70</td>\n",
       "      <td>1</td>\n",
       "      <td>1</td>\n",
       "      <td>0</td>\n",
       "      <td>0</td>\n",
       "      <td>1</td>\n",
       "      <td>0</td>\n",
       "      <td>30</td>\n",
       "    </tr>\n",
       "  </tbody>\n",
       "</table>\n",
       "</div>"
      ],
      "text/plain": [
       "          id    age  gender  height  weight  ap_hi  ap_lo  cholesterol  gluc  \\\n",
       "6219    8850  10878       1     175    59.0    120     80            1     1   \n",
       "22343  31922  10798       2     175    92.0    100     60            1     1   \n",
       "30666  43842  10859       1     159    59.0    120     80            1     1   \n",
       "55905  79749  10964       1     160    59.0    110     70            1     1   \n",
       "\n",
       "       smoke  alco  active  cardio  age_  \n",
       "6219       0     0       1       0    29  \n",
       "22343      0     0       1       0    29  \n",
       "30666      0     0       1       0    29  \n",
       "55905      0     0       1       0    30  "
      ]
     },
     "execution_count": 29,
     "metadata": {},
     "output_type": "execute_result"
    }
   ],
   "source": [
    "df.loc[outliers_indices]"
   ]
  },
  {
   "cell_type": "code",
   "execution_count": 30,
   "id": "31bdb8fc",
   "metadata": {
    "ExecuteTime": {
     "end_time": "2022-01-11T20:06:50.601530Z",
     "start_time": "2022-01-11T20:06:50.432706Z"
    },
    "hidden": true,
    "scrolled": false
   },
   "outputs": [
    {
     "data": {
      "image/png": "[encoded data removed]",
      "text/plain": [
       "<Figure size 432x288 with 1 Axes>"
      ]
     },
     "metadata": {
      "needs_background": "light"
     },
     "output_type": "display_data"
    }
   ],
   "source": [
    "sns.histplot(df.drop(outliers_indices)['age_'], bins=20)\n",
    "plt.title('Distribuição de Idade');"
   ]
  },
  {
   "cell_type": "markdown",
   "id": "a645caf6",
   "metadata": {
    "hidden": true
   },
   "source": [
    "Pessoas jovens com idades até 30 anos são outliers"
   ]
  },
  {
   "cell_type": "code",
   "execution_count": 31,
   "id": "8bc57883",
   "metadata": {
    "ExecuteTime": {
     "end_time": "2022-01-11T20:06:50.617205Z",
     "start_time": "2022-01-11T20:06:50.604387Z"
    },
    "hidden": true,
    "scrolled": true
   },
   "outputs": [
    {
     "name": "stdout",
     "output_type": "stream",
     "text": [
      "Dados da feature: age_\n",
      "\n",
      "Máximo (max): 64\n",
      "Mínimo (min): 29\n",
      "Range (range): 35\n",
      "Média (mean): 52.840671428571426\n",
      "Mediana (median): 53.0\n",
      "Desvio padrão (standard deviation): 6.766773653742167\n",
      "Curtose (kurtosis): -0.8189809196744138\n",
      "Assimetria (skew): -0.30574389867589913\n"
     ]
    }
   ],
   "source": [
    "desc_stats(df, 'age_')"
   ]
  },
  {
   "cell_type": "markdown",
   "id": "380d8778",
   "metadata": {
    "heading_collapsed": true,
    "hidden": true
   },
   "source": [
    "###### ap_hi"
   ]
  },
  {
   "cell_type": "code",
   "execution_count": 32,
   "id": "5dbe03bf",
   "metadata": {
    "ExecuteTime": {
     "end_time": "2022-01-11T20:06:50.648432Z",
     "start_time": "2022-01-11T20:06:50.619137Z"
    },
    "hidden": true,
    "scrolled": true
   },
   "outputs": [
    {
     "name": "stdout",
     "output_type": "stream",
     "text": [
      "Há um total de 1435 outliers\n",
      "Há um total de: 321 outliers com Máxima de Pressão mais BAIXO que a normalidade\n",
      "Há um total de: 1114 outliers com Máxima de Pressão mais ALTO que a normalidade\n"
     ]
    }
   ],
   "source": [
    "outliers_indices, li, ls = buscar_outliers(df, 'ap_hi')\n",
    "\n",
    "print(f'Há um total de {len(outliers_indices)} outliers')\n",
    "print(f'Há um total de: {df.loc[df[\"ap_hi\"]<li, \"id\"].count()} outliers com Máxima de Pressão mais BAIXO que a normalidade')\n",
    "print(f'Há um total de: {df.loc[df[\"ap_hi\"]>ls, \"id\"].count()} outliers com Máxima de Pressão mais ALTO que a normalidade')"
   ]
  },
  {
   "cell_type": "code",
   "execution_count": 33,
   "id": "c37bb006",
   "metadata": {
    "ExecuteTime": {
     "end_time": "2022-01-11T20:06:50.663778Z",
     "start_time": "2022-01-11T20:06:50.650454Z"
    },
    "hidden": true
   },
   "outputs": [
    {
     "name": "stdout",
     "output_type": "stream",
     "text": [
      "Dados da feature: ap_hi\n",
      "\n",
      "Máximo (max): 16020\n",
      "Mínimo (min): -150\n",
      "Range (range): 16170\n",
      "Média (mean): 128.8172857142857\n",
      "Mediana (median): 120.0\n",
      "Desvio padrão (standard deviation): 154.01141945609137\n",
      "Curtose (kurtosis): 7580.07473772039\n",
      "Assimetria (skew): 85.29621385553034\n"
     ]
    }
   ],
   "source": [
    "desc_stats(df, 'ap_hi')"
   ]
  },
  {
   "cell_type": "code",
   "execution_count": 34,
   "id": "4ed74da6",
   "metadata": {
    "ExecuteTime": {
     "end_time": "2022-01-11T20:06:50.822492Z",
     "start_time": "2022-01-11T20:06:50.665717Z"
    },
    "hidden": true
   },
   "outputs": [
    {
     "data": {
      "image/png": "[encoded data removed]",
      "text/plain": [
       "<Figure size 432x288 with 1 Axes>"
      ]
     },
     "metadata": {
      "needs_background": "light"
     },
     "output_type": "display_data"
    }
   ],
   "source": [
    "sns.histplot(df.drop(outliers_indices)['ap_hi'], bins=10)\n",
    "plt.title('Distribuição de Máxima da Pressão');"
   ]
  },
  {
   "cell_type": "markdown",
   "id": "8af3f73e",
   "metadata": {
    "hidden": true
   },
   "source": [
    "Esperava-se que entre os limites 120 e 130 houvesse uma população maior, pela proximidade com a média"
   ]
  },
  {
   "cell_type": "code",
   "execution_count": 35,
   "id": "ac87a8ce",
   "metadata": {
    "ExecuteTime": {
     "end_time": "2022-01-11T20:06:50.838104Z",
     "start_time": "2022-01-11T20:06:50.824419Z"
    },
    "hidden": true
   },
   "outputs": [
    {
     "data": {
      "text/plain": [
       "128.8172857142857"
      ]
     },
     "execution_count": 35,
     "metadata": {},
     "output_type": "execute_result"
    }
   ],
   "source": [
    "df['ap_hi'].mean()"
   ]
  },
  {
   "cell_type": "code",
   "execution_count": 36,
   "id": "d3609c45",
   "metadata": {
    "ExecuteTime": {
     "end_time": "2022-01-11T20:06:50.933274Z",
     "start_time": "2022-01-11T20:06:50.840057Z"
    },
    "hidden": true
   },
   "outputs": [
    {
     "data": {
      "image/png": "[encoded data removed]",
      "text/plain": [
       "<Figure size 432x288 with 1 Axes>"
      ]
     },
     "metadata": {
      "needs_background": "light"
     },
     "output_type": "display_data"
    }
   ],
   "source": [
    "sns.boxplot(x='ap_hi', data=df)\n",
    "plt.title('Gráfico de Quartis de Máxima de Pressão');"
   ]
  },
  {
   "cell_type": "markdown",
   "id": "5713be6c",
   "metadata": {
    "hidden": true
   },
   "source": [
    "Há uma população entre 10000 e 16000 bastante distante do quarto quartil, e distante também dos outros outliers. Possivelmente sejam erros de escala no imput, parecem ser 100 vezes maiores do que os valores \"normais\""
   ]
  },
  {
   "cell_type": "code",
   "execution_count": 37,
   "id": "8bcf2283",
   "metadata": {
    "ExecuteTime": {
     "end_time": "2022-01-11T20:06:50.963375Z",
     "start_time": "2022-01-11T20:06:50.936168Z"
    },
    "hidden": true
   },
   "outputs": [
    {
     "data": {
      "text/plain": [
       "count    70000.000000\n",
       "mean       128.817286\n",
       "std        154.011419\n",
       "min       -150.000000\n",
       "25%        120.000000\n",
       "50%        120.000000\n",
       "75%        140.000000\n",
       "max      16020.000000\n",
       "Name: ap_hi, dtype: float64"
      ]
     },
     "execution_count": 37,
     "metadata": {},
     "output_type": "execute_result"
    }
   ],
   "source": [
    "df['ap_hi'].describe()"
   ]
  },
  {
   "cell_type": "markdown",
   "id": "418c1fac",
   "metadata": {
    "hidden": true
   },
   "source": [
    "Valores negativos"
   ]
  },
  {
   "cell_type": "code",
   "execution_count": 38,
   "id": "135fb8b1",
   "metadata": {
    "ExecuteTime": {
     "end_time": "2022-01-11T20:06:50.995130Z",
     "start_time": "2022-01-11T20:06:50.965467Z"
    },
    "hidden": true
   },
   "outputs": [
    {
     "data": {
      "text/html": [
       "<div>\n",
       "<style scoped>\n",
       "    .dataframe tbody tr th:only-of-type {\n",
       "        vertical-align: middle;\n",
       "    }\n",
       "\n",
       "    .dataframe tbody tr th {\n",
       "        vertical-align: top;\n",
       "    }\n",
       "\n",
       "    .dataframe thead th {\n",
       "        text-align: right;\n",
       "    }\n",
       "</style>\n",
       "<table border=\"1\" class=\"dataframe\">\n",
       "  <thead>\n",
       "    <tr style=\"text-align: right;\">\n",
       "      <th></th>\n",
       "      <th>id</th>\n",
       "      <th>age</th>\n",
       "      <th>gender</th>\n",
       "      <th>height</th>\n",
       "      <th>weight</th>\n",
       "      <th>ap_hi</th>\n",
       "      <th>ap_lo</th>\n",
       "      <th>cholesterol</th>\n",
       "      <th>gluc</th>\n",
       "      <th>smoke</th>\n",
       "      <th>alco</th>\n",
       "      <th>active</th>\n",
       "      <th>cardio</th>\n",
       "      <th>age_</th>\n",
       "    </tr>\n",
       "  </thead>\n",
       "  <tbody>\n",
       "    <tr>\n",
       "      <th>4607</th>\n",
       "      <td>6525</td>\n",
       "      <td>15281</td>\n",
       "      <td>1</td>\n",
       "      <td>165</td>\n",
       "      <td>78.0</td>\n",
       "      <td>-100</td>\n",
       "      <td>80</td>\n",
       "      <td>2</td>\n",
       "      <td>1</td>\n",
       "      <td>0</td>\n",
       "      <td>0</td>\n",
       "      <td>1</td>\n",
       "      <td>0</td>\n",
       "      <td>41</td>\n",
       "    </tr>\n",
       "    <tr>\n",
       "      <th>16021</th>\n",
       "      <td>22881</td>\n",
       "      <td>22108</td>\n",
       "      <td>2</td>\n",
       "      <td>161</td>\n",
       "      <td>90.0</td>\n",
       "      <td>-115</td>\n",
       "      <td>70</td>\n",
       "      <td>1</td>\n",
       "      <td>1</td>\n",
       "      <td>0</td>\n",
       "      <td>0</td>\n",
       "      <td>1</td>\n",
       "      <td>0</td>\n",
       "      <td>60</td>\n",
       "    </tr>\n",
       "    <tr>\n",
       "      <th>20536</th>\n",
       "      <td>29313</td>\n",
       "      <td>15581</td>\n",
       "      <td>1</td>\n",
       "      <td>153</td>\n",
       "      <td>54.0</td>\n",
       "      <td>-100</td>\n",
       "      <td>70</td>\n",
       "      <td>1</td>\n",
       "      <td>1</td>\n",
       "      <td>0</td>\n",
       "      <td>0</td>\n",
       "      <td>1</td>\n",
       "      <td>0</td>\n",
       "      <td>42</td>\n",
       "    </tr>\n",
       "    <tr>\n",
       "      <th>23988</th>\n",
       "      <td>34295</td>\n",
       "      <td>18301</td>\n",
       "      <td>1</td>\n",
       "      <td>162</td>\n",
       "      <td>74.0</td>\n",
       "      <td>-140</td>\n",
       "      <td>90</td>\n",
       "      <td>1</td>\n",
       "      <td>1</td>\n",
       "      <td>0</td>\n",
       "      <td>0</td>\n",
       "      <td>1</td>\n",
       "      <td>1</td>\n",
       "      <td>50</td>\n",
       "    </tr>\n",
       "    <tr>\n",
       "      <th>25240</th>\n",
       "      <td>36025</td>\n",
       "      <td>14711</td>\n",
       "      <td>2</td>\n",
       "      <td>168</td>\n",
       "      <td>50.0</td>\n",
       "      <td>-120</td>\n",
       "      <td>80</td>\n",
       "      <td>2</td>\n",
       "      <td>1</td>\n",
       "      <td>0</td>\n",
       "      <td>0</td>\n",
       "      <td>0</td>\n",
       "      <td>1</td>\n",
       "      <td>40</td>\n",
       "    </tr>\n",
       "    <tr>\n",
       "      <th>35040</th>\n",
       "      <td>50055</td>\n",
       "      <td>23325</td>\n",
       "      <td>2</td>\n",
       "      <td>168</td>\n",
       "      <td>59.0</td>\n",
       "      <td>-150</td>\n",
       "      <td>80</td>\n",
       "      <td>1</td>\n",
       "      <td>1</td>\n",
       "      <td>0</td>\n",
       "      <td>0</td>\n",
       "      <td>1</td>\n",
       "      <td>1</td>\n",
       "      <td>63</td>\n",
       "    </tr>\n",
       "    <tr>\n",
       "      <th>46627</th>\n",
       "      <td>66571</td>\n",
       "      <td>23646</td>\n",
       "      <td>2</td>\n",
       "      <td>160</td>\n",
       "      <td>59.0</td>\n",
       "      <td>-120</td>\n",
       "      <td>80</td>\n",
       "      <td>1</td>\n",
       "      <td>1</td>\n",
       "      <td>0</td>\n",
       "      <td>0</td>\n",
       "      <td>0</td>\n",
       "      <td>0</td>\n",
       "      <td>64</td>\n",
       "    </tr>\n",
       "  </tbody>\n",
       "</table>\n",
       "</div>"
      ],
      "text/plain": [
       "          id    age  gender  height  weight  ap_hi  ap_lo  cholesterol  gluc  \\\n",
       "4607    6525  15281       1     165    78.0   -100     80            2     1   \n",
       "16021  22881  22108       2     161    90.0   -115     70            1     1   \n",
       "20536  29313  15581       1     153    54.0   -100     70            1     1   \n",
       "23988  34295  18301       1     162    74.0   -140     90            1     1   \n",
       "25240  36025  14711       2     168    50.0   -120     80            2     1   \n",
       "35040  50055  23325       2     168    59.0   -150     80            1     1   \n",
       "46627  66571  23646       2     160    59.0   -120     80            1     1   \n",
       "\n",
       "       smoke  alco  active  cardio  age_  \n",
       "4607       0     0       1       0    41  \n",
       "16021      0     0       1       0    60  \n",
       "20536      0     0       1       0    42  \n",
       "23988      0     0       1       1    50  \n",
       "25240      0     0       0       1    40  \n",
       "35040      0     0       1       1    63  \n",
       "46627      0     0       0       0    64  "
      ]
     },
     "execution_count": 38,
     "metadata": {},
     "output_type": "execute_result"
    }
   ],
   "source": [
    "df.loc[df['ap_hi']<0]"
   ]
  },
  {
   "cell_type": "markdown",
   "id": "9de987f5",
   "metadata": {
    "hidden": true
   },
   "source": [
    "Todos os valores parecem condizer com medições de máximas de pressão, caso fossem positivos"
   ]
  },
  {
   "cell_type": "markdown",
   "id": "53e6be85",
   "metadata": {
    "heading_collapsed": true,
    "hidden": true
   },
   "source": [
    "###### ap_lo"
   ]
  },
  {
   "cell_type": "code",
   "execution_count": 39,
   "id": "cd0af574",
   "metadata": {
    "ExecuteTime": {
     "end_time": "2022-01-11T20:06:51.025747Z",
     "start_time": "2022-01-11T20:06:50.997243Z"
    },
    "hidden": true
   },
   "outputs": [
    {
     "name": "stdout",
     "output_type": "stream",
     "text": [
      "Há um total de 4632 outliers\n",
      "Há um total de: 2932 outliers com Mínima de Pressão mais BAIXO que a normalidade\n",
      "Há um total de: 1700 outliers com Mínima de Pressão mais ALTO que a normalidade\n"
     ]
    }
   ],
   "source": [
    "outliers_indices, li, ls = buscar_outliers(df, 'ap_lo')\n",
    "\n",
    "print(f'Há um total de {len(outliers_indices)} outliers')\n",
    "print(f'Há um total de: {df.loc[df[\"ap_lo\"]<li, \"id\"].count()} outliers com Mínima de Pressão mais BAIXO que a normalidade')\n",
    "print(f'Há um total de: {df.loc[df[\"ap_lo\"]>ls, \"id\"].count()} outliers com Mínima de Pressão mais ALTO que a normalidade')"
   ]
  },
  {
   "cell_type": "code",
   "execution_count": 40,
   "id": "2512d373",
   "metadata": {
    "ExecuteTime": {
     "end_time": "2022-01-11T20:06:51.056963Z",
     "start_time": "2022-01-11T20:06:51.027740Z"
    },
    "hidden": true
   },
   "outputs": [
    {
     "name": "stdout",
     "output_type": "stream",
     "text": [
      "Dados da feature: ap_lo\n",
      "\n",
      "Máximo (max): 11000\n",
      "Mínimo (min): -70\n",
      "Range (range): 11070\n",
      "Média (mean): 96.63041428571428\n",
      "Mediana (median): 80.0\n",
      "Desvio padrão (standard deviation): 188.47253029639026\n",
      "Curtose (kurtosis): 1425.9145849479457\n",
      "Assimetria (skew): 32.114082834816884\n"
     ]
    }
   ],
   "source": [
    "desc_stats(df, 'ap_lo')"
   ]
  },
  {
   "cell_type": "code",
   "execution_count": 41,
   "id": "e6dedab6",
   "metadata": {
    "ExecuteTime": {
     "end_time": "2022-01-11T20:06:51.150020Z",
     "start_time": "2022-01-11T20:06:51.058957Z"
    },
    "hidden": true
   },
   "outputs": [
    {
     "data": {
      "image/png": "[encoded data removed]",
      "text/plain": [
       "<Figure size 432x288 with 1 Axes>"
      ]
     },
     "metadata": {
      "needs_background": "light"
     },
     "output_type": "display_data"
    }
   ],
   "source": [
    "sns.boxplot(x='ap_lo', data=df)\n",
    "plt.title('Gráfico de Quartis de Mínima de Pressão');"
   ]
  },
  {
   "cell_type": "markdown",
   "id": "d2105e50",
   "metadata": {
    "hidden": true
   },
   "source": [
    "Do mesmo modo que a ap_hi, há uma população de outliers com valores compatíveis com os valores comuns, mas com um tipo de erro de escala. Os valores são 100 vezes maiores. Um teste pode demonstrar se tais outliers são os mesmos outliers que estão presentes em ap_hi em tais características de erro de escala"
   ]
  },
  {
   "cell_type": "code",
   "execution_count": 69,
   "id": "6d52e1d6",
   "metadata": {
    "ExecuteTime": {
     "end_time": "2022-01-11T20:32:14.026577Z",
     "start_time": "2022-01-11T20:32:14.005441Z"
    },
    "hidden": true
   },
   "outputs": [
    {
     "data": {
      "text/plain": [
       "24"
      ]
     },
     "execution_count": 69,
     "metadata": {},
     "output_type": "execute_result"
    }
   ],
   "source": [
    "df.loc[df['ap_lo']>4000, 'id'].count()"
   ]
  },
  {
   "cell_type": "markdown",
   "id": "d9ec6f18",
   "metadata": {
    "hidden": true
   },
   "source": [
    "A quantidade é irrelevante, não demanda estudos e correções."
   ]
  },
  {
   "cell_type": "markdown",
   "id": "568380bb",
   "metadata": {
    "heading_collapsed": true
   },
   "source": [
    "## 2.4 Data Cleaning"
   ]
  },
  {
   "cell_type": "markdown",
   "id": "2333f58c",
   "metadata": {
    "heading_collapsed": true
   },
   "source": [
    "# 3.0 Feature Engineering"
   ]
  },
  {
   "cell_type": "markdown",
   "id": "35c64b58",
   "metadata": {
    "heading_collapsed": true
   },
   "source": [
    "# 4.0 Business Hypothesis"
   ]
  },
  {
   "cell_type": "markdown",
   "id": "88b97e53",
   "metadata": {
    "heading_collapsed": true
   },
   "source": [
    "# 5.0 Exploratory Data Analysis"
   ]
  },
  {
   "cell_type": "markdown",
   "id": "1102641e",
   "metadata": {
    "heading_collapsed": true
   },
   "source": [
    "# 6.0 Data Preparation"
   ]
  },
  {
   "cell_type": "code",
   "execution_count": 43,
   "id": "4433e0db",
   "metadata": {
    "ExecuteTime": {
     "end_time": "2022-01-10T20:46:55.672312Z",
     "start_time": "2022-01-10T20:46:55.640294Z"
    },
    "hidden": true
   },
   "outputs": [],
   "source": [
    "X = df.drop(features_remover+features_target, axis=1)\n",
    "X = np.array(X)\n",
    "y = df[features_target]\n",
    "y = np.array(y).reshape(1, len(y))[0]"
   ]
  },
  {
   "cell_type": "code",
   "execution_count": 44,
   "id": "fb6036c2",
   "metadata": {
    "ExecuteTime": {
     "end_time": "2022-01-10T20:46:55.683843Z",
     "start_time": "2022-01-10T20:46:55.672312Z"
    },
    "hidden": true
   },
   "outputs": [],
   "source": [
    "X = np.array(X)"
   ]
  },
  {
   "cell_type": "code",
   "execution_count": 45,
   "id": "caf8c460",
   "metadata": {
    "ExecuteTime": {
     "end_time": "2022-01-10T20:46:55.718116Z",
     "start_time": "2022-01-10T20:46:55.686409Z"
    },
    "hidden": true
   },
   "outputs": [],
   "source": [
    "X_train, X_test, y_train, y_test = train_test_split(X, y, test_size=0.3)"
   ]
  },
  {
   "cell_type": "code",
   "execution_count": 46,
   "id": "6e104f10",
   "metadata": {
    "ExecuteTime": {
     "end_time": "2022-01-10T20:46:55.766654Z",
     "start_time": "2022-01-10T20:46:55.718116Z"
    },
    "hidden": true
   },
   "outputs": [],
   "source": [
    "scaler = StandardScaler()\n",
    "\n",
    "scaler = scaler.fit(X_train)\n",
    "\n",
    "X_train = scaler.transform(X_train)\n",
    "X_test = scaler.transform(X_test)"
   ]
  },
  {
   "cell_type": "markdown",
   "id": "cf7e37ad",
   "metadata": {
    "heading_collapsed": true
   },
   "source": [
    "# 7.0 Machine Learning"
   ]
  },
  {
   "cell_type": "markdown",
   "id": "aa890a5a",
   "metadata": {
    "heading_collapsed": true,
    "hidden": true
   },
   "source": [
    "###### Model description"
   ]
  },
  {
   "cell_type": "code",
   "execution_count": 47,
   "id": "ad5f2a79",
   "metadata": {
    "ExecuteTime": {
     "end_time": "2022-01-10T20:46:55.783281Z",
     "start_time": "2022-01-10T20:46:55.766654Z"
    },
    "hidden": true
   },
   "outputs": [],
   "source": [
    "rf_model = RandomForestClassifier()"
   ]
  },
  {
   "cell_type": "markdown",
   "id": "9d44be48",
   "metadata": {
    "heading_collapsed": true,
    "hidden": true
   },
   "source": [
    "###### Fiting model"
   ]
  },
  {
   "cell_type": "code",
   "execution_count": 48,
   "id": "cd2a8a63",
   "metadata": {
    "ExecuteTime": {
     "end_time": "2022-01-10T20:47:06.981635Z",
     "start_time": "2022-01-10T20:46:55.783281Z"
    },
    "hidden": true
   },
   "outputs": [],
   "source": [
    "rf_fit = rf_model.fit(X_train, y_train)"
   ]
  },
  {
   "cell_type": "markdown",
   "id": "b69cfb9f",
   "metadata": {
    "heading_collapsed": true,
    "hidden": true
   },
   "source": [
    "###### Predicts"
   ]
  },
  {
   "cell_type": "code",
   "execution_count": 49,
   "id": "9684a2ef",
   "metadata": {
    "ExecuteTime": {
     "end_time": "2022-01-10T20:47:08.164283Z",
     "start_time": "2022-01-10T20:47:06.981635Z"
    },
    "hidden": true
   },
   "outputs": [],
   "source": [
    "rf_predict = rf_fit.predict(X_test)"
   ]
  },
  {
   "cell_type": "markdown",
   "id": "7af844f0",
   "metadata": {
    "heading_collapsed": true,
    "hidden": true
   },
   "source": [
    "###### Metrics"
   ]
  },
  {
   "cell_type": "code",
   "execution_count": 50,
   "id": "d03789a9",
   "metadata": {
    "ExecuteTime": {
     "end_time": "2022-01-10T20:47:08.237126Z",
     "start_time": "2022-01-10T20:47:08.164283Z"
    },
    "hidden": true,
    "scrolled": true
   },
   "outputs": [
    {
     "name": "stdout",
     "output_type": "stream",
     "text": [
      "              precision    recall  f1-score   support\n",
      "\n",
      "           0       0.71      0.73      0.72     10543\n",
      "           1       0.72      0.70      0.71     10457\n",
      "\n",
      "    accuracy                           0.71     21000\n",
      "   macro avg       0.71      0.71      0.71     21000\n",
      "weighted avg       0.71      0.71      0.71     21000\n",
      "\n"
     ]
    }
   ],
   "source": [
    "print(classification_report(y_test, rf_predict))"
   ]
  },
  {
   "cell_type": "markdown",
   "id": "9e774926",
   "metadata": {
    "heading_collapsed": true
   },
   "source": [
    "# 8.0 Results and Conclusions"
   ]
  },
  {
   "cell_type": "markdown",
   "id": "f2c20cd8",
   "metadata": {},
   "source": [
    "# Time"
   ]
  },
  {
   "cell_type": "code",
   "execution_count": 51,
   "id": "2aa0cbe6",
   "metadata": {
    "ExecuteTime": {
     "end_time": "2022-01-10T20:47:08.261216Z",
     "start_time": "2022-01-10T20:47:08.237126Z"
    }
   },
   "outputs": [
    {
     "name": "stdout",
     "output_type": "stream",
     "text": [
      "O tempo de processamento do projeto foi de: 0 minutos\n"
     ]
    }
   ],
   "source": [
    "print(f'O tempo de processamento do projeto foi de: {int(round(time.time()-tempo_agora, 2)/60)} minutos')"
   ]
  }
 ],
 "metadata": {
  "kernelspec": {
   "display_name": "Python 3 (ipykernel)",
   "language": "python",
   "name": "python3"
  },
  "language_info": {
   "codemirror_mode": {
    "name": "ipython",
    "version": 3
   },
   "file_extension": ".py",
   "mimetype": "text/x-python",
   "name": "python",
   "nbconvert_exporter": "python",
   "pygments_lexer": "ipython3",
   "version": "3.9.7"
  }
 },
 "nbformat": 4,
 "nbformat_minor": 5
}
