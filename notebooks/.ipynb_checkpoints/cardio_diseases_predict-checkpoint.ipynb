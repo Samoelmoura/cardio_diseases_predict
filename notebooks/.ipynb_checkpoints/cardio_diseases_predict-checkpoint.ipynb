{
 "cells": [
  {
   "cell_type": "markdown",
   "id": "f5f22930",
   "metadata": {
    "heading_collapsed": true
   },
   "source": [
    "# Reports\n",
    "1. Inputs: data from kaggle and business problem\n",
    "2. Outputs: results conslusions and request API"
   ]
  },
  {
   "cell_type": "markdown",
   "id": "03007925",
   "metadata": {},
   "source": [
    "# 1.0 Imports"
   ]
  },
  {
   "cell_type": "markdown",
   "id": "3490950f",
   "metadata": {},
   "source": [
    "## 1.1 Libraries"
   ]
  },
  {
   "cell_type": "code",
   "execution_count": 42,
   "id": "8ef3ed94",
   "metadata": {
    "ExecuteTime": {
     "end_time": "2022-01-02T19:42:49.176563Z",
     "start_time": "2022-01-02T19:42:49.167600Z"
    }
   },
   "outputs": [],
   "source": [
    "import pandas as pd\n",
    "import numpy as np\n",
    "import matplotlib.pyplot as plt\n",
    "import seaborn as sns\n",
    "\n",
    "from sklearn.ensemble import RandomForestClassifier\n",
    "from sklearn.model_selection import train_test_split\n",
    "from sklearn.metrics import classification_report\n",
    "from sklearn.preprocessing import StandardScaler\n",
    "\n",
    "import time\n",
    "\n",
    "tempo_agora = time.time()"
   ]
  },
  {
   "cell_type": "markdown",
   "id": "8b3718c7",
   "metadata": {},
   "source": [
    "## 1.2 Helper Functions"
   ]
  },
  {
   "cell_type": "code",
   "execution_count": 2,
   "id": "85ca7992",
   "metadata": {
    "ExecuteTime": {
     "end_time": "2022-01-02T19:39:48.039225Z",
     "start_time": "2022-01-02T19:39:48.026514Z"
    }
   },
   "outputs": [],
   "source": [
    "# buscar outliers pelo método de Tukey\n",
    "def buscar_outliers(df, col):\n",
    "    primeiro_quartil = df[col].quantile(0.25)\n",
    "    terceiro_quartil = df[col].quantile(0.75)\n",
    "    range_ = terceiro_quartil - primeiro_quartil\n",
    "    salto = range_ * 1.5\n",
    "    limite_inferior = primeiro_quartil - salto\n",
    "    limite_superior = terceiro_quartil + salto\n",
    "    outliers_indices = df[(df[col]<limite_inferior)|(df[col]>limite_superior)].index\n",
    "    return outliers_indices, limite_inferior, limite_superior\n",
    "\n",
    "# estatística descritiva de primeira e segunda ordem\n",
    "def desc_stats(df, col):\n",
    "    print(f'Dados da feature: {col}\\n')\n",
    "    print(f'Máximo (max): {df[col].max()}')\n",
    "    print(f'Mínimo (min): {df[col].min()}')\n",
    "    print(f'Range (range): {df[col].max()-df[col].min()}')\n",
    "    print(f'Média (mean): {df[col].mean()}')\n",
    "    print(f'Mediana (median): {df[col].median()}')\n",
    "    print(f'Desvio padrão (standard deviation): {df[col].std()}')\n",
    "    print(f'Curtose (kurtosis): {df[col].kurtosis()}')\n",
    "    print(f'Assimetria (skew): {df[col].skew()}')"
   ]
  },
  {
   "cell_type": "markdown",
   "id": "05a99f8f",
   "metadata": {},
   "source": [
    "## 1.3 Loading Dataset"
   ]
  },
  {
   "cell_type": "code",
   "execution_count": 3,
   "id": "d945249e",
   "metadata": {
    "ExecuteTime": {
     "end_time": "2022-01-02T19:39:48.116257Z",
     "start_time": "2022-01-02T19:39:48.042266Z"
    }
   },
   "outputs": [],
   "source": [
    "df = pd.read_csv('D:\\\\My drive\\\\Pessoal\\\\Projetos\\\\cardio_diseases_predict\\\\cardio_diseases_predict\\\\cardio_train.csv', sep=';')"
   ]
  },
  {
   "cell_type": "markdown",
   "id": "6d9aa1b1",
   "metadata": {},
   "source": [
    "# 2.0 Data Description and Cleaning"
   ]
  },
  {
   "cell_type": "markdown",
   "id": "1eb933ec",
   "metadata": {},
   "source": [
    "## 2.1 Main insights:\n",
    "1. **Age:** com range entre 29 e 64 anos\n",
    "2. **Gender:** mulheres são maioria com 65% do total\n",
    "3. **Cholesterol:** 75% dos pacientes possuem colesterol normal\n",
    "4. **Glucose:** 85% dos pacientes apresentam nível normal de glicemia\n",
    "5. **Alcohol Intake:** 95% dos pacientes não consomem bebidas alcólicas\n",
    "6. **Physical activity:** 50% praticam atividades físicas"
   ]
  },
  {
   "cell_type": "markdown",
   "id": "ef2a54e4",
   "metadata": {},
   "source": [
    "## 2.2 General Analysis"
   ]
  },
  {
   "cell_type": "markdown",
   "id": "72a688ea",
   "metadata": {},
   "source": [
    "##### 2.2 Looking dataset"
   ]
  },
  {
   "cell_type": "code",
   "execution_count": 4,
   "id": "bdd76abb",
   "metadata": {
    "ExecuteTime": {
     "end_time": "2022-01-02T19:39:48.147322Z",
     "start_time": "2022-01-02T19:39:48.118306Z"
    }
   },
   "outputs": [
    {
     "data": {
      "text/html": [
       "<div>\n",
       "<style scoped>\n",
       "    .dataframe tbody tr th:only-of-type {\n",
       "        vertical-align: middle;\n",
       "    }\n",
       "\n",
       "    .dataframe tbody tr th {\n",
       "        vertical-align: top;\n",
       "    }\n",
       "\n",
       "    .dataframe thead th {\n",
       "        text-align: right;\n",
       "    }\n",
       "</style>\n",
       "<table border=\"1\" class=\"dataframe\">\n",
       "  <thead>\n",
       "    <tr style=\"text-align: right;\">\n",
       "      <th></th>\n",
       "      <th>id</th>\n",
       "      <th>age</th>\n",
       "      <th>gender</th>\n",
       "      <th>height</th>\n",
       "      <th>weight</th>\n",
       "      <th>ap_hi</th>\n",
       "      <th>ap_lo</th>\n",
       "      <th>cholesterol</th>\n",
       "      <th>gluc</th>\n",
       "      <th>smoke</th>\n",
       "      <th>alco</th>\n",
       "      <th>active</th>\n",
       "      <th>cardio</th>\n",
       "    </tr>\n",
       "  </thead>\n",
       "  <tbody>\n",
       "    <tr>\n",
       "      <th>0</th>\n",
       "      <td>0</td>\n",
       "      <td>18393</td>\n",
       "      <td>2</td>\n",
       "      <td>168</td>\n",
       "      <td>62.0</td>\n",
       "      <td>110</td>\n",
       "      <td>80</td>\n",
       "      <td>1</td>\n",
       "      <td>1</td>\n",
       "      <td>0</td>\n",
       "      <td>0</td>\n",
       "      <td>1</td>\n",
       "      <td>0</td>\n",
       "    </tr>\n",
       "    <tr>\n",
       "      <th>1</th>\n",
       "      <td>1</td>\n",
       "      <td>20228</td>\n",
       "      <td>1</td>\n",
       "      <td>156</td>\n",
       "      <td>85.0</td>\n",
       "      <td>140</td>\n",
       "      <td>90</td>\n",
       "      <td>3</td>\n",
       "      <td>1</td>\n",
       "      <td>0</td>\n",
       "      <td>0</td>\n",
       "      <td>1</td>\n",
       "      <td>1</td>\n",
       "    </tr>\n",
       "    <tr>\n",
       "      <th>2</th>\n",
       "      <td>2</td>\n",
       "      <td>18857</td>\n",
       "      <td>1</td>\n",
       "      <td>165</td>\n",
       "      <td>64.0</td>\n",
       "      <td>130</td>\n",
       "      <td>70</td>\n",
       "      <td>3</td>\n",
       "      <td>1</td>\n",
       "      <td>0</td>\n",
       "      <td>0</td>\n",
       "      <td>0</td>\n",
       "      <td>1</td>\n",
       "    </tr>\n",
       "    <tr>\n",
       "      <th>3</th>\n",
       "      <td>3</td>\n",
       "      <td>17623</td>\n",
       "      <td>2</td>\n",
       "      <td>169</td>\n",
       "      <td>82.0</td>\n",
       "      <td>150</td>\n",
       "      <td>100</td>\n",
       "      <td>1</td>\n",
       "      <td>1</td>\n",
       "      <td>0</td>\n",
       "      <td>0</td>\n",
       "      <td>1</td>\n",
       "      <td>1</td>\n",
       "    </tr>\n",
       "    <tr>\n",
       "      <th>4</th>\n",
       "      <td>4</td>\n",
       "      <td>17474</td>\n",
       "      <td>1</td>\n",
       "      <td>156</td>\n",
       "      <td>56.0</td>\n",
       "      <td>100</td>\n",
       "      <td>60</td>\n",
       "      <td>1</td>\n",
       "      <td>1</td>\n",
       "      <td>0</td>\n",
       "      <td>0</td>\n",
       "      <td>0</td>\n",
       "      <td>0</td>\n",
       "    </tr>\n",
       "  </tbody>\n",
       "</table>\n",
       "</div>"
      ],
      "text/plain": [
       "   id    age  gender  height  weight  ap_hi  ap_lo  cholesterol  gluc  smoke  \\\n",
       "0   0  18393       2     168    62.0    110     80            1     1      0   \n",
       "1   1  20228       1     156    85.0    140     90            3     1      0   \n",
       "2   2  18857       1     165    64.0    130     70            3     1      0   \n",
       "3   3  17623       2     169    82.0    150    100            1     1      0   \n",
       "4   4  17474       1     156    56.0    100     60            1     1      0   \n",
       "\n",
       "   alco  active  cardio  \n",
       "0     0       1       0  \n",
       "1     0       1       1  \n",
       "2     0       0       1  \n",
       "3     0       1       1  \n",
       "4     0       0       0  "
      ]
     },
     "execution_count": 4,
     "metadata": {},
     "output_type": "execute_result"
    }
   ],
   "source": [
    "df.head(5)"
   ]
  },
  {
   "cell_type": "markdown",
   "id": "1325fe29",
   "metadata": {},
   "source": [
    "##### 2.3 Data Dimensions"
   ]
  },
  {
   "cell_type": "code",
   "execution_count": 5,
   "id": "40a08107",
   "metadata": {
    "ExecuteTime": {
     "end_time": "2022-01-02T19:39:48.162733Z",
     "start_time": "2022-01-02T19:39:48.149304Z"
    }
   },
   "outputs": [
    {
     "name": "stdout",
     "output_type": "stream",
     "text": [
      "Number of rows: 70000\n",
      "Number of columns: 13\n"
     ]
    }
   ],
   "source": [
    "print(f'Number of rows: {df.shape[0]}')\n",
    "print(f'Number of columns: {df.shape[1]}')"
   ]
  },
  {
   "cell_type": "markdown",
   "id": "a547692a",
   "metadata": {},
   "source": [
    "##### 2.4 Data Types"
   ]
  },
  {
   "cell_type": "code",
   "execution_count": 6,
   "id": "029612a9",
   "metadata": {
    "ExecuteTime": {
     "end_time": "2022-01-02T19:39:48.178790Z",
     "start_time": "2022-01-02T19:39:48.163718Z"
    },
    "scrolled": true
   },
   "outputs": [
    {
     "data": {
      "text/plain": [
       "id               int64\n",
       "age              int64\n",
       "gender           int64\n",
       "height           int64\n",
       "weight         float64\n",
       "ap_hi            int64\n",
       "ap_lo            int64\n",
       "cholesterol      int64\n",
       "gluc             int64\n",
       "smoke            int64\n",
       "alco             int64\n",
       "active           int64\n",
       "cardio           int64\n",
       "dtype: object"
      ]
     },
     "execution_count": 6,
     "metadata": {},
     "output_type": "execute_result"
    }
   ],
   "source": [
    "df.dtypes"
   ]
  },
  {
   "cell_type": "markdown",
   "id": "3256ccaa",
   "metadata": {},
   "source": [
    "##### 2.5 Check NaNs"
   ]
  },
  {
   "cell_type": "code",
   "execution_count": 7,
   "id": "ae04ab13",
   "metadata": {
    "ExecuteTime": {
     "end_time": "2022-01-02T19:39:48.194572Z",
     "start_time": "2022-01-02T19:39:48.179788Z"
    },
    "scrolled": true
   },
   "outputs": [
    {
     "data": {
      "text/plain": [
       "id             0\n",
       "age            0\n",
       "gender         0\n",
       "height         0\n",
       "weight         0\n",
       "ap_hi          0\n",
       "ap_lo          0\n",
       "cholesterol    0\n",
       "gluc           0\n",
       "smoke          0\n",
       "alco           0\n",
       "active         0\n",
       "cardio         0\n",
       "dtype: int64"
      ]
     },
     "execution_count": 7,
     "metadata": {},
     "output_type": "execute_result"
    }
   ],
   "source": [
    "df.isna().sum()"
   ]
  },
  {
   "cell_type": "markdown",
   "id": "7090f244",
   "metadata": {},
   "source": [
    "##### 2.6 Changing interesting features"
   ]
  },
  {
   "cell_type": "markdown",
   "id": "db3d459e",
   "metadata": {},
   "source": [
    "Para uma melhor análise a idade será transformada de dias para anos"
   ]
  },
  {
   "cell_type": "code",
   "execution_count": 8,
   "id": "61ea4e33",
   "metadata": {
    "ExecuteTime": {
     "end_time": "2022-01-02T19:39:48.210133Z",
     "start_time": "2022-01-02T19:39:48.196470Z"
    }
   },
   "outputs": [],
   "source": [
    "df['age_'] = df['age'] / 365\n",
    "df['age_'] = df['age_'].astype('int')"
   ]
  },
  {
   "cell_type": "markdown",
   "id": "4a1bbab4",
   "metadata": {},
   "source": [
    "##### 2.7 Segragating feature types"
   ]
  },
  {
   "cell_type": "code",
   "execution_count": 9,
   "id": "4dc74d8d",
   "metadata": {
    "ExecuteTime": {
     "end_time": "2022-01-02T19:39:48.226189Z",
     "start_time": "2022-01-02T19:39:48.211097Z"
    }
   },
   "outputs": [],
   "source": [
    "features_target = ['cardio']\n",
    "features_remover = ['id', 'age_']\n",
    "features_numéricas = ['age_', 'height', 'weight', 'ap_hi', 'ap_lo']\n",
    "features_categóricas = ['gender', 'cholesterol', 'gluc', 'smoke', 'alco', 'active', 'cardio']"
   ]
  },
  {
   "cell_type": "markdown",
   "id": "84785332",
   "metadata": {},
   "source": [
    "## 2.3 Descriptive Statistics"
   ]
  },
  {
   "cell_type": "markdown",
   "id": "c36c3f59",
   "metadata": {},
   "source": [
    "##### 2.3.1 Numerical Features"
   ]
  },
  {
   "cell_type": "code",
   "execution_count": 10,
   "id": "d52abafe",
   "metadata": {
    "ExecuteTime": {
     "end_time": "2022-01-02T19:39:48.273565Z",
     "start_time": "2022-01-02T19:39:48.229183Z"
    },
    "scrolled": false
   },
   "outputs": [
    {
     "data": {
      "text/html": [
       "<div>\n",
       "<style scoped>\n",
       "    .dataframe tbody tr th:only-of-type {\n",
       "        vertical-align: middle;\n",
       "    }\n",
       "\n",
       "    .dataframe tbody tr th {\n",
       "        vertical-align: top;\n",
       "    }\n",
       "\n",
       "    .dataframe thead th {\n",
       "        text-align: right;\n",
       "    }\n",
       "</style>\n",
       "<table border=\"1\" class=\"dataframe\">\n",
       "  <thead>\n",
       "    <tr style=\"text-align: right;\">\n",
       "      <th></th>\n",
       "      <th>age_</th>\n",
       "      <th>height</th>\n",
       "      <th>weight</th>\n",
       "      <th>ap_hi</th>\n",
       "      <th>ap_lo</th>\n",
       "    </tr>\n",
       "  </thead>\n",
       "  <tbody>\n",
       "    <tr>\n",
       "      <th>count</th>\n",
       "      <td>70000.000000</td>\n",
       "      <td>70000.000000</td>\n",
       "      <td>70000.000000</td>\n",
       "      <td>70000.000000</td>\n",
       "      <td>70000.000000</td>\n",
       "    </tr>\n",
       "    <tr>\n",
       "      <th>mean</th>\n",
       "      <td>52.840671</td>\n",
       "      <td>164.359229</td>\n",
       "      <td>74.205690</td>\n",
       "      <td>128.817286</td>\n",
       "      <td>96.630414</td>\n",
       "    </tr>\n",
       "    <tr>\n",
       "      <th>std</th>\n",
       "      <td>6.766774</td>\n",
       "      <td>8.210126</td>\n",
       "      <td>14.395757</td>\n",
       "      <td>154.011419</td>\n",
       "      <td>188.472530</td>\n",
       "    </tr>\n",
       "    <tr>\n",
       "      <th>min</th>\n",
       "      <td>29.000000</td>\n",
       "      <td>55.000000</td>\n",
       "      <td>10.000000</td>\n",
       "      <td>-150.000000</td>\n",
       "      <td>-70.000000</td>\n",
       "    </tr>\n",
       "    <tr>\n",
       "      <th>25%</th>\n",
       "      <td>48.000000</td>\n",
       "      <td>159.000000</td>\n",
       "      <td>65.000000</td>\n",
       "      <td>120.000000</td>\n",
       "      <td>80.000000</td>\n",
       "    </tr>\n",
       "    <tr>\n",
       "      <th>50%</th>\n",
       "      <td>53.000000</td>\n",
       "      <td>165.000000</td>\n",
       "      <td>72.000000</td>\n",
       "      <td>120.000000</td>\n",
       "      <td>80.000000</td>\n",
       "    </tr>\n",
       "    <tr>\n",
       "      <th>75%</th>\n",
       "      <td>58.000000</td>\n",
       "      <td>170.000000</td>\n",
       "      <td>82.000000</td>\n",
       "      <td>140.000000</td>\n",
       "      <td>90.000000</td>\n",
       "    </tr>\n",
       "    <tr>\n",
       "      <th>max</th>\n",
       "      <td>64.000000</td>\n",
       "      <td>250.000000</td>\n",
       "      <td>200.000000</td>\n",
       "      <td>16020.000000</td>\n",
       "      <td>11000.000000</td>\n",
       "    </tr>\n",
       "  </tbody>\n",
       "</table>\n",
       "</div>"
      ],
      "text/plain": [
       "               age_        height        weight         ap_hi         ap_lo\n",
       "count  70000.000000  70000.000000  70000.000000  70000.000000  70000.000000\n",
       "mean      52.840671    164.359229     74.205690    128.817286     96.630414\n",
       "std        6.766774      8.210126     14.395757    154.011419    188.472530\n",
       "min       29.000000     55.000000     10.000000   -150.000000    -70.000000\n",
       "25%       48.000000    159.000000     65.000000    120.000000     80.000000\n",
       "50%       53.000000    165.000000     72.000000    120.000000     80.000000\n",
       "75%       58.000000    170.000000     82.000000    140.000000     90.000000\n",
       "max       64.000000    250.000000    200.000000  16020.000000  11000.000000"
      ]
     },
     "execution_count": 10,
     "metadata": {},
     "output_type": "execute_result"
    }
   ],
   "source": [
    "df[features_numéricas].describe()"
   ]
  },
  {
   "cell_type": "markdown",
   "id": "c590f7bf",
   "metadata": {},
   "source": [
    "Range de idade entre 29 e 64 anos, altura máxima de 2 metros e meio provavelmente indica erros de input, peso mínimo de 10kgs tratando-se de adutos indica erros de input, pressão arterial com valores negativos tanto no ap_hi quanto no ap_lo, assim como seus máximos."
   ]
  },
  {
   "cell_type": "markdown",
   "id": "11cbea9e",
   "metadata": {},
   "source": [
    "##### 2.3.2  Categorical Features"
   ]
  },
  {
   "cell_type": "code",
   "execution_count": 11,
   "id": "27f36d20",
   "metadata": {
    "ExecuteTime": {
     "end_time": "2022-01-02T19:39:48.320921Z",
     "start_time": "2022-01-02T19:39:48.275064Z"
    },
    "scrolled": true
   },
   "outputs": [
    {
     "data": {
      "text/html": [
       "<div>\n",
       "<style scoped>\n",
       "    .dataframe tbody tr th:only-of-type {\n",
       "        vertical-align: middle;\n",
       "    }\n",
       "\n",
       "    .dataframe tbody tr th {\n",
       "        vertical-align: top;\n",
       "    }\n",
       "\n",
       "    .dataframe thead th {\n",
       "        text-align: right;\n",
       "    }\n",
       "</style>\n",
       "<table border=\"1\" class=\"dataframe\">\n",
       "  <thead>\n",
       "    <tr style=\"text-align: right;\">\n",
       "      <th></th>\n",
       "      <th>gender</th>\n",
       "      <th>cholesterol</th>\n",
       "      <th>gluc</th>\n",
       "      <th>smoke</th>\n",
       "      <th>alco</th>\n",
       "      <th>active</th>\n",
       "      <th>cardio</th>\n",
       "    </tr>\n",
       "  </thead>\n",
       "  <tbody>\n",
       "    <tr>\n",
       "      <th>count</th>\n",
       "      <td>70000</td>\n",
       "      <td>70000</td>\n",
       "      <td>70000</td>\n",
       "      <td>70000</td>\n",
       "      <td>70000</td>\n",
       "      <td>70000</td>\n",
       "      <td>70000</td>\n",
       "    </tr>\n",
       "    <tr>\n",
       "      <th>unique</th>\n",
       "      <td>2</td>\n",
       "      <td>3</td>\n",
       "      <td>3</td>\n",
       "      <td>2</td>\n",
       "      <td>2</td>\n",
       "      <td>2</td>\n",
       "      <td>2</td>\n",
       "    </tr>\n",
       "    <tr>\n",
       "      <th>top</th>\n",
       "      <td>1</td>\n",
       "      <td>1</td>\n",
       "      <td>1</td>\n",
       "      <td>0</td>\n",
       "      <td>0</td>\n",
       "      <td>1</td>\n",
       "      <td>0</td>\n",
       "    </tr>\n",
       "    <tr>\n",
       "      <th>freq</th>\n",
       "      <td>45530</td>\n",
       "      <td>52385</td>\n",
       "      <td>59479</td>\n",
       "      <td>63831</td>\n",
       "      <td>66236</td>\n",
       "      <td>56261</td>\n",
       "      <td>35021</td>\n",
       "    </tr>\n",
       "  </tbody>\n",
       "</table>\n",
       "</div>"
      ],
      "text/plain": [
       "        gender  cholesterol   gluc  smoke   alco  active  cardio\n",
       "count    70000        70000  70000  70000  70000   70000   70000\n",
       "unique       2            3      3      2      2       2       2\n",
       "top          1            1      1      0      0       1       0\n",
       "freq     45530        52385  59479  63831  66236   56261   35021"
      ]
     },
     "execution_count": 11,
     "metadata": {},
     "output_type": "execute_result"
    }
   ],
   "source": [
    "df[features_categóricas].astype('category').describe()"
   ]
  },
  {
   "cell_type": "markdown",
   "id": "6bae81b4",
   "metadata": {},
   "source": [
    "Mulheres são maioria com 65% do total, 75% dos pacientes possuem colesterol normal, 85% dos pacientes apresentam nível normal de glicemia, 95% dos pacientes não consomem bebidas alcólicas, 50% praticam atividades físicas"
   ]
  },
  {
   "cell_type": "markdown",
   "id": "c3cc234b",
   "metadata": {},
   "source": [
    "##### 2.3.3 Correlations"
   ]
  },
  {
   "cell_type": "code",
   "execution_count": 12,
   "id": "d4528e46",
   "metadata": {
    "ExecuteTime": {
     "end_time": "2022-01-02T19:39:48.382445Z",
     "start_time": "2022-01-02T19:39:48.321885Z"
    }
   },
   "outputs": [
    {
     "data": {
      "text/html": [
       "<div>\n",
       "<style scoped>\n",
       "    .dataframe tbody tr th:only-of-type {\n",
       "        vertical-align: middle;\n",
       "    }\n",
       "\n",
       "    .dataframe tbody tr th {\n",
       "        vertical-align: top;\n",
       "    }\n",
       "\n",
       "    .dataframe thead th {\n",
       "        text-align: right;\n",
       "    }\n",
       "</style>\n",
       "<table border=\"1\" class=\"dataframe\">\n",
       "  <thead>\n",
       "    <tr style=\"text-align: right;\">\n",
       "      <th></th>\n",
       "      <th>age</th>\n",
       "      <th>gender</th>\n",
       "      <th>height</th>\n",
       "      <th>weight</th>\n",
       "      <th>ap_hi</th>\n",
       "      <th>ap_lo</th>\n",
       "      <th>cholesterol</th>\n",
       "      <th>gluc</th>\n",
       "      <th>smoke</th>\n",
       "      <th>alco</th>\n",
       "      <th>active</th>\n",
       "      <th>cardio</th>\n",
       "    </tr>\n",
       "  </thead>\n",
       "  <tbody>\n",
       "    <tr>\n",
       "      <th>age</th>\n",
       "      <td>1.000000</td>\n",
       "      <td>-0.022811</td>\n",
       "      <td>-0.081515</td>\n",
       "      <td>0.053684</td>\n",
       "      <td>0.020764</td>\n",
       "      <td>0.017647</td>\n",
       "      <td>0.154424</td>\n",
       "      <td>0.098703</td>\n",
       "      <td>-0.047633</td>\n",
       "      <td>-0.029723</td>\n",
       "      <td>-0.009927</td>\n",
       "      <td>0.238159</td>\n",
       "    </tr>\n",
       "    <tr>\n",
       "      <th>gender</th>\n",
       "      <td>-0.022811</td>\n",
       "      <td>1.000000</td>\n",
       "      <td>0.499033</td>\n",
       "      <td>0.155406</td>\n",
       "      <td>0.006005</td>\n",
       "      <td>0.015254</td>\n",
       "      <td>-0.035821</td>\n",
       "      <td>-0.020491</td>\n",
       "      <td>0.338135</td>\n",
       "      <td>0.170966</td>\n",
       "      <td>0.005866</td>\n",
       "      <td>0.008109</td>\n",
       "    </tr>\n",
       "    <tr>\n",
       "      <th>height</th>\n",
       "      <td>-0.081515</td>\n",
       "      <td>0.499033</td>\n",
       "      <td>1.000000</td>\n",
       "      <td>0.290968</td>\n",
       "      <td>0.005488</td>\n",
       "      <td>0.006150</td>\n",
       "      <td>-0.050226</td>\n",
       "      <td>-0.018595</td>\n",
       "      <td>0.187989</td>\n",
       "      <td>0.094419</td>\n",
       "      <td>-0.006570</td>\n",
       "      <td>-0.010821</td>\n",
       "    </tr>\n",
       "    <tr>\n",
       "      <th>weight</th>\n",
       "      <td>0.053684</td>\n",
       "      <td>0.155406</td>\n",
       "      <td>0.290968</td>\n",
       "      <td>1.000000</td>\n",
       "      <td>0.030702</td>\n",
       "      <td>0.043710</td>\n",
       "      <td>0.141768</td>\n",
       "      <td>0.106857</td>\n",
       "      <td>0.067780</td>\n",
       "      <td>0.067113</td>\n",
       "      <td>-0.016867</td>\n",
       "      <td>0.181660</td>\n",
       "    </tr>\n",
       "    <tr>\n",
       "      <th>ap_hi</th>\n",
       "      <td>0.020764</td>\n",
       "      <td>0.006005</td>\n",
       "      <td>0.005488</td>\n",
       "      <td>0.030702</td>\n",
       "      <td>1.000000</td>\n",
       "      <td>0.016086</td>\n",
       "      <td>0.023778</td>\n",
       "      <td>0.011841</td>\n",
       "      <td>-0.000922</td>\n",
       "      <td>0.001408</td>\n",
       "      <td>-0.000033</td>\n",
       "      <td>0.054475</td>\n",
       "    </tr>\n",
       "    <tr>\n",
       "      <th>ap_lo</th>\n",
       "      <td>0.017647</td>\n",
       "      <td>0.015254</td>\n",
       "      <td>0.006150</td>\n",
       "      <td>0.043710</td>\n",
       "      <td>0.016086</td>\n",
       "      <td>1.000000</td>\n",
       "      <td>0.024019</td>\n",
       "      <td>0.010806</td>\n",
       "      <td>0.005186</td>\n",
       "      <td>0.010601</td>\n",
       "      <td>0.004780</td>\n",
       "      <td>0.065719</td>\n",
       "    </tr>\n",
       "    <tr>\n",
       "      <th>cholesterol</th>\n",
       "      <td>0.154424</td>\n",
       "      <td>-0.035821</td>\n",
       "      <td>-0.050226</td>\n",
       "      <td>0.141768</td>\n",
       "      <td>0.023778</td>\n",
       "      <td>0.024019</td>\n",
       "      <td>1.000000</td>\n",
       "      <td>0.451578</td>\n",
       "      <td>0.010354</td>\n",
       "      <td>0.035760</td>\n",
       "      <td>0.009911</td>\n",
       "      <td>0.221147</td>\n",
       "    </tr>\n",
       "    <tr>\n",
       "      <th>gluc</th>\n",
       "      <td>0.098703</td>\n",
       "      <td>-0.020491</td>\n",
       "      <td>-0.018595</td>\n",
       "      <td>0.106857</td>\n",
       "      <td>0.011841</td>\n",
       "      <td>0.010806</td>\n",
       "      <td>0.451578</td>\n",
       "      <td>1.000000</td>\n",
       "      <td>-0.004756</td>\n",
       "      <td>0.011246</td>\n",
       "      <td>-0.006770</td>\n",
       "      <td>0.089307</td>\n",
       "    </tr>\n",
       "    <tr>\n",
       "      <th>smoke</th>\n",
       "      <td>-0.047633</td>\n",
       "      <td>0.338135</td>\n",
       "      <td>0.187989</td>\n",
       "      <td>0.067780</td>\n",
       "      <td>-0.000922</td>\n",
       "      <td>0.005186</td>\n",
       "      <td>0.010354</td>\n",
       "      <td>-0.004756</td>\n",
       "      <td>1.000000</td>\n",
       "      <td>0.340094</td>\n",
       "      <td>0.025858</td>\n",
       "      <td>-0.015486</td>\n",
       "    </tr>\n",
       "    <tr>\n",
       "      <th>alco</th>\n",
       "      <td>-0.029723</td>\n",
       "      <td>0.170966</td>\n",
       "      <td>0.094419</td>\n",
       "      <td>0.067113</td>\n",
       "      <td>0.001408</td>\n",
       "      <td>0.010601</td>\n",
       "      <td>0.035760</td>\n",
       "      <td>0.011246</td>\n",
       "      <td>0.340094</td>\n",
       "      <td>1.000000</td>\n",
       "      <td>0.025476</td>\n",
       "      <td>-0.007330</td>\n",
       "    </tr>\n",
       "    <tr>\n",
       "      <th>active</th>\n",
       "      <td>-0.009927</td>\n",
       "      <td>0.005866</td>\n",
       "      <td>-0.006570</td>\n",
       "      <td>-0.016867</td>\n",
       "      <td>-0.000033</td>\n",
       "      <td>0.004780</td>\n",
       "      <td>0.009911</td>\n",
       "      <td>-0.006770</td>\n",
       "      <td>0.025858</td>\n",
       "      <td>0.025476</td>\n",
       "      <td>1.000000</td>\n",
       "      <td>-0.035653</td>\n",
       "    </tr>\n",
       "    <tr>\n",
       "      <th>cardio</th>\n",
       "      <td>0.238159</td>\n",
       "      <td>0.008109</td>\n",
       "      <td>-0.010821</td>\n",
       "      <td>0.181660</td>\n",
       "      <td>0.054475</td>\n",
       "      <td>0.065719</td>\n",
       "      <td>0.221147</td>\n",
       "      <td>0.089307</td>\n",
       "      <td>-0.015486</td>\n",
       "      <td>-0.007330</td>\n",
       "      <td>-0.035653</td>\n",
       "      <td>1.000000</td>\n",
       "    </tr>\n",
       "  </tbody>\n",
       "</table>\n",
       "</div>"
      ],
      "text/plain": [
       "                  age    gender    height    weight     ap_hi     ap_lo  \\\n",
       "age          1.000000 -0.022811 -0.081515  0.053684  0.020764  0.017647   \n",
       "gender      -0.022811  1.000000  0.499033  0.155406  0.006005  0.015254   \n",
       "height      -0.081515  0.499033  1.000000  0.290968  0.005488  0.006150   \n",
       "weight       0.053684  0.155406  0.290968  1.000000  0.030702  0.043710   \n",
       "ap_hi        0.020764  0.006005  0.005488  0.030702  1.000000  0.016086   \n",
       "ap_lo        0.017647  0.015254  0.006150  0.043710  0.016086  1.000000   \n",
       "cholesterol  0.154424 -0.035821 -0.050226  0.141768  0.023778  0.024019   \n",
       "gluc         0.098703 -0.020491 -0.018595  0.106857  0.011841  0.010806   \n",
       "smoke       -0.047633  0.338135  0.187989  0.067780 -0.000922  0.005186   \n",
       "alco        -0.029723  0.170966  0.094419  0.067113  0.001408  0.010601   \n",
       "active      -0.009927  0.005866 -0.006570 -0.016867 -0.000033  0.004780   \n",
       "cardio       0.238159  0.008109 -0.010821  0.181660  0.054475  0.065719   \n",
       "\n",
       "             cholesterol      gluc     smoke      alco    active    cardio  \n",
       "age             0.154424  0.098703 -0.047633 -0.029723 -0.009927  0.238159  \n",
       "gender         -0.035821 -0.020491  0.338135  0.170966  0.005866  0.008109  \n",
       "height         -0.050226 -0.018595  0.187989  0.094419 -0.006570 -0.010821  \n",
       "weight          0.141768  0.106857  0.067780  0.067113 -0.016867  0.181660  \n",
       "ap_hi           0.023778  0.011841 -0.000922  0.001408 -0.000033  0.054475  \n",
       "ap_lo           0.024019  0.010806  0.005186  0.010601  0.004780  0.065719  \n",
       "cholesterol     1.000000  0.451578  0.010354  0.035760  0.009911  0.221147  \n",
       "gluc            0.451578  1.000000 -0.004756  0.011246 -0.006770  0.089307  \n",
       "smoke           0.010354 -0.004756  1.000000  0.340094  0.025858 -0.015486  \n",
       "alco            0.035760  0.011246  0.340094  1.000000  0.025476 -0.007330  \n",
       "active          0.009911 -0.006770  0.025858  0.025476  1.000000 -0.035653  \n",
       "cardio          0.221147  0.089307 -0.015486 -0.007330 -0.035653  1.000000  "
      ]
     },
     "execution_count": 12,
     "metadata": {},
     "output_type": "execute_result"
    }
   ],
   "source": [
    "df.drop(features_remover, axis=1).corr()"
   ]
  },
  {
   "cell_type": "code",
   "execution_count": 13,
   "id": "b61e7e0e",
   "metadata": {
    "ExecuteTime": {
     "end_time": "2022-01-02T19:39:48.618543Z",
     "start_time": "2022-01-02T19:39:48.384386Z"
    },
    "scrolled": true
   },
   "outputs": [
    {
     "data": {
      "text/plain": [
       "<AxesSubplot:>"
      ]
     },
     "execution_count": 13,
     "metadata": {},
     "output_type": "execute_result"
    },
    {
     "data": {
      "image/png": "[encoded data removed]",
      "text/plain": [
       "<Figure size 432x288 with 2 Axes>"
      ]
     },
     "metadata": {
      "needs_background": "light"
     },
     "output_type": "display_data"
    }
   ],
   "source": [
    "sns.heatmap(df.drop(features_remover, axis=1).corr())"
   ]
  },
  {
   "cell_type": "markdown",
   "id": "a5f8784b",
   "metadata": {},
   "source": [
    "1. moderada entre altura e gênero\n",
    "2. moderada entre colesterol e glicemia\n",
    "3. moderada entre consumidores de alcool e fumantes\n",
    "4. moderada entre fumantes e idade\n",
    "5. várias correlações fracas"
   ]
  },
  {
   "cell_type": "code",
   "execution_count": 14,
   "id": "444bc0a0",
   "metadata": {
    "ExecuteTime": {
     "end_time": "2022-01-02T19:39:48.666158Z",
     "start_time": "2022-01-02T19:39:48.619544Z"
    },
    "scrolled": false
   },
   "outputs": [
    {
     "data": {
      "text/html": [
       "<div>\n",
       "<style scoped>\n",
       "    .dataframe tbody tr th:only-of-type {\n",
       "        vertical-align: middle;\n",
       "    }\n",
       "\n",
       "    .dataframe tbody tr th {\n",
       "        vertical-align: top;\n",
       "    }\n",
       "\n",
       "    .dataframe thead th {\n",
       "        text-align: right;\n",
       "    }\n",
       "</style>\n",
       "<table border=\"1\" class=\"dataframe\">\n",
       "  <thead>\n",
       "    <tr style=\"text-align: right;\">\n",
       "      <th></th>\n",
       "      <th>age_</th>\n",
       "      <th>height</th>\n",
       "      <th>weight</th>\n",
       "      <th>ap_hi</th>\n",
       "      <th>ap_lo</th>\n",
       "    </tr>\n",
       "  </thead>\n",
       "  <tbody>\n",
       "    <tr>\n",
       "      <th>count</th>\n",
       "      <td>70000.000000</td>\n",
       "      <td>70000.000000</td>\n",
       "      <td>70000.000000</td>\n",
       "      <td>70000.000000</td>\n",
       "      <td>70000.000000</td>\n",
       "    </tr>\n",
       "    <tr>\n",
       "      <th>mean</th>\n",
       "      <td>52.840671</td>\n",
       "      <td>164.359229</td>\n",
       "      <td>74.205690</td>\n",
       "      <td>128.817286</td>\n",
       "      <td>96.630414</td>\n",
       "    </tr>\n",
       "    <tr>\n",
       "      <th>std</th>\n",
       "      <td>6.766774</td>\n",
       "      <td>8.210126</td>\n",
       "      <td>14.395757</td>\n",
       "      <td>154.011419</td>\n",
       "      <td>188.472530</td>\n",
       "    </tr>\n",
       "    <tr>\n",
       "      <th>min</th>\n",
       "      <td>29.000000</td>\n",
       "      <td>55.000000</td>\n",
       "      <td>10.000000</td>\n",
       "      <td>-150.000000</td>\n",
       "      <td>-70.000000</td>\n",
       "    </tr>\n",
       "    <tr>\n",
       "      <th>25%</th>\n",
       "      <td>48.000000</td>\n",
       "      <td>159.000000</td>\n",
       "      <td>65.000000</td>\n",
       "      <td>120.000000</td>\n",
       "      <td>80.000000</td>\n",
       "    </tr>\n",
       "    <tr>\n",
       "      <th>50%</th>\n",
       "      <td>53.000000</td>\n",
       "      <td>165.000000</td>\n",
       "      <td>72.000000</td>\n",
       "      <td>120.000000</td>\n",
       "      <td>80.000000</td>\n",
       "    </tr>\n",
       "    <tr>\n",
       "      <th>75%</th>\n",
       "      <td>58.000000</td>\n",
       "      <td>170.000000</td>\n",
       "      <td>82.000000</td>\n",
       "      <td>140.000000</td>\n",
       "      <td>90.000000</td>\n",
       "    </tr>\n",
       "    <tr>\n",
       "      <th>max</th>\n",
       "      <td>64.000000</td>\n",
       "      <td>250.000000</td>\n",
       "      <td>200.000000</td>\n",
       "      <td>16020.000000</td>\n",
       "      <td>11000.000000</td>\n",
       "    </tr>\n",
       "  </tbody>\n",
       "</table>\n",
       "</div>"
      ],
      "text/plain": [
       "               age_        height        weight         ap_hi         ap_lo\n",
       "count  70000.000000  70000.000000  70000.000000  70000.000000  70000.000000\n",
       "mean      52.840671    164.359229     74.205690    128.817286     96.630414\n",
       "std        6.766774      8.210126     14.395757    154.011419    188.472530\n",
       "min       29.000000     55.000000     10.000000   -150.000000    -70.000000\n",
       "25%       48.000000    159.000000     65.000000    120.000000     80.000000\n",
       "50%       53.000000    165.000000     72.000000    120.000000     80.000000\n",
       "75%       58.000000    170.000000     82.000000    140.000000     90.000000\n",
       "max       64.000000    250.000000    200.000000  16020.000000  11000.000000"
      ]
     },
     "execution_count": 14,
     "metadata": {},
     "output_type": "execute_result"
    }
   ],
   "source": [
    "df[features_numéricas].describe()"
   ]
  },
  {
   "cell_type": "markdown",
   "id": "2da5d744",
   "metadata": {},
   "source": [
    "1. Nada discrepante em idade\n",
    "2. Pessoas com alturas desde 55 centímetros até 2 metros e meio, aparentemente com discrepancias\n",
    "3. Pessoas com 10kgs (discrepante uma vez que a idade mínima é 29 anos)\n",
    "4. Máxima da pressão com número negativo em mínimo e 16020 em máximo (possivel erro de escala)\n",
    "5. Mínima da pressão com número negativo em mínimo e 11000 em máximo (provável erro de escala)"
   ]
  },
  {
   "cell_type": "markdown",
   "id": "a1844076",
   "metadata": {},
   "source": [
    "**height**"
   ]
  },
  {
   "cell_type": "code",
   "execution_count": 15,
   "id": "330d35ce",
   "metadata": {
    "ExecuteTime": {
     "end_time": "2022-01-02T19:39:48.682178Z",
     "start_time": "2022-01-02T19:39:48.667211Z"
    }
   },
   "outputs": [],
   "source": [
    "outliers_indices, li, ls = buscar_outliers(df, 'height')"
   ]
  },
  {
   "cell_type": "code",
   "execution_count": 16,
   "id": "43fd16bb",
   "metadata": {
    "ExecuteTime": {
     "end_time": "2022-01-02T19:39:48.697590Z",
     "start_time": "2022-01-02T19:39:48.684141Z"
    }
   },
   "outputs": [
    {
     "name": "stdout",
     "output_type": "stream",
     "text": [
      "Limite inferior: 142.5 \n",
      "Limite superior: 186.5\n"
     ]
    }
   ],
   "source": [
    "print(f'Limite inferior: {li} \\nLimite superior: {ls}')"
   ]
  },
  {
   "cell_type": "code",
   "execution_count": 17,
   "id": "4476fabb",
   "metadata": {
    "ExecuteTime": {
     "end_time": "2022-01-02T19:39:48.713170Z",
     "start_time": "2022-01-02T19:39:48.699562Z"
    },
    "scrolled": true
   },
   "outputs": [
    {
     "name": "stdout",
     "output_type": "stream",
     "text": [
      "Quantidade total de amostras outliers: 519\n",
      "Quantidade de amostas maiores que 186.5cm: 269\n",
      "Quantidade de amostas menores que 142.5cm: 250\n"
     ]
    }
   ],
   "source": [
    "print(f'Quantidade total de amostras outliers: {df.loc[outliers_indices, \"id\"].count()}')\n",
    "print(f'Quantidade de amostas maiores que 186.5cm: {df.loc[df[\"height\"] > 186.5, \"id\"].count()}')\n",
    "print(f'Quantidade de amostas menores que 142.5cm: {df.loc[df[\"height\"] < 142.5, \"id\"].count()}')"
   ]
  },
  {
   "cell_type": "code",
   "execution_count": 18,
   "id": "24c16d06",
   "metadata": {
    "ExecuteTime": {
     "end_time": "2022-01-02T19:39:48.805490Z",
     "start_time": "2022-01-02T19:39:48.714169Z"
    },
    "scrolled": false
   },
   "outputs": [
    {
     "data": {
      "image/png": "[encoded data removed]",
      "text/plain": [
       "<Figure size 432x288 with 1 Axes>"
      ]
     },
     "metadata": {
      "needs_background": "light"
     },
     "output_type": "display_data"
    }
   ],
   "source": [
    "sns.boxplot(data=df['height'])\n",
    "plt.title('Quartis de Altura')\n",
    "plt.ylabel('Altura');"
   ]
  },
  {
   "cell_type": "code",
   "execution_count": 19,
   "id": "411299b6",
   "metadata": {
    "ExecuteTime": {
     "end_time": "2022-01-02T19:39:49.135635Z",
     "start_time": "2022-01-02T19:39:48.807016Z"
    },
    "scrolled": false
   },
   "outputs": [
    {
     "data": {
      "image/png": "[encoded data removed]",
      "text/plain": [
       "<Figure size 432x288 with 1 Axes>"
      ]
     },
     "metadata": {
      "needs_background": "light"
     },
     "output_type": "display_data"
    }
   ],
   "source": [
    "sns.histplot(df.drop(outliers_indices)['height'], bins=20, kde=True)\n",
    "plt.title('Distribuição de Altura')\n",
    "plt.xlabel('Altura')\n",
    "plt.ylabel('Contagem');"
   ]
  },
  {
   "cell_type": "markdown",
   "id": "706fc266",
   "metadata": {},
   "source": [
    "Aparentemente há duas modas, e o gerador provavelmente é o gênero"
   ]
  },
  {
   "cell_type": "code",
   "execution_count": 20,
   "id": "e46487c9",
   "metadata": {
    "ExecuteTime": {
     "end_time": "2022-01-02T19:39:49.448019Z",
     "start_time": "2022-01-02T19:39:49.136636Z"
    },
    "scrolled": true
   },
   "outputs": [
    {
     "data": {
      "image/png": "[encoded data removed]",
      "text/plain": [
       "<Figure size 432x288 with 1 Axes>"
      ]
     },
     "metadata": {
      "needs_background": "light"
     },
     "output_type": "display_data"
    }
   ],
   "source": [
    "sns.kdeplot(df.drop(outliers_indices).loc[df['gender']==1, 'height'])\n",
    "sns.kdeplot(df.drop(outliers_indices).loc[df['gender']==2, 'height'])\n",
    "plt.title('Altura segregado pelo Gênero')\n",
    "plt.xlabel('Altura')\n",
    "plt.ylabel('Densidade');"
   ]
  },
  {
   "cell_type": "code",
   "execution_count": 21,
   "id": "fa0b7185",
   "metadata": {
    "ExecuteTime": {
     "end_time": "2022-01-02T19:39:49.463925Z",
     "start_time": "2022-01-02T19:39:49.449971Z"
    },
    "scrolled": false
   },
   "outputs": [
    {
     "name": "stdout",
     "output_type": "stream",
     "text": [
      "Dados da feature: height\n",
      "\n",
      "Máximo (max): 250\n",
      "Mínimo (min): 55\n",
      "Range (range): 195\n",
      "Média (mean): 164.35922857142856\n",
      "Mediana (median): 165.0\n",
      "Desvio padrão (standard deviation): 8.210126364538038\n",
      "Curtose (kurtosis): 7.943652579423719\n",
      "Assimetria (skew): -0.6421874521557643\n"
     ]
    }
   ],
   "source": [
    "desc_stats(df, 'height')"
   ]
  },
  {
   "cell_type": "markdown",
   "id": "8f479781",
   "metadata": {},
   "source": [
    "**weight**"
   ]
  },
  {
   "cell_type": "code",
   "execution_count": 22,
   "id": "162b765c",
   "metadata": {
    "ExecuteTime": {
     "end_time": "2022-01-02T19:39:49.479664Z",
     "start_time": "2022-01-02T19:39:49.465921Z"
    }
   },
   "outputs": [],
   "source": [
    "outliers_indices, li, ls = buscar_outliers(df, 'weight')"
   ]
  },
  {
   "cell_type": "code",
   "execution_count": 23,
   "id": "0287e8e3",
   "metadata": {
    "ExecuteTime": {
     "end_time": "2022-01-02T19:39:49.495123Z",
     "start_time": "2022-01-02T19:39:49.480661Z"
    }
   },
   "outputs": [
    {
     "name": "stdout",
     "output_type": "stream",
     "text": [
      "Limite inferior: 39.5 \n",
      "Limite superior: 107.5\n"
     ]
    }
   ],
   "source": [
    "print(f'Limite inferior: {li} \\nLimite superior: {ls}')"
   ]
  },
  {
   "cell_type": "code",
   "execution_count": 24,
   "id": "87c03e16",
   "metadata": {
    "ExecuteTime": {
     "end_time": "2022-01-02T19:39:49.510609Z",
     "start_time": "2022-01-02T19:39:49.496090Z"
    }
   },
   "outputs": [
    {
     "name": "stdout",
     "output_type": "stream",
     "text": [
      "Há um total de 1819 outliers\n",
      "Há um total de: 52 outliers com peso mais BAIXO que a normalidade\n",
      "Há um total de: 1767 outliers com peso mais ALTO que a normalidade\n"
     ]
    }
   ],
   "source": [
    "print(f'Há um total de {len(outliers_indices)} outliers')\n",
    "print(f'Há um total de: {df.loc[df[\"weight\"]<li, \"id\"].count()} outliers com peso mais BAIXO que a normalidade')\n",
    "print(f'Há um total de: {df.loc[df[\"weight\"]>ls, \"id\"].count()} outliers com peso mais ALTO que a normalidade')"
   ]
  },
  {
   "cell_type": "code",
   "execution_count": 25,
   "id": "17e6ab0c",
   "metadata": {
    "ExecuteTime": {
     "end_time": "2022-01-02T19:39:49.605093Z",
     "start_time": "2022-01-02T19:39:49.512603Z"
    },
    "scrolled": false
   },
   "outputs": [
    {
     "data": {
      "image/png": "[encoded data removed]",
      "text/plain": [
       "<Figure size 432x288 with 1 Axes>"
      ]
     },
     "metadata": {
      "needs_background": "light"
     },
     "output_type": "display_data"
    }
   ],
   "source": [
    "sns.boxplot(data=df['weight'])\n",
    "plt.title('Quartis de Peso')\n",
    "plt.ylabel('Peso');"
   ]
  },
  {
   "cell_type": "code",
   "execution_count": 26,
   "id": "e0775a6f",
   "metadata": {
    "ExecuteTime": {
     "end_time": "2022-01-02T19:39:49.933603Z",
     "start_time": "2022-01-02T19:39:49.606120Z"
    }
   },
   "outputs": [
    {
     "data": {
      "image/png": "[encoded data removed]",
      "text/plain": [
       "<Figure size 432x288 with 1 Axes>"
      ]
     },
     "metadata": {
      "needs_background": "light"
     },
     "output_type": "display_data"
    }
   ],
   "source": [
    "sns.histplot(df.drop(outliers_indices)['weight'], bins=20, kde=True)\n",
    "plt.title('Distribuição de Peso')\n",
    "plt.xlabel('Peso')\n",
    "plt.ylabel('Contagem');"
   ]
  },
  {
   "cell_type": "code",
   "execution_count": 27,
   "id": "98e35837",
   "metadata": {
    "ExecuteTime": {
     "end_time": "2022-01-02T19:39:49.948965Z",
     "start_time": "2022-01-02T19:39:49.935066Z"
    },
    "scrolled": false
   },
   "outputs": [
    {
     "name": "stdout",
     "output_type": "stream",
     "text": [
      "Dados da feature: weight\n",
      "\n",
      "Máximo (max): 200.0\n",
      "Mínimo (min): 10.0\n",
      "Range (range): 190.0\n",
      "Média (mean): 74.20569\n",
      "Mediana (median): 72.0\n",
      "Desvio padrão (standard deviation): 14.39575667851138\n",
      "Curtose (kurtosis): 2.5868254500056223\n",
      "Assimetria (skew): 1.0120701082089065\n"
     ]
    }
   ],
   "source": [
    "desc_stats(df, 'weight')"
   ]
  },
  {
   "cell_type": "markdown",
   "id": "568380bb",
   "metadata": {},
   "source": [
    "## 2.4 Data Cleaning"
   ]
  },
  {
   "cell_type": "markdown",
   "id": "2333f58c",
   "metadata": {},
   "source": [
    "# 3.0 Feature Engineering"
   ]
  },
  {
   "cell_type": "markdown",
   "id": "35c64b58",
   "metadata": {},
   "source": [
    "# 4.0 Business Hypothesis"
   ]
  },
  {
   "cell_type": "markdown",
   "id": "88b97e53",
   "metadata": {},
   "source": [
    "# 5.0 Exploratory Data Analysis"
   ]
  },
  {
   "cell_type": "markdown",
   "id": "1102641e",
   "metadata": {},
   "source": [
    "# 6.0 Data Preparation"
   ]
  },
  {
   "cell_type": "code",
   "execution_count": 51,
   "id": "4433e0db",
   "metadata": {
    "ExecuteTime": {
     "end_time": "2022-01-02T19:46:55.972326Z",
     "start_time": "2022-01-02T19:46:55.945762Z"
    }
   },
   "outputs": [],
   "source": [
    "X = df.drop(features_remover+features_target, axis=1)\n",
    "X = np.array(X)\n",
    "y = df[features_target]\n",
    "y = np.array(y).reshape(1, len(y))[0]"
   ]
  },
  {
   "cell_type": "code",
   "execution_count": 52,
   "id": "fb6036c2",
   "metadata": {
    "ExecuteTime": {
     "end_time": "2022-01-02T19:46:59.498902Z",
     "start_time": "2022-01-02T19:46:59.480962Z"
    }
   },
   "outputs": [],
   "source": [
    "X = np.array(X)"
   ]
  },
  {
   "cell_type": "code",
   "execution_count": 53,
   "id": "caf8c460",
   "metadata": {
    "ExecuteTime": {
     "end_time": "2022-01-02T19:47:01.045105Z",
     "start_time": "2022-01-02T19:47:01.023988Z"
    }
   },
   "outputs": [],
   "source": [
    "X_train, X_test, y_train, y_test = train_test_split(X, y, test_size=0.3)"
   ]
  },
  {
   "cell_type": "code",
   "execution_count": 54,
   "id": "6e104f10",
   "metadata": {
    "ExecuteTime": {
     "end_time": "2022-01-02T19:47:02.686942Z",
     "start_time": "2022-01-02T19:47:02.666029Z"
    }
   },
   "outputs": [],
   "source": [
    "scaler = StandardScaler()\n",
    "\n",
    "scaler = scaler.fit(X_train)\n",
    "\n",
    "X_train = scaler.transform(X_train)\n",
    "X_test = scaler.transform(X_test)"
   ]
  },
  {
   "cell_type": "markdown",
   "id": "cf7e37ad",
   "metadata": {},
   "source": [
    "# 7.0 Machine Learning"
   ]
  },
  {
   "cell_type": "markdown",
   "id": "aa890a5a",
   "metadata": {},
   "source": [
    "###### Model description"
   ]
  },
  {
   "cell_type": "code",
   "execution_count": 55,
   "id": "ad5f2a79",
   "metadata": {
    "ExecuteTime": {
     "end_time": "2022-01-02T19:47:05.060756Z",
     "start_time": "2022-01-02T19:47:05.044994Z"
    }
   },
   "outputs": [],
   "source": [
    "rf_model = RandomForestClassifier()"
   ]
  },
  {
   "cell_type": "markdown",
   "id": "9d44be48",
   "metadata": {},
   "source": [
    "###### Fiting model"
   ]
  },
  {
   "cell_type": "code",
   "execution_count": 56,
   "id": "cd2a8a63",
   "metadata": {
    "ExecuteTime": {
     "end_time": "2022-01-02T19:47:11.729833Z",
     "start_time": "2022-01-02T19:47:06.751322Z"
    }
   },
   "outputs": [],
   "source": [
    "rf_fit = rf_model.fit(X_train, y_train)"
   ]
  },
  {
   "cell_type": "markdown",
   "id": "b69cfb9f",
   "metadata": {},
   "source": [
    "###### Predicts"
   ]
  },
  {
   "cell_type": "code",
   "execution_count": 57,
   "id": "9684a2ef",
   "metadata": {
    "ExecuteTime": {
     "end_time": "2022-01-02T19:47:15.283336Z",
     "start_time": "2022-01-02T19:47:14.727392Z"
    }
   },
   "outputs": [],
   "source": [
    "rf_predict = rf_fit.predict(X_test)"
   ]
  },
  {
   "cell_type": "markdown",
   "id": "7af844f0",
   "metadata": {},
   "source": [
    "###### Metrics"
   ]
  },
  {
   "cell_type": "code",
   "execution_count": 58,
   "id": "d03789a9",
   "metadata": {
    "ExecuteTime": {
     "end_time": "2022-01-02T19:47:17.674620Z",
     "start_time": "2022-01-02T19:47:17.629603Z"
    },
    "scrolled": true
   },
   "outputs": [
    {
     "name": "stdout",
     "output_type": "stream",
     "text": [
      "              precision    recall  f1-score   support\n",
      "\n",
      "           0       0.71      0.73      0.72     10525\n",
      "           1       0.72      0.71      0.71     10475\n",
      "\n",
      "    accuracy                           0.72     21000\n",
      "   macro avg       0.72      0.72      0.72     21000\n",
      "weighted avg       0.72      0.72      0.72     21000\n",
      "\n"
     ]
    }
   ],
   "source": [
    "print(classification_report(y_test, rf_predict))"
   ]
  },
  {
   "cell_type": "markdown",
   "id": "9e774926",
   "metadata": {},
   "source": [
    "# 8.0 Results and Conclusions"
   ]
  },
  {
   "cell_type": "markdown",
   "id": "f2c20cd8",
   "metadata": {},
   "source": [
    "# Time"
   ]
  },
  {
   "cell_type": "code",
   "execution_count": 50,
   "id": "2aa0cbe6",
   "metadata": {
    "ExecuteTime": {
     "end_time": "2022-01-02T19:44:56.202913Z",
     "start_time": "2022-01-02T19:44:56.189215Z"
    }
   },
   "outputs": [
    {
     "name": "stdout",
     "output_type": "stream",
     "text": [
      "O tempo de processamento do projeto foi de: 2 minutos\n"
     ]
    }
   ],
   "source": [
    "print(f'O tempo de processamento do projeto foi de: {int(round(time.time()-tempo_agora, 2)/60)} minutos')"
   ]
  }
 ],
 "metadata": {
  "kernelspec": {
   "display_name": "Python 3 (ipykernel)",
   "language": "python",
   "name": "python3"
  },
  "language_info": {
   "codemirror_mode": {
    "name": "ipython",
    "version": 3
   },
   "file_extension": ".py",
   "mimetype": "text/x-python",
   "name": "python",
   "nbconvert_exporter": "python",
   "pygments_lexer": "ipython3",
   "version": "3.9.7"
  }
 },
 "nbformat": 4,
 "nbformat_minor": 5
}
